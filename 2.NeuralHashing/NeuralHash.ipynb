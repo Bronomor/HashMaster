{
 "cells": [
  {
   "cell_type": "code",
   "execution_count": 28,
   "id": "c45002bd-1d7b-4d8d-92b7-416ade55f874",
   "metadata": {},
   "outputs": [],
   "source": [
    "### check image resize cifar 10\n",
    "#https://pytorch.org/tutorials/beginner/blitz/cifar10_tutorial.html"
   ]
  },
  {
   "cell_type": "markdown",
   "id": "95f517df-0b69-4cc2-9f7d-a0a52c4cad2d",
   "metadata": {},
   "source": [
    "### Torch Tutorial Cifar-10"
   ]
  },
  {
   "cell_type": "code",
   "execution_count": 1,
   "id": "908510cd-7bf2-4793-88cb-6ed174ee2ec6",
   "metadata": {},
   "outputs": [],
   "source": [
    "import torch\n",
    "import torchvision\n",
    "import torchvision.transforms as transforms"
   ]
  },
  {
   "cell_type": "code",
   "execution_count": 16,
   "id": "d52f82dd-d9b1-4221-930d-83a3eb83a0c2",
   "metadata": {},
   "outputs": [
    {
     "name": "stdout",
     "output_type": "stream",
     "text": [
      "Files already downloaded and verified\n",
      "Files already downloaded and verified\n"
     ]
    }
   ],
   "source": [
    "transform = transforms.Compose(\n",
    "    [transforms.ToTensor(),\n",
    "     transforms.Normalize((0.5, 0.5, 0.5), (0.5, 0.5, 0.5))])\n",
    "\n",
    "batch_size = 4\n",
    "\n",
    "trainset = torchvision.datasets.CIFAR10(root=\"./../data/\", train=True,\n",
    "                                        download=True, transform=transform)\n",
    "trainloader = torch.utils.data.DataLoader(trainset, batch_size=batch_size,\n",
    "                                          shuffle=True, num_workers=2)\n",
    "\n",
    "testset = torchvision.datasets.CIFAR10(root=\"./../data/\", train=False,\n",
    "                                       download=True, transform=transform)\n",
    "testloader = torch.utils.data.DataLoader(testset, batch_size=batch_size,\n",
    "                                         shuffle=False, num_workers=2)\n",
    "\n",
    "\n",
    "classes = ('plane', 'car', 'bird', 'cat',\n",
    "           'deer', 'dog', 'frog', 'horse', 'ship', 'truck')"
   ]
  },
  {
   "cell_type": "code",
   "execution_count": 17,
   "id": "3a8b81fd-72dc-42bc-abf7-9aceebc9a284",
   "metadata": {},
   "outputs": [
    {
     "data": {
      "image/png": "[encoded data removed]",
      "text/plain": [
       "<Figure size 640x480 with 1 Axes>"
      ]
     },
     "metadata": {},
     "output_type": "display_data"
    },
    {
     "name": "stdout",
     "output_type": "stream",
     "text": [
      "ship  cat   bird  dog  \n"
     ]
    }
   ],
   "source": [
    "import matplotlib.pyplot as plt\n",
    "import numpy as np\n",
    "\n",
    "# functions to show an image\n",
    "\n",
    "\n",
    "def imshow(img):\n",
    "    img = img / 2 + 0.5     # unnormalize\n",
    "    npimg = img.numpy()\n",
    "    plt.imshow(np.transpose(npimg, (1, 2, 0)))\n",
    "    plt.show()\n",
    "\n",
    "\n",
    "# get some random training images\n",
    "dataiter = iter(trainloader)\n",
    "images, labels = next(dataiter)\n",
    "\n",
    "# show images\n",
    "imshow(torchvision.utils.make_grid(images))\n",
    "# print labels\n",
    "print(' '.join(f'{classes[labels[j]]:5s}' for j in range(batch_size)))"
   ]
  },
  {
   "cell_type": "code",
   "execution_count": 18,
   "id": "8e36b5ba-034d-4512-b47e-b9408804eb6a",
   "metadata": {},
   "outputs": [],
   "source": [
    "import torch.nn as nn\n",
    "import torch.nn.functional as F\n",
    "\n",
    "\n",
    "class Net(nn.Module):\n",
    "    def __init__(self):\n",
    "        super().__init__()\n",
    "        self.conv1 = nn.Conv2d(3, 6, 5)\n",
    "        self.pool = nn.MaxPool2d(2, 2)\n",
    "        self.conv2 = nn.Conv2d(6, 16, 5)\n",
    "        self.fc1 = nn.Linear(16 * 5 * 5, 120)\n",
    "        self.fc2 = nn.Linear(120, 84)\n",
    "        self.fc3 = nn.Linear(84, 10)\n",
    "\n",
    "    def forward(self, x):\n",
    "        x = self.pool(F.relu(self.conv1(x)))\n",
    "        x = self.pool(F.relu(self.conv2(x)))\n",
    "        x = torch.flatten(x, 1) # flatten all dimensions except batch\n",
    "        x = F.relu(self.fc1(x))\n",
    "        x = F.relu(self.fc2(x))\n",
    "        x = self.fc3(x)\n",
    "        return x\n",
    "\n",
    "\n",
    "net = Net()\n"
   ]
  },
  {
   "cell_type": "code",
   "execution_count": 19,
   "id": "097784b5-3ee4-45e8-8d82-1483f272496e",
   "metadata": {},
   "outputs": [],
   "source": [
    "import torch.optim as optim\n",
    "\n",
    "criterion = nn.CrossEntropyLoss()\n",
    "optimizer = optim.SGD(net.parameters(), lr=0.001, momentum=0.9)"
   ]
  },
  {
   "cell_type": "code",
   "execution_count": 20,
   "id": "1503a3e5-b790-4b98-ba64-e67ad528bff4",
   "metadata": {},
   "outputs": [
    {
     "name": "stdout",
     "output_type": "stream",
     "text": [
      "[1,  2000] loss: 2.220\n",
      "[1,  4000] loss: 1.923\n",
      "[1,  6000] loss: 1.737\n",
      "[1,  8000] loss: 1.611\n",
      "[1, 10000] loss: 1.548\n",
      "[1, 12000] loss: 1.506\n",
      "[2,  2000] loss: 1.430\n",
      "[2,  4000] loss: 1.379\n",
      "[2,  6000] loss: 1.371\n",
      "[2,  8000] loss: 1.337\n",
      "[2, 10000] loss: 1.311\n",
      "[2, 12000] loss: 1.302\n",
      "Finished Training\n"
     ]
    }
   ],
   "source": [
    "for epoch in range(2):  # loop over the dataset multiple times\n",
    "\n",
    "    running_loss = 0.0\n",
    "    for i, data in enumerate(trainloader, 0):\n",
    "        # get the inputs; data is a list of [inputs, labels]\n",
    "        inputs, labels = data\n",
    "\n",
    "        # zero the parameter gradients\n",
    "        optimizer.zero_grad()\n",
    "\n",
    "        # forward + backward + optimize\n",
    "        outputs = net(inputs)\n",
    "        loss = criterion(outputs, labels)\n",
    "        loss.backward()\n",
    "        optimizer.step()\n",
    "\n",
    "        # print statistics\n",
    "        running_loss += loss.item()\n",
    "        if i % 2000 == 1999:    # print every 2000 mini-batches\n",
    "            print(f'[{epoch + 1}, {i + 1:5d}] loss: {running_loss / 2000:.3f}')\n",
    "            running_loss = 0.0\n",
    "\n",
    "print('Finished Training')"
   ]
  },
  {
   "cell_type": "code",
   "execution_count": 21,
   "id": "3f88242c-377f-43dd-821f-c38bc1b0d541",
   "metadata": {},
   "outputs": [],
   "source": [
    "PATH = './cifar_net.pth'\n",
    "torch.save(net.state_dict(), PATH)"
   ]
  },
  {
   "cell_type": "code",
   "execution_count": 22,
   "id": "42909c0c-ed3f-4696-854a-5bd5d4ca4455",
   "metadata": {},
   "outputs": [
    {
     "data": {
      "image/png": "[encoded data removed]",
      "text/plain": [
       "<Figure size 640x480 with 1 Axes>"
      ]
     },
     "metadata": {},
     "output_type": "display_data"
    },
    {
     "name": "stdout",
     "output_type": "stream",
     "text": [
      "GroundTruth:  cat   ship  ship  plane\n"
     ]
    }
   ],
   "source": [
    "dataiter = iter(testloader)\n",
    "images, labels = next(dataiter)\n",
    "\n",
    "# print images\n",
    "imshow(torchvision.utils.make_grid(images))\n",
    "print('GroundTruth: ', ' '.join(f'{classes[labels[j]]:5s}' for j in range(4)))"
   ]
  },
  {
   "cell_type": "code",
   "execution_count": 23,
   "id": "2b6923bd-8b03-4469-b12a-d1f7dbf56851",
   "metadata": {},
   "outputs": [
    {
     "data": {
      "text/plain": [
       "<All keys matched successfully>"
      ]
     },
     "execution_count": 23,
     "metadata": {},
     "output_type": "execute_result"
    }
   ],
   "source": [
    "net = Net()\n",
    "net.load_state_dict(torch.load(PATH))\n"
   ]
  },
  {
   "cell_type": "code",
   "execution_count": 24,
   "id": "0350d9a2-5864-4d49-882d-8e55a947c7ce",
   "metadata": {},
   "outputs": [],
   "source": [
    "outputs = net(images)"
   ]
  },
  {
   "cell_type": "code",
   "execution_count": 25,
   "id": "1469560b-ce1c-471b-8638-4fd4571f93a2",
   "metadata": {},
   "outputs": [
    {
     "name": "stdout",
     "output_type": "stream",
     "text": [
      "Predicted:  dog   car   car   plane\n"
     ]
    }
   ],
   "source": [
    "_, predicted = torch.max(outputs, 1)\n",
    "\n",
    "print('Predicted: ', ' '.join(f'{classes[predicted[j]]:5s}'\n",
    "                              for j in range(4)))"
   ]
  },
  {
   "cell_type": "code",
   "execution_count": 26,
   "id": "3138b434-594f-4bd4-b417-c74da7dd40f7",
   "metadata": {},
   "outputs": [
    {
     "name": "stdout",
     "output_type": "stream",
     "text": [
      "Accuracy of the network on the 10000 test images: 54 %\n"
     ]
    }
   ],
   "source": [
    "correct = 0\n",
    "total = 0\n",
    "# since we're not training, we don't need to calculate the gradients for our outputs\n",
    "with torch.no_grad():\n",
    "    for data in testloader:\n",
    "        images, labels = data\n",
    "        # calculate outputs by running images through the network\n",
    "        outputs = net(images)\n",
    "        # the class with the highest energy is what we choose as prediction\n",
    "        _, predicted = torch.max(outputs.data, 1)\n",
    "        total += labels.size(0)\n",
    "        correct += (predicted == labels).sum().item()\n",
    "\n",
    "print(f'Accuracy of the network on the 10000 test images: {100 * correct // total} %')"
   ]
  },
  {
   "cell_type": "code",
   "execution_count": 27,
   "id": "ecd272bb-296e-4560-a53f-a088eb242fb9",
   "metadata": {},
   "outputs": [
    {
     "name": "stdout",
     "output_type": "stream",
     "text": [
      "Accuracy for class: plane is 57.1 %\n",
      "Accuracy for class: car   is 60.1 %\n",
      "Accuracy for class: bird  is 26.1 %\n",
      "Accuracy for class: cat   is 24.4 %\n",
      "Accuracy for class: deer  is 46.9 %\n",
      "Accuracy for class: dog   is 62.3 %\n",
      "Accuracy for class: frog  is 71.6 %\n",
      "Accuracy for class: horse is 58.9 %\n",
      "Accuracy for class: ship  is 61.5 %\n",
      "Accuracy for class: truck is 76.5 %\n"
     ]
    }
   ],
   "source": [
    "# prepare to count predictions for each class\n",
    "correct_pred = {classname: 0 for classname in classes}\n",
    "total_pred = {classname: 0 for classname in classes}\n",
    "\n",
    "# again no gradients needed\n",
    "with torch.no_grad():\n",
    "    for data in testloader:\n",
    "        images, labels = data\n",
    "        outputs = net(images)\n",
    "        _, predictions = torch.max(outputs, 1)\n",
    "        # collect the correct predictions for each class\n",
    "        for label, prediction in zip(labels, predictions):\n",
    "            if label == prediction:\n",
    "                correct_pred[classes[label]] += 1\n",
    "            total_pred[classes[label]] += 1\n",
    "\n",
    "\n",
    "# print accuracy for each class\n",
    "for classname, correct_count in correct_pred.items():\n",
    "    accuracy = 100 * float(correct_count) / total_pred[classname]\n",
    "    print(f'Accuracy for class: {classname:5s} is {accuracy:.1f} %')"
   ]
  },
  {
   "cell_type": "code",
   "execution_count": 28,
   "id": "7cd5658e-ff04-4953-8550-49ef41cdca47",
   "metadata": {},
   "outputs": [
    {
     "name": "stdout",
     "output_type": "stream",
     "text": [
      "cuda:0\n"
     ]
    }
   ],
   "source": [
    "device = torch.device('cuda:0' if torch.cuda.is_available() else 'cpu')\n",
    "\n",
    "# Assuming that we are on a CUDA machine, this should print a CUDA device:\n",
    "\n",
    "print(device)\n"
   ]
  },
  {
   "cell_type": "code",
   "execution_count": 29,
   "id": "1c796922-da0f-4178-baee-63d9b8c0d7b3",
   "metadata": {},
   "outputs": [
    {
     "data": {
      "text/plain": [
       "Net(\n",
       "  (conv1): Conv2d(3, 6, kernel_size=(5, 5), stride=(1, 1))\n",
       "  (pool): MaxPool2d(kernel_size=2, stride=2, padding=0, dilation=1, ceil_mode=False)\n",
       "  (conv2): Conv2d(6, 16, kernel_size=(5, 5), stride=(1, 1))\n",
       "  (fc1): Linear(in_features=400, out_features=120, bias=True)\n",
       "  (fc2): Linear(in_features=120, out_features=84, bias=True)\n",
       "  (fc3): Linear(in_features=84, out_features=10, bias=True)\n",
       ")"
      ]
     },
     "execution_count": 29,
     "metadata": {},
     "output_type": "execute_result"
    }
   ],
   "source": [
    "net.to(device)"
   ]
  },
  {
   "cell_type": "code",
   "execution_count": 30,
   "id": "5c7ba871-4063-4b96-aa53-527382a3d89e",
   "metadata": {},
   "outputs": [],
   "source": [
    "inputs, labels = data[0].to(device), data[1].to(device)"
   ]
  },
  {
   "cell_type": "code",
   "execution_count": null,
   "id": "ddda8a09-310d-452d-925a-7d49206bcb15",
   "metadata": {},
   "outputs": [],
   "source": []
  },
  {
   "cell_type": "code",
   "execution_count": null,
   "id": "13a0efbe-008a-48d6-896b-d5d6fe2f03f2",
   "metadata": {},
   "outputs": [],
   "source": []
  },
  {
   "cell_type": "markdown",
   "id": "600c0c69-6b98-4d7e-87ce-e5c5a44d6b67",
   "metadata": {},
   "source": [
    "### Check Cifar Data Loading and resize ( Torch )"
   ]
  },
  {
   "cell_type": "code",
   "execution_count": 2,
   "id": "44ce2d1c-4ce6-4b98-885e-48f43c04a7b7",
   "metadata": {},
   "outputs": [],
   "source": [
    "torch.set_default_device(\"cpu\")"
   ]
  },
  {
   "cell_type": "code",
   "execution_count": 3,
   "id": "29d132ca-a595-481a-985e-aa87cacad96f",
   "metadata": {},
   "outputs": [],
   "source": [
    "x0 = torch.randn(torch.Size([1000, 3, 32, 32]))"
   ]
  },
  {
   "cell_type": "code",
   "execution_count": 4,
   "id": "b0e41baf-b136-4488-b023-48637b84a7a0",
   "metadata": {},
   "outputs": [],
   "source": [
    "resize = transforms.Resize((9, 8), interpolation=torchvision.transforms.InterpolationMode.NEAREST)"
   ]
  },
  {
   "cell_type": "code",
   "execution_count": 5,
   "id": "e1e0e4b3-5e34-4aff-90b0-9c94279f259f",
   "metadata": {},
   "outputs": [
    {
     "name": "stdout",
     "output_type": "stream",
     "text": [
      "time:  0.07083773612976074\n"
     ]
    }
   ],
   "source": [
    "import time\n",
    "\n",
    "start = time.time()\n",
    "\n",
    "torch_resize_out = resize(x0)\n",
    "\n",
    "end = time.time()\n",
    "print( \"time: \", end - start )"
   ]
  },
  {
   "cell_type": "code",
   "execution_count": 6,
   "id": "8676618f-5caa-4aa2-a70b-8748019eb564",
   "metadata": {},
   "outputs": [
    {
     "data": {
      "text/plain": [
       "torch.Size([1000, 3, 9, 8])"
      ]
     },
     "execution_count": 6,
     "metadata": {},
     "output_type": "execute_result"
    }
   ],
   "source": [
    "torch_resize_out.shape"
   ]
  },
  {
   "cell_type": "code",
   "execution_count": 7,
   "id": "14c7808a-0589-4957-bee0-1e4abae42658",
   "metadata": {},
   "outputs": [],
   "source": [
    "torch.set_default_device(\"cuda\")"
   ]
  },
  {
   "cell_type": "code",
   "execution_count": 8,
   "id": "d1a188d8-b4f7-4774-aa9a-715f81cb2093",
   "metadata": {},
   "outputs": [
    {
     "name": "stdout",
     "output_type": "stream",
     "text": [
      "time:  0.008066415786743164\n"
     ]
    }
   ],
   "source": [
    "start = time.time()\n",
    "\n",
    "torch_resize_out = resize(x0)\n",
    "\n",
    "end = time.time()\n",
    "print( \"time: \", end - start )"
   ]
  },
  {
   "cell_type": "markdown",
   "id": "484cc215-0034-4f73-87ec-18ad9c567d20",
   "metadata": {},
   "source": [
    "### Check Cifar Data Loading and resize ( CuPy )"
   ]
  },
  {
   "cell_type": "code",
   "execution_count": 13,
   "id": "b113c1e8-8c62-4d95-9833-1602f7c7d8d4",
   "metadata": {},
   "outputs": [],
   "source": [
    "#!pip install cupy-cuda12x"
   ]
  },
  {
   "cell_type": "code",
   "execution_count": 23,
   "id": "eb36ed10-911e-4faa-be95-92cef18237c2",
   "metadata": {},
   "outputs": [],
   "source": [
    "import numpy as np\n",
    "import cupy as cp"
   ]
  },
  {
   "cell_type": "code",
   "execution_count": 24,
   "id": "e376eb70-9090-4507-8630-99cb781446f5",
   "metadata": {},
   "outputs": [],
   "source": [
    "x_on_gpu0 = cp.array([1, 2, 3, 4, 5])"
   ]
  },
  {
   "cell_type": "code",
   "execution_count": 25,
   "id": "80253eb9-14cb-4f3a-ad89-14fadd322dad",
   "metadata": {},
   "outputs": [],
   "source": [
    "#shapes = (1000,3,32,32)\n",
    "_on_gpu1 = cp.random.rand(3072000, dtype=np.float32)"
   ]
  },
  {
   "cell_type": "code",
   "execution_count": 26,
   "id": "b3aa3c0a-fbd2-422d-894a-7d69927829c0",
   "metadata": {},
   "outputs": [
    {
     "name": "stdout",
     "output_type": "stream",
     "text": [
      "0.0002162456512451172\n"
     ]
    }
   ],
   "source": [
    "import time\n",
    "start = time.time()\n",
    "\n",
    "on_gpu1_32 = cp.resize(_on_gpu1, (1000,3,32,32))\n",
    "\n",
    "end = time.time()\n",
    "print(end - start)"
   ]
  },
  {
   "cell_type": "code",
   "execution_count": 32,
   "id": "d34de580-bfb1-4a4c-814a-a73ed01ce004",
   "metadata": {},
   "outputs": [
    {
     "name": "stdout",
     "output_type": "stream",
     "text": [
      "0.0004410743713378906\n"
     ]
    }
   ],
   "source": [
    "start = time.time()\n",
    "\n",
    "on_gpu1_3 = cp.resize(on_gpu1_32, (1000,3,8,9))\n",
    "\n",
    "end = time.time()\n",
    "print(end - start)"
   ]
  },
  {
   "cell_type": "code",
   "execution_count": 17,
   "id": "b3127390-4cb4-416b-96b2-51fc97cdebe9",
   "metadata": {},
   "outputs": [
    {
     "name": "stdout",
     "output_type": "stream",
     "text": [
      "(5,)\n",
      "(3072000,)\n",
      "(1000, 3, 32, 32)\n",
      "(1000, 3, 8, 9)\n"
     ]
    }
   ],
   "source": [
    "print(x_on_gpu0.shape)\n",
    "print(_on_gpu1.shape)\n",
    "print(on_gpu1_32.shape)\n",
    "print(on_gpu1_3.shape)"
   ]
  },
  {
   "cell_type": "code",
   "execution_count": null,
   "id": "7fe39b8a-d976-4b1c-aa9e-8735731e9f0e",
   "metadata": {},
   "outputs": [],
   "source": []
  }
 ],
 "metadata": {
  "kernelspec": {
   "display_name": "Python 3 (ipykernel)",
   "language": "python",
   "name": "python3"
  },
  "language_info": {
   "codemirror_mode": {
    "name": "ipython",
    "version": 3
   },
   "file_extension": ".py",
   "mimetype": "text/x-python",
   "name": "python",
   "nbconvert_exporter": "python",
   "pygments_lexer": "ipython3",
   "version": "3.10.12"
  }
 },
 "nbformat": 4,
 "nbformat_minor": 5
}
