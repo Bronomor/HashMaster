{
 "cells": [
  {
   "cell_type": "markdown",
   "id": "7411fd33-348c-445b-ac13-c5247217fb85",
   "metadata": {},
   "source": [
    "## 1. Create a Image Hash."
   ]
  },
  {
   "cell_type": "markdown",
   "id": "65d03ddb-d3e2-4e6e-86c0-8bbc19dc4f7b",
   "metadata": {},
   "source": [
    "### Idea from https://github.com/mendesk/image-ndd-lsh"
   ]
  },
  {
   "cell_type": "code",
   "execution_count": 5,
   "id": "c917085e-e99e-49fd-8ff9-1ce62178ecaf",
   "metadata": {},
   "outputs": [
    {
     "name": "stdout",
     "output_type": "stream",
     "text": [
      "Requirement already satisfied: imagehash in /usr/local/lib/python3.10/dist-packages (4.3.1)\n",
      "Requirement already satisfied: Image in /usr/local/lib/python3.10/dist-packages (1.5.33)\n",
      "Requirement already satisfied: PyWavelets in /usr/local/lib/python3.10/dist-packages (from imagehash) (1.6.0)\n",
      "Requirement already satisfied: pillow in /usr/local/lib/python3.10/dist-packages (from imagehash) (10.3.0)\n",
      "Requirement already satisfied: scipy in /usr/local/lib/python3.10/dist-packages (from imagehash) (1.13.0)\n",
      "Requirement already satisfied: numpy in /usr/local/lib/python3.10/dist-packages (from imagehash) (1.26.4)\n",
      "Requirement already satisfied: six in /usr/lib/python3/dist-packages (from Image) (1.16.0)\n",
      "Requirement already satisfied: django in /usr/local/lib/python3.10/dist-packages (from Image) (5.0.4)\n",
      "Requirement already satisfied: sqlparse>=0.3.1 in /usr/local/lib/python3.10/dist-packages (from django->Image) (0.5.0)\n",
      "Requirement already satisfied: asgiref<4,>=3.7.0 in /usr/local/lib/python3.10/dist-packages (from django->Image) (3.8.1)\n",
      "Requirement already satisfied: typing-extensions>=4 in /usr/local/lib/python3.10/dist-packages (from asgiref<4,>=3.7.0->django->Image) (4.11.0)\n",
      "\u001b[33mWARNING: Running pip as the 'root' user can result in broken permissions and conflicting behaviour with the system package manager. It is recommended to use a virtual environment instead: https://pip.pypa.io/warnings/venv\u001b[0m\u001b[33m\n",
      "\u001b[0m"
     ]
    }
   ],
   "source": [
    "!python3 -m pip install imagehash Image"
   ]
  },
  {
   "cell_type": "code",
   "execution_count": 9,
   "id": "ee05fe27-e470-4269-b877-d62849b95753",
   "metadata": {},
   "outputs": [],
   "source": [
    "import imagehash\n",
    "from PIL import Image\n",
    "import numpy as np"
   ]
  },
  {
   "cell_type": "markdown",
   "id": "9fd73216-4864-4c53-aa30-8153c8ea436f",
   "metadata": {},
   "source": [
    "Article -> https://pypi.org/project/ImageHash/\n",
    "dhash -> difference hash"
   ]
  },
  {
   "cell_type": "code",
   "execution_count": 10,
   "id": "1b590d17-45a3-4e50-8c7a-524d752d2011",
   "metadata": {},
   "outputs": [],
   "source": [
    "def calculate_signature(image_file: str, hash_size: int) -> np.ndarray:\n",
    "    pil_image = Image.open(image_file).convert(\"L\").resize(\n",
    "                        (hash_size+1, hash_size),\n",
    "                        Image.LANCZOS)\n",
    "    dhash = imagehash.dhash(pil_image, hash_size)\n",
    "    signature = dhash.hash.flatten()\n",
    "    pil_image.close()\n",
    "    return signature"
   ]
  },
  {
   "cell_type": "code",
   "execution_count": 66,
   "id": "39d5612b-ff12-4655-9186-51d24c774da7",
   "metadata": {},
   "outputs": [],
   "source": [
    "def calculate_signature_np(image_file: np.array, hash_size: int) -> np.ndarray:\n",
    "    pil_image = Image.fromarray(image_file).resize(\n",
    "                        (hash_size+1, hash_size),\n",
    "                        Image.LANCZOS)\n",
    "    dhash = imagehash.dhash(pil_image, hash_size)\n",
    "    signature = dhash.hash.flatten()\n",
    "    pil_image.close()\n",
    "    return signature"
   ]
  },
  {
   "cell_type": "markdown",
   "id": "1eacdfd0-31df-4b88-aa49-f51a2c13ab17",
   "metadata": {},
   "source": [
    "## 2. Create LSH algorithm"
   ]
  },
  {
   "cell_type": "markdown",
   "id": "324ed858-807f-495f-9ea9-8fd9a5cfb229",
   "metadata": {},
   "source": [
    "### 2.1 Get the dataset"
   ]
  },
  {
   "cell_type": "code",
   "execution_count": 18,
   "id": "0116c047-3da9-436b-816d-3207f03129a5",
   "metadata": {},
   "outputs": [
    {
     "name": "stdout",
     "output_type": "stream",
     "text": [
      "--2024-04-20 11:37:01--  https://www.cs.toronto.edu/~kriz/cifar-10-python.tar.gz\n",
      "Resolving www.cs.toronto.edu (www.cs.toronto.edu)... 128.100.3.30\n",
      "Connecting to www.cs.toronto.edu (www.cs.toronto.edu)|128.100.3.30|:443... connected.\n",
      "HTTP request sent, awaiting response... 416 Requested Range Not Satisfiable\n",
      "\n",
      "    The file is already fully retrieved; nothing to do.\n",
      "\n"
     ]
    }
   ],
   "source": [
    "#!apt-get install wget\n",
    "!wget -c https://www.cs.toronto.edu/~kriz/cifar-10-python.tar.gz"
   ]
  },
  {
   "cell_type": "code",
   "execution_count": 17,
   "id": "b401290f-7575-4fec-ae16-0afd09585c8f",
   "metadata": {},
   "outputs": [
    {
     "name": "stdout",
     "output_type": "stream",
     "text": [
      "cifar-10-batches-py/\n",
      "cifar-10-batches-py/data_batch_4\n",
      "cifar-10-batches-py/readme.html\n",
      "cifar-10-batches-py/test_batch\n",
      "cifar-10-batches-py/data_batch_3\n",
      "cifar-10-batches-py/batches.meta\n",
      "cifar-10-batches-py/data_batch_2\n",
      "cifar-10-batches-py/data_batch_5\n",
      "cifar-10-batches-py/data_batch_1\n"
     ]
    }
   ],
   "source": [
    "!tar -xvzf cifar-10-python.tar.gz"
   ]
  },
  {
   "cell_type": "code",
   "execution_count": 19,
   "id": "efb0f693-e296-4bdf-a5bb-2809f4b9867c",
   "metadata": {},
   "outputs": [],
   "source": [
    "#!rm -rf cifar-10-python.tar.gz\n",
    "#!mv cifar-10-batches-py ../data"
   ]
  },
  {
   "cell_type": "markdown",
   "id": "1431322e-d310-4601-846d-e8e25dd1581a",
   "metadata": {},
   "source": [
    "### 2.2 Read the files"
   ]
  },
  {
   "cell_type": "code",
   "execution_count": 25,
   "id": "5d90faf6-3951-4eac-8c85-70665e63c65b",
   "metadata": {},
   "outputs": [],
   "source": [
    "import os\n",
    "import _pickle as cPickle"
   ]
  },
  {
   "cell_type": "code",
   "execution_count": 26,
   "id": "f309fd1f-4880-418c-94e8-8599f46d31af",
   "metadata": {},
   "outputs": [],
   "source": [
    "PATH = \"../data/cifar-10-batches-py/\""
   ]
  },
  {
   "cell_type": "markdown",
   "id": "5186345d-31c1-44d7-a0a9-b95ddfa24745",
   "metadata": {},
   "source": [
    "#### 2.2.1 Load Cifar-10"
   ]
  },
  {
   "cell_type": "code",
   "execution_count": 29,
   "id": "73838cf8-eb10-4dfe-90e7-f7f41db086d6",
   "metadata": {},
   "outputs": [],
   "source": [
    "def load_batch():\n",
    "    file = 'data_batch_1'\n",
    "\n",
    "    f = open(PATH+file, 'rb')\n",
    "    dict = cPickle.load(f, encoding='latin1')\n",
    "    images = dict['data']\n",
    "    #images = np.reshape(images, (10000, 3, 32, 32))\n",
    "    labels = dict['labels']\n",
    "    imagearray = np.array(images)   #   (10000, 3072)\n",
    "    labelarray = np.array(labels)   #   (10000,)\n",
    "    \n",
    "    return imagearray, labelarray"
   ]
  },
  {
   "cell_type": "code",
   "execution_count": 40,
   "id": "52753de3-09bb-4d43-89ce-92b59784f045",
   "metadata": {},
   "outputs": [
    {
     "name": "stdout",
     "output_type": "stream",
     "text": [
      "0 : airplane  \n",
      "1 : automobile  \n",
      "2 : bird  \n",
      "3 : cat  \n",
      "4 : deer  \n",
      "5 : dog  \n",
      "6 : frog  \n",
      "7 : horse  \n",
      "8 : ship  \n",
      "9 : truck  \n"
     ]
    }
   ],
   "source": [
    "def load_classes():\n",
    "    file = 'batches.meta'\n",
    "    \n",
    "    f = open(PATH+file, 'rb')\n",
    "    dict = cPickle.load(f)\n",
    "    return dict['label_names']\n",
    "\n",
    "def print_classes(label_names):\n",
    "    for i in range(0, 10):\n",
    "        print(str(i) + \" : \" + label_names[i] + \"  \")\n",
    "\n",
    "label_names = load_classes()\n",
    "print_classes(label_names)"
   ]
  },
  {
   "cell_type": "code",
   "execution_count": 31,
   "id": "89936bcb-1805-4062-a900-6a691133528e",
   "metadata": {},
   "outputs": [],
   "source": [
    "images, labels = load_batch()"
   ]
  },
  {
   "cell_type": "code",
   "execution_count": 37,
   "id": "5f9d52ed-c5a8-420e-9977-8ec7387a0ede",
   "metadata": {},
   "outputs": [
    {
     "data": {
      "text/plain": [
       "(10000,)"
      ]
     },
     "execution_count": 37,
     "metadata": {},
     "output_type": "execute_result"
    }
   ],
   "source": [
    "labels.shape"
   ]
  },
  {
   "cell_type": "code",
   "execution_count": 56,
   "id": "e38f63db-8b67-40fc-b3b4-3b28d2493b5a",
   "metadata": {},
   "outputs": [],
   "source": [
    "image = np.reshape(images[0], (3, 32, 32))"
   ]
  },
  {
   "cell_type": "code",
   "execution_count": 57,
   "id": "b6d3564d-c457-4cef-a0c5-73536be5f1dc",
   "metadata": {},
   "outputs": [
    {
     "data": {
      "text/plain": [
       "array([[[ 59,  43,  50, ..., 158, 152, 148],\n",
       "        [ 16,   0,  18, ..., 123, 119, 122],\n",
       "        [ 25,  16,  49, ..., 118, 120, 109],\n",
       "        ...,\n",
       "        [208, 201, 198, ..., 160,  56,  53],\n",
       "        [180, 173, 186, ..., 184,  97,  83],\n",
       "        [177, 168, 179, ..., 216, 151, 123]],\n",
       "\n",
       "       [[ 62,  46,  48, ..., 132, 125, 124],\n",
       "        [ 20,   0,   8, ...,  88,  83,  87],\n",
       "        [ 24,   7,  27, ...,  84,  84,  73],\n",
       "        ...,\n",
       "        [170, 153, 161, ..., 133,  31,  34],\n",
       "        [139, 123, 144, ..., 148,  62,  53],\n",
       "        [144, 129, 142, ..., 184, 118,  92]],\n",
       "\n",
       "       [[ 63,  45,  43, ..., 108, 102, 103],\n",
       "        [ 20,   0,   0, ...,  55,  50,  57],\n",
       "        [ 21,   0,   8, ...,  50,  50,  42],\n",
       "        ...,\n",
       "        [ 96,  34,  26, ...,  70,   7,  20],\n",
       "        [ 96,  42,  30, ...,  94,  34,  34],\n",
       "        [116,  94,  87, ..., 140,  84,  72]]], dtype=uint8)"
      ]
     },
     "execution_count": 57,
     "metadata": {},
     "output_type": "execute_result"
    }
   ],
   "source": [
    "image"
   ]
  },
  {
   "cell_type": "code",
   "execution_count": 63,
   "id": "bb6ec020-6691-4411-b0c1-c118538dae4b",
   "metadata": {},
   "outputs": [
    {
     "data": {
      "image/png": "[encoded data removed]",
      "text/plain": [
       "<Figure size 640x480 with 1 Axes>"
      ]
     },
     "metadata": {},
     "output_type": "display_data"
    }
   ],
   "source": [
    "from matplotlib import pyplot as plt\n",
    "plt.imshow(image.T, interpolation='nearest')\n",
    "plt.show()"
   ]
  },
  {
   "cell_type": "code",
   "execution_count": 64,
   "id": "e2e8d5e3-f4ef-43ab-85e1-44600ea8eac1",
   "metadata": {},
   "outputs": [
    {
     "name": "stdout",
     "output_type": "stream",
     "text": [
      "frog\n"
     ]
    }
   ],
   "source": [
    "print(label_names[labels[0]])"
   ]
  },
  {
   "cell_type": "markdown",
   "id": "67685d5e-5bbe-4670-b49d-2ac921932e55",
   "metadata": {},
   "source": [
    "### 2.2.2 Algorithm"
   ]
  },
  {
   "cell_type": "code",
   "execution_count": 120,
   "id": "35cce7f3-69a1-498a-a1f2-f0a9523f1e2c",
   "metadata": {},
   "outputs": [],
   "source": [
    "from typing import List, Dict, Tuple\n",
    "\n",
    "class LSH:\n",
    "    def __init__(self, size, hash_size):\n",
    "        self.buckets = []\n",
    "        self.bandsNumber = size\n",
    "        self.rows = int(hash_size**2 / self.bandsNumber)\n",
    "        self.hash_buckets_list: List[Dict[int, List[str]]] = [dict() for _ in range(self.bandsNumber)]\n",
    "        self.signatures = dict()\n",
    "        self.hash_size = hash_size\n",
    "\n",
    "        for i in range(size):\n",
    "            self.buckets.append({})\n",
    "            \n",
    "    def fill_buckets(self, signature, idx):\n",
    "        for i in range(self.bandsNumber):\n",
    "            signature_band = signature[i*self.rows:(i+1)*self.rows]\n",
    "            signature_band_bytes = signature_band.tobytes()\n",
    "            if signature_band_bytes not in self.hash_buckets_list[i]:\n",
    "                self.hash_buckets_list[i][signature_band_bytes] = list()\n",
    "            self.hash_buckets_list[i][signature_band_bytes].append(idx)\n",
    "    \n",
    "    def compute_hash(self, images):\n",
    "        idx = 0;\n",
    "        for image in images:\n",
    "            signature = calculate_signature_np(image.T, self.hash_size)\n",
    "\n",
    "            # Keep track of each image's signature\n",
    "            self.signatures[idx] = np.packbits(signature)\n",
    "            self.fill_buckets(signature, idx)\n",
    "            idx+=1\n",
    "\n",
    "    def compute_candidate(self):\n",
    "        candidate_pairs = set()\n",
    "        \n",
    "        for hash_buckets in self.hash_buckets_list:\n",
    "            for hash_bucket in hash_buckets.values():\n",
    "                if len(hash_bucket) > 1:\n",
    "                    hash_bucket = sorted(hash_bucket) # Why needed ?\n",
    "                    for i in range(len(hash_bucket)):\n",
    "                        for j in range(i+1, len(hash_bucket)):\n",
    "                            candidate_pairs.add(\n",
    "                                tuple([hash_bucket[i],hash_bucket[j]])\n",
    "                            )\n",
    "        return candidate_pairs\n",
    "\n",
    "    def check_candidate(self, candidate_pairs, threshold=0.9):\n",
    "        \n",
    "        near_duplicates = list()\n",
    "        for cpa, cpb in candidate_pairs:\n",
    "            hd = sum(np.bitwise_xor(\n",
    "                    np.unpackbits(signatures[cpa]), \n",
    "                    np.unpackbits(signatures[cpb])\n",
    "            ))\n",
    "            similarity = (self.hash_size**2 - hd) / self.hash_size**2\n",
    "            if similarity > threshold:\n",
    "                near_duplicates.append((cpa, cpb, similarity))\n",
    "                \n",
    "        # Sort near-duplicates by descending similarity and return\n",
    "        near_duplicates.sort(key=lambda x:x[2], reverse=True)\n",
    "        return near_duplicates\n",
    "            \n",
    "    "
   ]
  },
  {
   "cell_type": "code",
   "execution_count": 144,
   "id": "96373137-3a35-46b7-9b16-a1095a0325e9",
   "metadata": {},
   "outputs": [],
   "source": [
    "lsh = LSH(15, 16)\n",
    "lsh.compute_hash(images)\n",
    "pairs = lsh.compute_candidate()\n",
    "duplicates = lsh.check_candidate(pairs,0.8)"
   ]
  },
  {
   "cell_type": "code",
   "execution_count": 146,
   "id": "9e7470b5-e3b4-4085-81b5-88305b458932",
   "metadata": {},
   "outputs": [
    {
     "data": {
      "text/plain": [
       "97"
      ]
     },
     "execution_count": 146,
     "metadata": {},
     "output_type": "execute_result"
    }
   ],
   "source": [
    "len(duplicates)"
   ]
  },
  {
   "cell_type": "code",
   "execution_count": 140,
   "id": "122c969b-9f60-4f57-a3fe-96dc4fe11fd4",
   "metadata": {},
   "outputs": [
    {
     "data": {
      "image/png": "[encoded data removed]",
      "text/plain": [
       "<Figure size 640x480 with 1 Axes>"
      ]
     },
     "metadata": {},
     "output_type": "display_data"
    }
   ],
   "source": [
    "plt.imshow(images[5416].T, interpolation='nearest')\n",
    "plt.show()"
   ]
  },
  {
   "cell_type": "code",
   "execution_count": 142,
   "id": "dfc04d17-d076-4066-ba19-3f285f2f6d6c",
   "metadata": {},
   "outputs": [
    {
     "data": {
      "text/plain": [
       "8"
      ]
     },
     "execution_count": 142,
     "metadata": {},
     "output_type": "execute_result"
    }
   ],
   "source": [
    "labels[5416]"
   ]
  },
  {
   "cell_type": "code",
   "execution_count": 137,
   "id": "0fa6e3aa-fab8-46db-a877-aebd1b001ef7",
   "metadata": {},
   "outputs": [
    {
     "data": {
      "image/png": "[encoded data removed]",
      "text/plain": [
       "<Figure size 640x480 with 1 Axes>"
      ]
     },
     "metadata": {},
     "output_type": "display_data"
    }
   ],
   "source": [
    "plt.imshow(images[9786].T, interpolation='nearest')\n",
    "plt.show()"
   ]
  },
  {
   "cell_type": "code",
   "execution_count": 136,
   "id": "05194327-1cc3-4311-885a-6482eff98ebb",
   "metadata": {},
   "outputs": [
    {
     "data": {
      "text/plain": [
       "8"
      ]
     },
     "execution_count": 136,
     "metadata": {},
     "output_type": "execute_result"
    }
   ],
   "source": [
    "labels[9786]"
   ]
  },
  {
   "cell_type": "code",
   "execution_count": 87,
   "id": "b30d258e-85ec-47fa-ac66-4fdfbf587af0",
   "metadata": {},
   "outputs": [],
   "source": []
  },
  {
   "cell_type": "code",
   "execution_count": null,
   "id": "eda3da36-d34f-46cd-9c38-872b1dfb60ff",
   "metadata": {},
   "outputs": [],
   "source": []
  }
 ],
 "metadata": {
  "kernelspec": {
   "display_name": "Python 3 (ipykernel)",
   "language": "python",
   "name": "python3"
  },
  "language_info": {
   "codemirror_mode": {
    "name": "ipython",
    "version": 3
   },
   "file_extension": ".py",
   "mimetype": "text/x-python",
   "name": "python",
   "nbconvert_exporter": "python",
   "pygments_lexer": "ipython3",
   "version": "3.10.12"
  }
 },
 "nbformat": 4,
 "nbformat_minor": 5
}
