{
 "cells": [
  {
   "cell_type": "markdown",
   "id": "3dd2af57-a029-4731-aad3-3b36301b8558",
   "metadata": {},
   "source": [
    "### Check CUDA installation"
   ]
  },
  {
   "cell_type": "code",
   "execution_count": 1,
   "id": "6202b68a-5ab4-4b66-b58b-70b485a282c2",
   "metadata": {},
   "outputs": [
    {
     "name": "stdout",
     "output_type": "stream",
     "text": [
      "nvcc: NVIDIA (R) Cuda compiler driver\n",
      "Copyright (c) 2005-2023 NVIDIA Corporation\n",
      "Built on Fri_Jan__6_16:45:21_PST_2023\n",
      "Cuda compilation tools, release 12.0, V12.0.140\n",
      "Build cuda_12.0.r12.0/compiler.32267302_0\n"
     ]
    }
   ],
   "source": [
    "!nvcc --version"
   ]
  },
  {
   "cell_type": "code",
   "execution_count": 2,
   "id": "2e624f02-f609-40f6-9f3f-4e05a23fffc2",
   "metadata": {},
   "outputs": [
    {
     "name": "stdout",
     "output_type": "stream",
     "text": [
      "Sun Apr 28 20:42:57 2024       \n",
      "+-----------------------------------------------------------------------------------------+\n",
      "| NVIDIA-SMI 550.54.15              Driver Version: 550.54.15      CUDA Version: 12.4     |\n",
      "|-----------------------------------------+------------------------+----------------------+\n",
      "| GPU  Name                 Persistence-M | Bus-Id          Disp.A | Volatile Uncorr. ECC |\n",
      "| Fan  Temp   Perf          Pwr:Usage/Cap |           Memory-Usage | GPU-Util  Compute M. |\n",
      "|                                         |                        |               MIG M. |\n",
      "|=========================================+========================+======================|\n",
      "|   0  NVIDIA GeForce GTX 1060        Off |   00000000:01:00.0  On |                  N/A |\n",
      "| N/A   69C    P2             23W /   78W |     147MiB /   6144MiB |      2%      Default |\n",
      "|                                         |                        |                  N/A |\n",
      "+-----------------------------------------+------------------------+----------------------+\n",
      "                                                                                         \n",
      "+-----------------------------------------------------------------------------------------+\n",
      "| Processes:                                                                              |\n",
      "|  GPU   GI   CI        PID   Type   Process name                              GPU Memory |\n",
      "|        ID   ID                                                               Usage      |\n",
      "|=========================================================================================|\n",
      "+-----------------------------------------------------------------------------------------+\n"
     ]
    }
   ],
   "source": [
    "!nvidia-smi"
   ]
  },
  {
   "cell_type": "markdown",
   "id": "07a26f4f-8711-4e9f-8e86-c6d33025dcca",
   "metadata": {},
   "source": [
    "### Load Data sets"
   ]
  },
  {
   "cell_type": "code",
   "execution_count": 3,
   "id": "2ee7dc5c-ddf6-42e1-a894-fb8425633525",
   "metadata": {},
   "outputs": [],
   "source": [
    "#!pip install git+https://github.com/nottombrown/imagenet_stubs"
   ]
  },
  {
   "cell_type": "code",
   "execution_count": 4,
   "id": "95d76e93-bc8a-48a2-9ee1-76ffec4b7e0e",
   "metadata": {},
   "outputs": [],
   "source": [
    "import os\n",
    "import _pickle as cPickle\n",
    "import numpy as np\n",
    "import imagenet_stubs\n",
    "from imagenet_stubs.imagenet_2012_labels import label_to_name as IMAGENET_CLASS_NAMES\n",
    "\n",
    "PATH = \"../data/cifar-10-batches-py/\"\n",
    "IMAGENET_PATH = \"../data/Imagenet32_train/\""
   ]
  },
  {
   "cell_type": "markdown",
   "id": "3d5347ca-daa1-447b-bac1-1a999469505f",
   "metadata": {},
   "source": [
    "#### Load Cifar-10"
   ]
  },
  {
   "cell_type": "code",
   "execution_count": 5,
   "id": "68eb01fe-2c7f-4765-9d51-06b79a4d5cb9",
   "metadata": {},
   "outputs": [],
   "source": [
    "def load_batch(batchFile):\n",
    "    f = open(PATH+batchFile, 'rb')\n",
    "    \n",
    "    dict_ = cPickle.load(f, encoding='latin1')\n",
    "    images = dict_['data']\n",
    "    labels = dict_['labels']\n",
    "    imagearray = np.array(images)   #   (10000, 3072)\n",
    "    labelarray = np.array(labels)   #   (10000,)\n",
    "    \n",
    "    return imagearray, labelarray\n",
    "\n",
    "def load_classes():\n",
    "    file = 'batches.meta'\n",
    "    \n",
    "    f = open(PATH+file, 'rb')\n",
    "    dict = cPickle.load(f)\n",
    "    return dict['label_names']"
   ]
  },
  {
   "cell_type": "code",
   "execution_count": 6,
   "id": "40fa9e4e-b79d-4fcf-b72a-14411cd57eb2",
   "metadata": {},
   "outputs": [],
   "source": [
    "CIFAR_IMAGES, CIFAR_LABELS = load_batch(\"data_batch_1\")"
   ]
  },
  {
   "cell_type": "code",
   "execution_count": 7,
   "id": "972925e9-33b7-4c5b-8041-0247403b7720",
   "metadata": {},
   "outputs": [],
   "source": [
    "CIFAR_CLASS_NAMES = load_classes()"
   ]
  },
  {
   "cell_type": "code",
   "execution_count": 8,
   "id": "d5b16574-4def-4c08-81d9-cccfbfc880d1",
   "metadata": {},
   "outputs": [
    {
     "data": {
      "text/plain": [
       "(10000, 3072)"
      ]
     },
     "execution_count": 8,
     "metadata": {},
     "output_type": "execute_result"
    }
   ],
   "source": [
    "CIFAR_IMAGES.shape"
   ]
  },
  {
   "cell_type": "markdown",
   "id": "6ad0a185-a243-42e7-8008-914ab8569539",
   "metadata": {},
   "source": [
    "#### Load ImageNet"
   ]
  },
  {
   "cell_type": "code",
   "execution_count": 9,
   "id": "7998a50b-23f1-4204-8778-5553c9fbb2d0",
   "metadata": {},
   "outputs": [],
   "source": [
    "def unpickle(file):\n",
    "    with open(file, 'rb') as fo:\n",
    "        dict = cPickle.load(fo)\n",
    "    return dict\n",
    "\n",
    "def load_databatch(data_folder, idx, img_size=32):\n",
    "    data_file = os.path.join(data_folder, 'train_data_batch_')\n",
    "\n",
    "    dict_ = unpickle(data_file + str(idx))\n",
    "\n",
    "    images = dict_['data']\n",
    "    labels = dict_['labels']\n",
    "\n",
    "    return images, labels"
   ]
  },
  {
   "cell_type": "code",
   "execution_count": null,
   "id": "97ffe4f7-ccf9-4f0f-9550-8f367293968e",
   "metadata": {},
   "outputs": [],
   "source": []
  },
  {
   "cell_type": "code",
   "execution_count": 10,
   "id": "4a802ac2-dd53-4447-9602-24cdfed13f2c",
   "metadata": {},
   "outputs": [],
   "source": [
    "IMAGENET_IMAGES, IMAGENET_LABELS = load_databatch(IMAGENET_PATH, 1)"
   ]
  },
  {
   "cell_type": "code",
   "execution_count": 11,
   "id": "69d53b81-9fc5-40b5-8cc0-f1231864e465",
   "metadata": {},
   "outputs": [
    {
     "data": {
      "text/plain": [
       "'tench, Tinca tinca'"
      ]
     },
     "execution_count": 11,
     "metadata": {},
     "output_type": "execute_result"
    }
   ],
   "source": [
    "IMAGENET_CLASS_NAMES(0)"
   ]
  },
  {
   "cell_type": "code",
   "execution_count": 12,
   "id": "1622de2f-efc0-4631-92b1-4573cc84c66a",
   "metadata": {},
   "outputs": [
    {
     "data": {
      "text/plain": [
       "(128116, 3072)"
      ]
     },
     "execution_count": 12,
     "metadata": {},
     "output_type": "execute_result"
    }
   ],
   "source": [
    "IMAGENET_IMAGES.shape"
   ]
  },
  {
   "cell_type": "code",
   "execution_count": null,
   "id": "5b0a4981-8769-4b95-945c-0c993317395e",
   "metadata": {},
   "outputs": [],
   "source": []
  },
  {
   "cell_type": "markdown",
   "id": "ff1800e5-ef7c-44af-b1a9-a1d043eb2143",
   "metadata": {},
   "source": [
    "### Prepare Kernels - Python POC"
   ]
  },
  {
   "cell_type": "code",
   "execution_count": 13,
   "id": "a9ed2036-acee-4b25-9174-13076545fe1a",
   "metadata": {},
   "outputs": [],
   "source": [
    "def scale_image_down_and_gray_1d(image, new_rows, new_cols):\n",
    "\n",
    "    pixels = 1024\n",
    "    newPixels = new_rows * new_cols;\n",
    "    factor = pixels / newPixels;\n",
    "\n",
    "    new_image = np.empty(newPixels, dtype=numpy.uint8)\n",
    "\n",
    "    for idx in range(newPixels):\n",
    "        pixelToTake = int(idx*factor)\n",
    "        \n",
    "        pixel = 0.2989 * image[pixelToTake] \\\n",
    "              + 0.5870 * image[1024+pixelToTake] \\\n",
    "              + 0.1140 * image[2048+pixelToTake]\n",
    "        \n",
    "        new_image[idx] = pixel\n",
    "        \n",
    "    return new_image"
   ]
  },
  {
   "cell_type": "code",
   "execution_count": 14,
   "id": "3bb91dc5-d3fc-46dd-ac85-9da40c877400",
   "metadata": {},
   "outputs": [],
   "source": [
    "def scale_image_down_and_gray(np_image, new_rows, new_columns):\n",
    "    \n",
    "    columns = np_image.shape[0]\n",
    "    rows = np_image.shape[1]\n",
    "\n",
    "    factor_columns = columns / new_columns\n",
    "    factor_rows = rows / new_rows\n",
    "\n",
    "    new_image = np.empty([new_columns, new_rows, 1], dtype=numpy.uint8)\n",
    "\n",
    "    print(new_image.shape)\n",
    "    \n",
    "    for row in range(new_rows):\n",
    "        for col in range(new_columns):\n",
    "            new_row = int(row * factor_rows)\n",
    "            new_col = int(col * factor_columns)\n",
    "\n",
    "            pixel = 0.2989 * np_image[new_col][new_row][0] \\\n",
    "                  + 0.5870 * np_image[new_col][new_row][1] \\\n",
    "                  + 0.1140 * np_image[new_col][new_row][2]\n",
    "            \n",
    "            new_image[col][row][0] = pixel\n",
    "    return new_image"
   ]
  },
  {
   "cell_type": "code",
   "execution_count": 15,
   "id": "86277c06-7f4f-4f25-82ef-bed0040335e6",
   "metadata": {},
   "outputs": [],
   "source": [
    "def bilinear_interpolation(x, y, points):\n",
    "    '''Interpolate (x,y) from values associated with four points.\n",
    "\n",
    "    The four points are a list of four triplets:  (x, y, value).\n",
    "    The four points can be in any order.  They should form a rectangle.\n",
    "\n",
    "        >>> bilinear_interpolation(12, 5.5,\n",
    "        ...                        [(10, 4, 100),\n",
    "        ...                         (20, 4, 200),\n",
    "        ...                         (10, 6, 150),\n",
    "        ...                         (20, 6, 300)])\n",
    "        165.0\n",
    "\n",
    "    '''\n",
    "    # See formula at:  http://en.wikipedia.org/wiki/Bilinear_interpolation\n",
    "\n",
    "    points = sorted(points)               # order points by x, then by y\n",
    "    (x1, y1, q11), (_x1, y2, q12), (x2, _y1, q21), (_x2, _y2, q22) = points\n",
    "\n",
    "    if x1 != _x1 or x2 != _x2 or y1 != _y1 or y2 != _y2:\n",
    "        raise ValueError('points do not form a rectangle')\n",
    "    if not x1 <= x <= x2 or not y1 <= y <= y2:\n",
    "        raise ValueError('(x, y) not within the rectangle')\n",
    "\n",
    "    return (q11 * (x2 - x) * (y2 - y) +\n",
    "            q21 * (x - x1) * (y2 - y) +\n",
    "            q12 * (x2 - x) * (y - y1) +\n",
    "            q22 * (x - x1) * (y - y1)\n",
    "           ) / ((x2 - x1) * (y2 - y1) + 0.0)"
   ]
  },
  {
   "cell_type": "code",
   "execution_count": 16,
   "id": "6e09a66e-d392-4ccd-a0e8-ee890c43390e",
   "metadata": {},
   "outputs": [],
   "source": [
    "def comp_difference(image_2d):\n",
    "    sequence = \"\"\n",
    "\n",
    "    rows = image_2d.shape[0]\n",
    "    cols = image_2d.shape[1]\n",
    "\n",
    "    print( rows, cols )\n",
    "    for row in range(rows):\n",
    "        for col in range(1, cols):\n",
    "            if image_2d[row][col-1] < image_2d[row][col]:\n",
    "                sequence += '1'\n",
    "            else:\n",
    "                sequence += '0'\n",
    "\n",
    "    print(sequence)"
   ]
  },
  {
   "cell_type": "markdown",
   "id": "23c30b88-509a-4cc0-a89c-3f0ea19dffb4",
   "metadata": {},
   "source": [
    "### CUDA kernes"
   ]
  },
  {
   "cell_type": "markdown",
   "id": "accb6689-dc66-474d-b90f-a7612ab4d666",
   "metadata": {},
   "source": [
    "#### Import PyCuda"
   ]
  },
  {
   "cell_type": "code",
   "execution_count": 17,
   "id": "730a1afc-e6c2-4741-8d5b-a8981e70be04",
   "metadata": {},
   "outputs": [],
   "source": [
    "import pycuda.autoinit\n",
    "import pycuda.driver as drv\n",
    "import numpy\n",
    "\n",
    "from pycuda.compiler import SourceModule"
   ]
  },
  {
   "cell_type": "markdown",
   "id": "f634d4cb-f944-4e7c-8a8d-e6764a307d64",
   "metadata": {},
   "source": [
    "#### Convert 1000 images at once"
   ]
  },
  {
   "cell_type": "code",
   "execution_count": 62,
   "id": "7d06675a-8d03-4fdd-bb22-07dfd3c63a07",
   "metadata": {},
   "outputs": [],
   "source": [
    "mod = SourceModule(\"\"\"\n",
    "\n",
    "__global__ void ResizeAndGray1000Images(float* image, float* hash, const int pixels, const int new_rows, \n",
    "                                        const int new_cols, const int amountOfImages, const int hashSize)\n",
    "{\n",
    "\n",
    "    int idx           = threadIdx.x + blockIdx.x * blockDim.x;\n",
    "    float newPixels   = new_rows * new_cols;\n",
    "    int* pixelsValues = new int [new_rows * new_cols];\n",
    "    \n",
    "    if (idx > amountOfImages) return;\n",
    "\n",
    "    float factor      = pixels / newPixels;\n",
    "    int imageStartIdx = pixels * 3 * idx;\n",
    "    \n",
    "    for( int i=0; i<newPixels; i++ )\n",
    "    {\n",
    "        const auto pixelToTake = (int)(imageStartIdx+i*factor);\n",
    "        pixelsValues[i] = 0.2989 * image[pixelToTake] + 0.5870 * image[1024+pixelToTake] + 0.1140 * image[2048+pixelToTake];\n",
    "    }\n",
    "    for( int i=1; i<newPixels; i++ )\n",
    "    {\n",
    "        pixelsValues[i-1] < pixelsValues[i] ? hash[hashSize*idx+i-1] = 1 : hash[hashSize*idx+i-1] = 0;\n",
    "    }\n",
    "\n",
    "    delete[] pixelsValues;\n",
    "}\n",
    "\n",
    "\"\"\")\n",
    "\n",
    "ResizeAndGray1000Images = mod.get_function(\"ResizeAndGray1000Images\")"
   ]
  },
  {
   "cell_type": "markdown",
   "id": "8b73fb5b-1394-4c17-9c44-d9110e5019ef",
   "metadata": {},
   "source": [
    "#### Convert 1 image at once"
   ]
  },
  {
   "cell_type": "code",
   "execution_count": 63,
   "id": "aa3fcdbd-9d4e-44ef-a031-6c5c2ce53eb1",
   "metadata": {},
   "outputs": [],
   "source": [
    "mod = SourceModule(\"\"\"\n",
    "\n",
    "__global__ void ResizeAndGrayOneImage(float* image, float* hash, int pixels, int new_rows, int new_cols)\n",
    "{\n",
    "    extern __shared__ int pixelsValues[72];\n",
    "\n",
    "    int idx         = threadIdx.x + blockIdx.x * blockDim.x;\n",
    "    float newPixels = new_rows * new_cols;\n",
    "    \n",
    "    if (idx >= newPixels) return;\n",
    "\n",
    "    float factor           = pixels / newPixels;\n",
    "    const auto pixelToTake = (int)(idx*factor);\n",
    "\n",
    "\n",
    "    auto pixel = 0.2989 * image[pixelToTake] + 0.5870 * image[1024+pixelToTake] + 0.1140 * image[2048+pixelToTake];\n",
    "\n",
    "    pixelsValues[idx] = pixel;\n",
    "\n",
    "    __syncthreads();\n",
    "    \n",
    "    if(idx == 0) return;\n",
    "\n",
    "    pixelsValues[idx-1] < pixelsValues[idx] ? hash[idx-1] = 1 : hash[idx-1] = 0;    \n",
    "}\n",
    "\n",
    "\"\"\")\n",
    "\n",
    "ResizeAndGrayOneImage = mod.get_function(\"ResizeAndGrayOneImage\")"
   ]
  },
  {
   "cell_type": "markdown",
   "id": "99e05e44-804a-43d6-8b07-a979151ab200",
   "metadata": {},
   "source": [
    "#### Convert CUDA output to human readable HEX Hash"
   ]
  },
  {
   "cell_type": "code",
   "execution_count": 64,
   "id": "02dc637d-4fd3-40d2-8b30-1763f51e3f0a",
   "metadata": {},
   "outputs": [],
   "source": [
    "def floatArrayToHexString(imageHashArray):\n",
    "    hash_ = \"\"\n",
    "\n",
    "    tmp_imageHashArray = imageHashArray.astype(numpy.uint8)\n",
    "\n",
    "    \n",
    "    for i in range(0, imageHashArray.shape[0], 4):\n",
    "        tmp = str(tmp_imageHashArray[i]) + str(tmp_imageHashArray[i+1]) + str(tmp_imageHashArray[i+2]) + str(tmp_imageHashArray[i+3])\n",
    "        \n",
    "        hash_ += hex(int(tmp, 2))[2:]\n",
    "\n",
    "    return hash_"
   ]
  },
  {
   "cell_type": "markdown",
   "id": "7685b183-f4e7-4ed9-8be5-012895522238",
   "metadata": {},
   "source": [
    "#### Tests Kernels"
   ]
  },
  {
   "cell_type": "code",
   "execution_count": 65,
   "id": "646b2ee2-0f7d-4088-b524-4aab2e381c82",
   "metadata": {},
   "outputs": [],
   "source": [
    "HASH_SIZE = 64;"
   ]
  },
  {
   "cell_type": "markdown",
   "id": "c3226e11-faf3-44a0-9c9a-6c1a39a94bdd",
   "metadata": {},
   "source": [
    "##### One Input Config"
   ]
  },
  {
   "cell_type": "code",
   "execution_count": 66,
   "id": "839a6899-ead0-4760-a5ba-b73ee14343e1",
   "metadata": {},
   "outputs": [],
   "source": [
    "HASH_SIZE = 64;\n",
    "THREADS_X = 64;\n",
    "THREADS_Y = 1;\n",
    "THREADS_Z = 1;\n",
    "\n",
    "PIXELS = 1024\n",
    "NEW_ROWS = 8\n",
    "NEW_COLS = 9\n",
    "\n",
    "INPUT_IMAGE = CIFAR_IMAGES[0].astype(numpy.float32)\n",
    "OUT_HASH    = numpy.zeros([HASH_SIZE]).astype(numpy.float32)"
   ]
  },
  {
   "cell_type": "code",
   "execution_count": 67,
   "id": "a203935a-c8f5-47da-a011-fd810336357c",
   "metadata": {},
   "outputs": [],
   "source": [
    "ResizeAndGrayOneImage(drv.In(INPUT_IMAGE), drv.Out(OUT_HASH), np.int32(PIXELS) , np.int32(NEW_ROWS) , np.int32(NEW_COLS), \n",
    "            block=(THREADS_X, THREADS_Y, THREADS_Z))"
   ]
  },
  {
   "cell_type": "code",
   "execution_count": 68,
   "id": "acc98b7b-13ba-41aa-8681-5cf8efe38e85",
   "metadata": {},
   "outputs": [
    {
     "data": {
      "text/plain": [
       "'dd599776ab5126b2'"
      ]
     },
     "execution_count": 68,
     "metadata": {},
     "output_type": "execute_result"
    }
   ],
   "source": [
    "floatArrayToHexString(OUT_HASH) # 63E3683A50325929"
   ]
  },
  {
   "cell_type": "markdown",
   "id": "cf4697a4-15b8-4fe1-9edd-7b5c01ae8136",
   "metadata": {},
   "source": [
    "##### 1000 Input Config"
   ]
  },
  {
   "cell_type": "code",
   "execution_count": 69,
   "id": "4415a1e3-7cad-4d68-ae27-5c18c0932a30",
   "metadata": {},
   "outputs": [],
   "source": [
    "HASH_SIZE = 64;\n",
    "THREADS_X_1000 = 1000;\n",
    "THREADS_Y = 1;\n",
    "THREADS_Z = 1;\n",
    "\n",
    "PIXELS = 1024\n",
    "NEW_ROWS = 8\n",
    "NEW_COLS = 9\n",
    "\n",
    "INPUT_IMAGE_1000 = CIFAR_IMAGES[:THREADS_X_1000].astype(numpy.float32).reshape(THREADS_X_1000 * PIXELS * 3)\n",
    "OUT_HASH_1000    = numpy.zeros([THREADS_X_1000 * HASH_SIZE]).astype(numpy.float32)"
   ]
  },
  {
   "cell_type": "code",
   "execution_count": 70,
   "id": "df384e12-25d9-43da-8c52-946505df1ec4",
   "metadata": {},
   "outputs": [],
   "source": [
    "ResizeAndGray1000Images(drv.In(INPUT_IMAGE_1000), drv.Out(OUT_HASH_1000), np.int32(PIXELS), \n",
    "                        np.int32(NEW_ROWS), np.int32(NEW_COLS), np.int32(THREADS_X_1000), np.int32(HASH_SIZE),\n",
    "                        block=(THREADS_X_1000,THREADS_Y,THREADS_Z))"
   ]
  },
  {
   "cell_type": "code",
   "execution_count": 71,
   "id": "fa881948-f35d-46d2-b52b-2ffd45710dd7",
   "metadata": {},
   "outputs": [
    {
     "name": "stdout",
     "output_type": "stream",
     "text": [
      "dd599776ab5126b2\n",
      "af52ad462a297695\n",
      "9aadaa5ca956ac5a\n"
     ]
    }
   ],
   "source": [
    "print(floatArrayToHexString(OUT_HASH_1000[0:64]))\n",
    "print(floatArrayToHexString(OUT_HASH_1000[640:704]))\n",
    "print(floatArrayToHexString(OUT_HASH_1000[6336:6400]))"
   ]
  },
  {
   "cell_type": "markdown",
   "id": "32f26542-a78c-4c69-bb13-4b48b3a4d69f",
   "metadata": {},
   "source": [
    "#### Kernel Performance Tests"
   ]
  },
  {
   "cell_type": "code",
   "execution_count": 72,
   "id": "193762e0-e4b1-4b3a-8686-35db2c47a536",
   "metadata": {},
   "outputs": [],
   "source": [
    "import time"
   ]
  },
  {
   "cell_type": "code",
   "execution_count": 75,
   "id": "314b7d7c-10bd-4904-ab8d-f33bb83c31aa",
   "metadata": {},
   "outputs": [
    {
     "name": "stdout",
     "output_type": "stream",
     "text": [
      "time:  0.0224609375\n"
     ]
    }
   ],
   "source": [
    "start = time.time()\n",
    "\n",
    "ResizeAndGray1000Images(drv.In(INPUT_IMAGE_1000), drv.Out(OUT_HASH_1000), np.int32(PIXELS), \n",
    "                        np.int32(NEW_ROWS), np.int32(NEW_COLS), np.int32(THREADS_X_1000), np.int32(HASH_SIZE),\n",
    "                        block=(THREADS_X_1000,THREADS_Y,THREADS_Z))\n",
    "\n",
    "end = time.time()\n",
    "print( \"time: \", end - start )"
   ]
  },
  {
   "cell_type": "code",
   "execution_count": 74,
   "id": "3c11fc3d-7d91-4764-bdac-8dae34f2f316",
   "metadata": {},
   "outputs": [
    {
     "name": "stdout",
     "output_type": "stream",
     "text": [
      "time:  0.1704249382019043\n"
     ]
    }
   ],
   "source": [
    "start = time.time()\n",
    "\n",
    "for i in range(1000):\n",
    "    ResizeAndGrayOneImage(drv.In(INPUT_IMAGE), drv.Out(OUT_HASH), np.int32(PIXELS) , np.int32(NEW_ROWS) , np.int32(NEW_COLS), \n",
    "            block=(THREADS_X, THREADS_Y, THREADS_Z))\n",
    "end = time.time()\n",
    "print( \"time: \", end - start )"
   ]
  },
  {
   "cell_type": "markdown",
   "id": "fd70644c-dcd4-4f13-b13b-c26020ffa610",
   "metadata": {},
   "source": [
    "### CuLSH"
   ]
  },
  {
   "cell_type": "code",
   "execution_count": 43,
   "id": "8e3866f1-44d1-4fed-8c24-617cd5167c9b",
   "metadata": {},
   "outputs": [],
   "source": [
    "from typing import List, Dict, Tuple\n",
    "\n",
    "class LSH:\n",
    "    def __init__(self, size, hash_size):\n",
    "        self.buckets = []\n",
    "        self.bandsNumber = size\n",
    "        self.rows = int(hash_size**2 / self.bandsNumber)\n",
    "        self.hash_buckets_list: List[Dict[int, List[str]]] = [dict() for _ in range(self.bandsNumber)]\n",
    "        self.signatures = dict()\n",
    "        self.hash_size = hash_size\n",
    "\n",
    "        for i in range(size):\n",
    "            self.buckets.append({})\n",
    "            \n",
    "    def fill_buckets(self, signature, idx):\n",
    "        for i in range(self.bandsNumber):\n",
    "            signature_band = signature[i*self.rows:(i+1)*self.rows]\n",
    "            signature_band_bytes = signature_band.tobytes()\n",
    "            if signature_band_bytes not in self.hash_buckets_list[i]:\n",
    "                self.hash_buckets_list[i][signature_band_bytes] = list()\n",
    "            self.hash_buckets_list[i][signature_band_bytes].append(idx)\n",
    "    \n",
    "    def compute_hash(self, images):\n",
    "        idx = 0\n",
    "        signature_1000 = numpy.zeros([1000 * 64]).astype(numpy.float32)\n",
    "        for i in range(0, 10):\n",
    "            INPUT_IMAGES = images[1000*i:1000*i+1000].astype(numpy.float32).reshape(1000 * 1024 * 3)\n",
    "            ResizeAndGray1000Images(drv.In(INPUT_IMAGES), drv.Out(signature_1000), np.int32(1024), \n",
    "                        np.int32(8), np.int32(9), np.int32(1000), np.int32(64),\n",
    "                        block=(1000,1,1))\n",
    "            \n",
    "            signature_ = signature_1000.astype(numpy.bool_)\n",
    "\n",
    "            for j in range(0, 1000):\n",
    "                one_signature = signature_[64*j:64*j+64]\n",
    "                self.signatures[idx] = np.packbits(one_signature)\n",
    "                self.fill_buckets(one_signature, idx)\n",
    "                idx += 1\n",
    "\n",
    "    def compute_candidate(self):\n",
    "        candidate_pairs = set()\n",
    "        \n",
    "        for hash_buckets in self.hash_buckets_list:\n",
    "            for hash_bucket in hash_buckets.values():\n",
    "                if len(hash_bucket) > 1:\n",
    "                    hash_bucket = sorted(hash_bucket) # Why needed ?\n",
    "                    for i in range(len(hash_bucket)):\n",
    "                        for j in range(i+1, len(hash_bucket)):\n",
    "                            candidate_pairs.add(\n",
    "                                tuple([hash_bucket[i],hash_bucket[j]])\n",
    "                            )\n",
    "        return candidate_pairs\n",
    "\n",
    "    def check_candidate(self, candidate_pairs, threshold=0.9):\n",
    "        \n",
    "        near_duplicates = list()\n",
    "        for cpa, cpb in candidate_pairs:\n",
    "            hd = sum(np.bitwise_xor(\n",
    "                    np.unpackbits(self.signatures[cpa]), \n",
    "                    np.unpackbits(self.signatures[cpb])\n",
    "            ))\n",
    "            similarity = (self.hash_size**2 - hd) / self.hash_size**2\n",
    "            if similarity > threshold:\n",
    "                near_duplicates.append((cpa, cpb, similarity))\n",
    "                \n",
    "        # Sort near-duplicates by descending similarity and return\n",
    "        near_duplicates.sort(key=lambda x:x[2], reverse=True)\n",
    "        return near_duplicates"
   ]
  },
  {
   "cell_type": "code",
   "execution_count": 44,
   "id": "47bacf80-edce-4753-808e-ca857ee6de18",
   "metadata": {},
   "outputs": [
    {
     "name": "stdout",
     "output_type": "stream",
     "text": [
      "time:  0.13852357864379883\n"
     ]
    }
   ],
   "source": [
    "start = time.time()\n",
    "\n",
    "lsh = LSH(8, 8)\n",
    "lsh.compute_hash(CIFAR_IMAGES)\n",
    "#pairs = lsh.compute_candidate()\n",
    "#duplicates = lsh.check_candidate(pairs,0.9)\n",
    "\n",
    "end = time.time()\n",
    "print( \"time: \", end - start )"
   ]
  },
  {
   "cell_type": "markdown",
   "id": "f18acb4a-6891-41b1-881a-a05d17d3e977",
   "metadata": {},
   "source": [
    "#### Experiments"
   ]
  },
  {
   "cell_type": "code",
   "execution_count": 56,
   "id": "a3454269-b5fa-4c98-9a77-7eebae370884",
   "metadata": {},
   "outputs": [],
   "source": [
    "#https://stackoverflow.com/questions/39445786/how-to-define-cuda-device-constant-like-a-c-const-constexpr\n",
    "# Whats about Torch resize kernel ???? - comparision\n",
    "# whats about numpy on gpu ????? - comparision\n",
    "# Zgrać zdjecia i porownac jak radzi sobie w sytuacji zycia codziennego !!\n",
    "# Zdjecia z poza setu jak sobie radzi - dHash i NeuralNetwork\n",
    "#https://stackoverflow.com/questions/30261859/using-dictionary-in-pycuda"
   ]
  },
  {
   "cell_type": "code",
   "execution_count": 77,
   "id": "76db649c-1e35-41d7-a110-de24e025b5e2",
   "metadata": {},
   "outputs": [],
   "source": [
    "from typing import List, Dict, Tuple\n",
    "\n",
    "class LSH:\n",
    "    def __init__(self, size, hash_size):\n",
    "        self.buckets = []\n",
    "        self.bandsNumber = size\n",
    "        self.rows = int(hash_size**2 / self.bandsNumber)\n",
    "        self.hash_buckets_list: List[Dict[int, List[str]]] = [dict() for _ in range(self.bandsNumber)]\n",
    "        self.signatures = dict()\n",
    "        self.hash_size = hash_size\n",
    "\n",
    "        for i in range(size):\n",
    "            self.buckets.append({})\n",
    "            \n",
    "    def fill_buckets(self, signature, idx):\n",
    "        for i in range(self.bandsNumber):\n",
    "            signature_band = signature[i*self.rows:(i+1)*self.rows]\n",
    "            signature_band_bytes = signature_band.tobytes()\n",
    "            if signature_band_bytes not in self.hash_buckets_list[i]:\n",
    "                self.hash_buckets_list[i][signature_band_bytes] = list()\n",
    "            self.hash_buckets_list[i][signature_band_bytes].append(idx)\n",
    "    \n",
    "    def compute_hash(self, images):\n",
    "        idx = 0\n",
    "        signature_1000 = numpy.zeros([1000 * 64]).astype(numpy.float32)\n",
    "        for i in range(0, 10):\n",
    "            INPUT_IMAGES = images[1000*i:1000*i+1000].astype(numpy.float32).reshape(1000 * 1024 * 3)\n",
    "            ResizeAndGray1000Images(drv.In(INPUT_IMAGES), drv.Out(signature_1000), np.int32(1024), \n",
    "                        np.int32(8), np.int32(9), np.int32(1000), np.int32(64),\n",
    "                        block=(1000,1,1))\n",
    "            \n",
    "            signature_ = signature_1000.astype(numpy.bool_)\n",
    "\n",
    "            for j in range(0, 1000):\n",
    "                one_signature = signature_[64*j:64*j+64]\n",
    "                self.signatures[idx] = np.packbits(one_signature)\n",
    "                self.fill_buckets(one_signature, idx)\n",
    "                idx += 1\n",
    "\n",
    "    def compute_candidate(self):\n",
    "        candidate_pairs = set()\n",
    "\n",
    "        #print(self.hash_buckets_list)\n",
    "        for hash_buckets in self.hash_buckets_list:\n",
    "           #print(hash_buckets)\n",
    "            for hash_bucket in hash_buckets.values():\n",
    "                #print(hash_bucket)\n",
    "                if len(hash_bucket) > 1:\n",
    "                    hash_bucket = sorted(hash_bucket) # Why needed ?\n",
    "                    #print(hash_bucket)\n",
    "                    for i in range(len(hash_bucket)):\n",
    "                        for j in range(i+1, len(hash_bucket)):\n",
    "                            candidate_pairs.add(\n",
    "                                tuple([hash_bucket[i],hash_bucket[j]])\n",
    "                            )\n",
    "        return candidate_pairs\n",
    "\n",
    "    def check_candidate(self, candidate_pairs, threshold=0.9):\n",
    "        \n",
    "        near_duplicates = list()\n",
    "        for cpa, cpb in candidate_pairs:\n",
    "            hd = sum(np.bitwise_xor(\n",
    "                    np.unpackbits(self.signatures[cpa]), \n",
    "                    np.unpackbits(self.signatures[cpb])\n",
    "            ))\n",
    "            similarity = (self.hash_size**2 - hd) / self.hash_size**2\n",
    "            if similarity > threshold:\n",
    "                near_duplicates.append((cpa, cpb, similarity))\n",
    "                \n",
    "        # Sort near-duplicates by descending similarity and return\n",
    "        near_duplicates.sort(key=lambda x:x[2], reverse=True)\n",
    "        return near_duplicates"
   ]
  },
  {
   "cell_type": "code",
   "execution_count": 78,
   "id": "f6a6d452-22fd-43b6-80ce-a1d4bf4be7ff",
   "metadata": {},
   "outputs": [
    {
     "name": "stdout",
     "output_type": "stream",
     "text": [
      "time:  3.5973927974700928\n"
     ]
    }
   ],
   "source": [
    "start = time.time()\n",
    "\n",
    "lsh = LSH(8, 8)\n",
    "lsh.compute_hash(CIFAR_IMAGES)\n",
    "pairs = lsh.compute_candidate()\n",
    "#duplicates = lsh.check_candidate(pairs,0.9)\n",
    "\n",
    "end = time.time()\n",
    "print( \"time: \", end - start )"
   ]
  },
  {
   "cell_type": "code",
   "execution_count": null,
   "id": "fc83c0e8-6c32-4728-b7b5-18097af18874",
   "metadata": {},
   "outputs": [],
   "source": []
  }
 ],
 "metadata": {
  "kernelspec": {
   "display_name": "Python 3 (ipykernel)",
   "language": "python",
   "name": "python3"
  },
  "language_info": {
   "codemirror_mode": {
    "name": "ipython",
    "version": 3
   },
   "file_extension": ".py",
   "mimetype": "text/x-python",
   "name": "python",
   "nbconvert_exporter": "python",
   "pygments_lexer": "ipython3",
   "version": "3.10.12"
  }
 },
 "nbformat": 4,
 "nbformat_minor": 5
}
