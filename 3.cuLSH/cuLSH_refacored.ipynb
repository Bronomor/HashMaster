{
 "cells": [
  {
   "cell_type": "markdown",
   "id": "3dd2af57-a029-4731-aad3-3b36301b8558",
   "metadata": {},
   "source": [
    "### Check CUDA installation"
   ]
  },
  {
   "cell_type": "code",
   "execution_count": 13,
   "id": "6202b68a-5ab4-4b66-b58b-70b485a282c2",
   "metadata": {},
   "outputs": [
    {
     "name": "stdout",
     "output_type": "stream",
     "text": [
      "nvcc: NVIDIA (R) Cuda compiler driver\n",
      "Copyright (c) 2005-2023 NVIDIA Corporation\n",
      "Built on Fri_Jan__6_16:45:21_PST_2023\n",
      "Cuda compilation tools, release 12.0, V12.0.140\n",
      "Build cuda_12.0.r12.0/compiler.32267302_0\n"
     ]
    }
   ],
   "source": [
    "!nvcc --version"
   ]
  },
  {
   "cell_type": "code",
   "execution_count": 14,
   "id": "2e624f02-f609-40f6-9f3f-4e05a23fffc2",
   "metadata": {},
   "outputs": [
    {
     "name": "stdout",
     "output_type": "stream",
     "text": [
      "Sat Sep 21 16:37:45 2024       \n",
      "+-----------------------------------------------------------------------------------------+\n",
      "| NVIDIA-SMI 550.107.02             Driver Version: 550.107.02     CUDA Version: 12.4     |\n",
      "|-----------------------------------------+------------------------+----------------------+\n",
      "| GPU  Name                 Persistence-M | Bus-Id          Disp.A | Volatile Uncorr. ECC |\n",
      "| Fan  Temp   Perf          Pwr:Usage/Cap |           Memory-Usage | GPU-Util  Compute M. |\n",
      "|                                         |                        |               MIG M. |\n",
      "|=========================================+========================+======================|\n",
      "|   0  NVIDIA GeForce GTX 1060        Off |   00000000:01:00.0 Off |                  N/A |\n",
      "| N/A   51C    P8              3W /   78W |    5203MiB /   6144MiB |      0%      Default |\n",
      "|                                         |                        |                  N/A |\n",
      "+-----------------------------------------+------------------------+----------------------+\n",
      "                                                                                         \n",
      "+-----------------------------------------------------------------------------------------+\n",
      "| Processes:                                                                              |\n",
      "|  GPU   GI   CI        PID   Type   Process name                              GPU Memory |\n",
      "|        ID   ID                                                               Usage      |\n",
      "|=========================================================================================|\n",
      "+-----------------------------------------------------------------------------------------+\n"
     ]
    }
   ],
   "source": [
    "!nvidia-smi"
   ]
  },
  {
   "cell_type": "markdown",
   "id": "07a26f4f-8711-4e9f-8e86-c6d33025dcca",
   "metadata": {},
   "source": [
    "### Load Data sets"
   ]
  },
  {
   "cell_type": "code",
   "execution_count": 15,
   "id": "2ee7dc5c-ddf6-42e1-a894-fb8425633525",
   "metadata": {},
   "outputs": [
    {
     "name": "stdout",
     "output_type": "stream",
     "text": [
      "Collecting git+https://github.com/nottombrown/imagenet_stubs\n",
      "  Cloning https://github.com/nottombrown/imagenet_stubs to /tmp/pip-req-build-u3sf1u_v\n",
      "  Running command git clone --filter=blob:none --quiet https://github.com/nottombrown/imagenet_stubs /tmp/pip-req-build-u3sf1u_v\n",
      "  Resolved https://github.com/nottombrown/imagenet_stubs to commit 0b501276f54cbf45b8e1b67dccbdcbe51de88365\n",
      "  Preparing metadata (setup.py) ... \u001b[?25ldone\n",
      "\u001b[33mWARNING: Running pip as the 'root' user can result in broken permissions and conflicting behaviour with the system package manager. It is recommended to use a virtual environment instead: https://pip.pypa.io/warnings/venv\u001b[0m\u001b[33m\n",
      "\u001b[0m\u001b[?25h"
     ]
    }
   ],
   "source": [
    "!pip install git+https://github.com/nottombrown/imagenet_stubs"
   ]
  },
  {
   "cell_type": "code",
   "execution_count": 16,
   "id": "95d76e93-bc8a-48a2-9ee1-76ffec4b7e0e",
   "metadata": {},
   "outputs": [],
   "source": [
    "import os\n",
    "import _pickle as cPickle\n",
    "import numpy as np\n",
    "import imagenet_stubs\n",
    "from imagenet_stubs.imagenet_2012_labels import label_to_name as IMAGENET_CLASS_NAMES\n",
    "\n",
    "PATH = \"../data/cifar-10-batches-py/\"\n",
    "IMAGENET_PATH = \"../data/Imagenet32_train/\""
   ]
  },
  {
   "cell_type": "markdown",
   "id": "3d5347ca-daa1-447b-bac1-1a999469505f",
   "metadata": {},
   "source": [
    "#### Load Cifar-10"
   ]
  },
  {
   "cell_type": "code",
   "execution_count": 17,
   "id": "68eb01fe-2c7f-4765-9d51-06b79a4d5cb9",
   "metadata": {},
   "outputs": [],
   "source": [
    "def load_batch(batchFile):\n",
    "    f = open(PATH+batchFile, 'rb')\n",
    "    \n",
    "    dict_ = cPickle.load(f, encoding='latin1')\n",
    "    images = dict_['data']\n",
    "    labels = dict_['labels']\n",
    "    imagearray = np.array(images)   #   (10000, 3072)\n",
    "    labelarray = np.array(labels)   #   (10000,)\n",
    "    \n",
    "    return imagearray, labelarray\n",
    "\n",
    "def load_classes():\n",
    "    file = 'batches.meta'\n",
    "    \n",
    "    f = open(PATH+file, 'rb')\n",
    "    dict = cPickle.load(f)\n",
    "    return dict['label_names']"
   ]
  },
  {
   "cell_type": "code",
   "execution_count": 18,
   "id": "40fa9e4e-b79d-4fcf-b72a-14411cd57eb2",
   "metadata": {},
   "outputs": [],
   "source": [
    "CIFAR_IMAGES, CIFAR_LABELS = load_batch(\"data_batch_1\")"
   ]
  },
  {
   "cell_type": "code",
   "execution_count": 176,
   "id": "4f6c8beb-9264-4db0-85a0-b58c2c4b490c",
   "metadata": {},
   "outputs": [],
   "source": [
    "for i in range(2, 6):\n",
    "    tmp_img, tmp_lab = load_batch(\"data_batch_\"+str(i))\n",
    "    CIFAR_IMAGES = np.concatenate( (CIFAR_IMAGES, tmp_img) )\n",
    "    CIFAR_LABELS = np.concatenate( (CIFAR_LABELS, tmp_lab) ) "
   ]
  },
  {
   "cell_type": "code",
   "execution_count": 177,
   "id": "972925e9-33b7-4c5b-8041-0247403b7720",
   "metadata": {},
   "outputs": [],
   "source": [
    "CIFAR_CLASS_NAMES = load_classes()"
   ]
  },
  {
   "cell_type": "code",
   "execution_count": 178,
   "id": "d5b16574-4def-4c08-81d9-cccfbfc880d1",
   "metadata": {},
   "outputs": [
    {
     "data": {
      "text/plain": [
       "(200000, 3072)"
      ]
     },
     "execution_count": 178,
     "metadata": {},
     "output_type": "execute_result"
    }
   ],
   "source": [
    "CIFAR_IMAGES.shape"
   ]
  },
  {
   "cell_type": "code",
   "execution_count": 179,
   "id": "4d074ed2-d47f-496c-8692-2d7fcf402e02",
   "metadata": {},
   "outputs": [
    {
     "data": {
      "text/plain": [
       "(200000,)"
      ]
     },
     "execution_count": 179,
     "metadata": {},
     "output_type": "execute_result"
    }
   ],
   "source": [
    "CIFAR_LABELS.shape"
   ]
  },
  {
   "cell_type": "markdown",
   "id": "6ad0a185-a243-42e7-8008-914ab8569539",
   "metadata": {},
   "source": [
    "#### Load ImageNet"
   ]
  },
  {
   "cell_type": "code",
   "execution_count": 21,
   "id": "7998a50b-23f1-4204-8778-5553c9fbb2d0",
   "metadata": {},
   "outputs": [],
   "source": [
    "def unpickle(file):\n",
    "    with open(file, 'rb') as fo:\n",
    "        dict = cPickle.load(fo)\n",
    "    return dict\n",
    "\n",
    "def load_databatch(data_folder, idx, img_size=32):\n",
    "    data_file = os.path.join(data_folder, 'train_data_batch_')\n",
    "\n",
    "    dict_ = unpickle(data_file + str(idx))\n",
    "\n",
    "    images = dict_['data']\n",
    "    labels = dict_['labels']\n",
    "\n",
    "    return images, labels"
   ]
  },
  {
   "cell_type": "code",
   "execution_count": null,
   "id": "97ffe4f7-ccf9-4f0f-9550-8f367293968e",
   "metadata": {},
   "outputs": [],
   "source": []
  },
  {
   "cell_type": "code",
   "execution_count": 22,
   "id": "4a802ac2-dd53-4447-9602-24cdfed13f2c",
   "metadata": {},
   "outputs": [],
   "source": [
    "IMAGENET_IMAGES, IMAGENET_LABELS = load_databatch(IMAGENET_PATH, 1)"
   ]
  },
  {
   "cell_type": "code",
   "execution_count": 23,
   "id": "69d53b81-9fc5-40b5-8cc0-f1231864e465",
   "metadata": {},
   "outputs": [
    {
     "data": {
      "text/plain": [
       "'tench, Tinca tinca'"
      ]
     },
     "execution_count": 23,
     "metadata": {},
     "output_type": "execute_result"
    }
   ],
   "source": [
    "IMAGENET_CLASS_NAMES(0)"
   ]
  },
  {
   "cell_type": "code",
   "execution_count": 24,
   "id": "1622de2f-efc0-4631-92b1-4573cc84c66a",
   "metadata": {},
   "outputs": [
    {
     "data": {
      "text/plain": [
       "(128116, 3072)"
      ]
     },
     "execution_count": 24,
     "metadata": {},
     "output_type": "execute_result"
    }
   ],
   "source": [
    "IMAGENET_IMAGES.shape"
   ]
  },
  {
   "cell_type": "code",
   "execution_count": null,
   "id": "5b0a4981-8769-4b95-945c-0c993317395e",
   "metadata": {},
   "outputs": [],
   "source": []
  },
  {
   "cell_type": "markdown",
   "id": "ff1800e5-ef7c-44af-b1a9-a1d043eb2143",
   "metadata": {},
   "source": [
    "### Prepare Kernels - Python POC"
   ]
  },
  {
   "cell_type": "code",
   "execution_count": 25,
   "id": "a9ed2036-acee-4b25-9174-13076545fe1a",
   "metadata": {},
   "outputs": [],
   "source": [
    "def scale_image_down_and_gray_1d(image, new_rows, new_cols):\n",
    "\n",
    "    pixels = 1024\n",
    "    newPixels = new_rows * new_cols;\n",
    "    factor = pixels / newPixels;\n",
    "\n",
    "    new_image = np.empty(newPixels, dtype=numpy.uint8)\n",
    "\n",
    "    for idx in range(newPixels):\n",
    "        pixelToTake = int(idx*factor)\n",
    "        \n",
    "        pixel = 0.2989 * image[pixelToTake] \\\n",
    "              + 0.5870 * image[1024+pixelToTake] \\\n",
    "              + 0.1140 * image[2048+pixelToTake]\n",
    "        \n",
    "        new_image[idx] = pixel\n",
    "        \n",
    "    return new_image"
   ]
  },
  {
   "cell_type": "code",
   "execution_count": 26,
   "id": "3bb91dc5-d3fc-46dd-ac85-9da40c877400",
   "metadata": {},
   "outputs": [],
   "source": [
    "def scale_image_down_and_gray(np_image, new_rows, new_columns):\n",
    "    \n",
    "    columns = np_image.shape[0]\n",
    "    rows = np_image.shape[1]\n",
    "\n",
    "    factor_columns = columns / new_columns\n",
    "    factor_rows = rows / new_rows\n",
    "\n",
    "    new_image = np.empty([new_columns, new_rows, 1], dtype=numpy.uint8)\n",
    "\n",
    "    print(new_image.shape)\n",
    "    \n",
    "    for row in range(new_rows):\n",
    "        for col in range(new_columns):\n",
    "            new_row = int(row * factor_rows)\n",
    "            new_col = int(col * factor_columns)\n",
    "\n",
    "            pixel = 0.2989 * np_image[new_col][new_row][0] \\\n",
    "                  + 0.5870 * np_image[new_col][new_row][1] \\\n",
    "                  + 0.1140 * np_image[new_col][new_row][2]\n",
    "            \n",
    "            new_image[col][row][0] = pixel\n",
    "    return new_image"
   ]
  },
  {
   "cell_type": "code",
   "execution_count": 27,
   "id": "86277c06-7f4f-4f25-82ef-bed0040335e6",
   "metadata": {},
   "outputs": [],
   "source": [
    "def bilinear_interpolation(x, y, points):\n",
    "    '''Interpolate (x,y) from values associated with four points.\n",
    "\n",
    "    The four points are a list of four triplets:  (x, y, value).\n",
    "    The four points can be in any order.  They should form a rectangle.\n",
    "\n",
    "        >>> bilinear_interpolation(12, 5.5,\n",
    "        ...                        [(10, 4, 100),\n",
    "        ...                         (20, 4, 200),\n",
    "        ...                         (10, 6, 150),\n",
    "        ...                         (20, 6, 300)])\n",
    "        165.0\n",
    "\n",
    "    '''\n",
    "    # See formula at:  http://en.wikipedia.org/wiki/Bilinear_interpolation\n",
    "\n",
    "    points = sorted(points)               # order points by x, then by y\n",
    "    (x1, y1, q11), (_x1, y2, q12), (x2, _y1, q21), (_x2, _y2, q22) = points\n",
    "\n",
    "    if x1 != _x1 or x2 != _x2 or y1 != _y1 or y2 != _y2:\n",
    "        raise ValueError('points do not form a rectangle')\n",
    "    if not x1 <= x <= x2 or not y1 <= y <= y2:\n",
    "        raise ValueError('(x, y) not within the rectangle')\n",
    "\n",
    "    return (q11 * (x2 - x) * (y2 - y) +\n",
    "            q21 * (x - x1) * (y2 - y) +\n",
    "            q12 * (x2 - x) * (y - y1) +\n",
    "            q22 * (x - x1) * (y - y1)\n",
    "           ) / ((x2 - x1) * (y2 - y1) + 0.0)"
   ]
  },
  {
   "cell_type": "code",
   "execution_count": 28,
   "id": "6e09a66e-d392-4ccd-a0e8-ee890c43390e",
   "metadata": {},
   "outputs": [],
   "source": [
    "def comp_difference(image_2d):\n",
    "    sequence = \"\"\n",
    "\n",
    "    rows = image_2d.shape[0]\n",
    "    cols = image_2d.shape[1]\n",
    "\n",
    "    print( rows, cols )\n",
    "    for row in range(rows):\n",
    "        for col in range(1, cols):\n",
    "            if image_2d[row][col-1] < image_2d[row][col]:\n",
    "                sequence += '1'\n",
    "            else:\n",
    "                sequence += '0'\n",
    "\n",
    "    print(sequence)"
   ]
  },
  {
   "cell_type": "markdown",
   "id": "23c30b88-509a-4cc0-a89c-3f0ea19dffb4",
   "metadata": {},
   "source": [
    "### CUDA kernes"
   ]
  },
  {
   "cell_type": "markdown",
   "id": "accb6689-dc66-474d-b90f-a7612ab4d666",
   "metadata": {},
   "source": [
    "#### Import PyCuda"
   ]
  },
  {
   "cell_type": "code",
   "execution_count": 29,
   "id": "730a1afc-e6c2-4741-8d5b-a8981e70be04",
   "metadata": {},
   "outputs": [],
   "source": [
    "import pycuda.autoinit\n",
    "import pycuda.driver as drv\n",
    "import numpy\n",
    "\n",
    "from pycuda.compiler import SourceModule"
   ]
  },
  {
   "cell_type": "markdown",
   "id": "f634d4cb-f944-4e7c-8a8d-e6764a307d64",
   "metadata": {},
   "source": [
    "#### Convert 1000 images at once"
   ]
  },
  {
   "cell_type": "code",
   "execution_count": 30,
   "id": "7d06675a-8d03-4fdd-bb22-07dfd3c63a07",
   "metadata": {},
   "outputs": [],
   "source": [
    "mod = SourceModule(\"\"\"\n",
    "\n",
    "__global__ void ResizeAndGray1000Images(float* image, float* hash, const int pixels, const int new_rows, \n",
    "                                        const int new_cols, const int amountOfImages, const int hashSize)\n",
    "{\n",
    "\n",
    "    int idx           = threadIdx.x + blockIdx.x * blockDim.x;\n",
    "    float newPixels   = new_rows * new_cols;\n",
    "    int* pixelsValues = new int [new_rows * new_cols];\n",
    "    \n",
    "    if (idx > amountOfImages) return;\n",
    "\n",
    "    float factor      = pixels / newPixels;\n",
    "    int imageStartIdx = pixels * 3 * idx;\n",
    "    \n",
    "    for( int i=0; i<newPixels; i++ )\n",
    "    {\n",
    "        const auto pixelToTake = (int)(imageStartIdx+i*factor);\n",
    "        pixelsValues[i] = 0.2989 * image[pixelToTake] + 0.5870 * image[1024+pixelToTake] + 0.1140 * image[2048+pixelToTake];\n",
    "    }\n",
    "    for( int i=1; i<newPixels; i++ )\n",
    "    {\n",
    "        pixelsValues[i-1] < pixelsValues[i] ? hash[hashSize*idx+i-1] = 1 : hash[hashSize*idx+i-1] = 0;\n",
    "    }\n",
    "\n",
    "    delete[] pixelsValues;\n",
    "}\n",
    "\n",
    "\"\"\")\n",
    "\n",
    "ResizeAndGray1000Images = mod.get_function(\"ResizeAndGray1000Images\")"
   ]
  },
  {
   "cell_type": "markdown",
   "id": "8b73fb5b-1394-4c17-9c44-d9110e5019ef",
   "metadata": {},
   "source": [
    "#### Convert 1 image at once"
   ]
  },
  {
   "cell_type": "code",
   "execution_count": 31,
   "id": "aa3fcdbd-9d4e-44ef-a031-6c5c2ce53eb1",
   "metadata": {},
   "outputs": [],
   "source": [
    "mod = SourceModule(\"\"\"\n",
    "\n",
    "__global__ void ResizeAndGrayOneImage(float* image, float* hash, int pixels, int new_rows, int new_cols)\n",
    "{\n",
    "    extern __shared__ int pixelsValues[72];\n",
    "\n",
    "    int idx         = threadIdx.x + blockIdx.x * blockDim.x;\n",
    "    float newPixels = new_rows * new_cols;\n",
    "    \n",
    "    if (idx >= newPixels) return;\n",
    "\n",
    "    float factor           = pixels / newPixels;\n",
    "    const auto pixelToTake = (int)(idx*factor);\n",
    "\n",
    "\n",
    "    auto pixel = 0.2989 * image[pixelToTake] + 0.5870 * image[1024+pixelToTake] + 0.1140 * image[2048+pixelToTake];\n",
    "\n",
    "    pixelsValues[idx] = pixel;\n",
    "\n",
    "    __syncthreads();\n",
    "    \n",
    "    if(idx == 0) return;\n",
    "\n",
    "    pixelsValues[idx-1] < pixelsValues[idx] ? hash[idx-1] = 1 : hash[idx-1] = 0;    \n",
    "}\n",
    "\n",
    "\"\"\")\n",
    "\n",
    "ResizeAndGrayOneImage = mod.get_function(\"ResizeAndGrayOneImage\")"
   ]
  },
  {
   "cell_type": "markdown",
   "id": "99e05e44-804a-43d6-8b07-a979151ab200",
   "metadata": {},
   "source": [
    "#### Convert CUDA output to human readable HEX Hash"
   ]
  },
  {
   "cell_type": "code",
   "execution_count": 32,
   "id": "02dc637d-4fd3-40d2-8b30-1763f51e3f0a",
   "metadata": {},
   "outputs": [],
   "source": [
    "def floatArrayToHexString(imageHashArray):\n",
    "    hash_ = \"\"\n",
    "\n",
    "    tmp_imageHashArray = imageHashArray.astype(numpy.uint8)\n",
    "\n",
    "    \n",
    "    for i in range(0, imageHashArray.shape[0], 4):\n",
    "        tmp = str(tmp_imageHashArray[i]) + str(tmp_imageHashArray[i+1]) + str(tmp_imageHashArray[i+2]) + str(tmp_imageHashArray[i+3])\n",
    "        \n",
    "        hash_ += hex(int(tmp, 2))[2:]\n",
    "\n",
    "    return hash_"
   ]
  },
  {
   "cell_type": "markdown",
   "id": "7685b183-f4e7-4ed9-8be5-012895522238",
   "metadata": {},
   "source": [
    "#### Tests Kernels"
   ]
  },
  {
   "cell_type": "code",
   "execution_count": 33,
   "id": "646b2ee2-0f7d-4088-b524-4aab2e381c82",
   "metadata": {},
   "outputs": [],
   "source": [
    "HASH_SIZE = 64;"
   ]
  },
  {
   "cell_type": "markdown",
   "id": "c3226e11-faf3-44a0-9c9a-6c1a39a94bdd",
   "metadata": {},
   "source": [
    "##### One Input Config"
   ]
  },
  {
   "cell_type": "code",
   "execution_count": 34,
   "id": "839a6899-ead0-4760-a5ba-b73ee14343e1",
   "metadata": {},
   "outputs": [],
   "source": [
    "HASH_SIZE = 64;\n",
    "THREADS_X = 64;\n",
    "THREADS_Y = 1;\n",
    "THREADS_Z = 1;\n",
    "\n",
    "PIXELS = 1024\n",
    "NEW_ROWS = 8\n",
    "NEW_COLS = 9\n",
    "\n",
    "INPUT_IMAGE = CIFAR_IMAGES[0].astype(numpy.float32)\n",
    "OUT_HASH    = numpy.zeros([HASH_SIZE]).astype(numpy.float32)"
   ]
  },
  {
   "cell_type": "code",
   "execution_count": 35,
   "id": "a203935a-c8f5-47da-a011-fd810336357c",
   "metadata": {},
   "outputs": [],
   "source": [
    "ResizeAndGrayOneImage(drv.In(INPUT_IMAGE), drv.Out(OUT_HASH), np.int32(PIXELS) , np.int32(NEW_ROWS) , np.int32(NEW_COLS), \n",
    "            block=(THREADS_X, THREADS_Y, THREADS_Z))"
   ]
  },
  {
   "cell_type": "code",
   "execution_count": 36,
   "id": "acc98b7b-13ba-41aa-8681-5cf8efe38e85",
   "metadata": {},
   "outputs": [
    {
     "data": {
      "text/plain": [
       "'dd599776ab5126b2'"
      ]
     },
     "execution_count": 36,
     "metadata": {},
     "output_type": "execute_result"
    }
   ],
   "source": [
    "floatArrayToHexString(OUT_HASH) # 63E3683A50325929"
   ]
  },
  {
   "cell_type": "markdown",
   "id": "cf4697a4-15b8-4fe1-9edd-7b5c01ae8136",
   "metadata": {},
   "source": [
    "##### 1000 Input Config"
   ]
  },
  {
   "cell_type": "code",
   "execution_count": 37,
   "id": "4415a1e3-7cad-4d68-ae27-5c18c0932a30",
   "metadata": {},
   "outputs": [],
   "source": [
    "HASH_SIZE = 64;\n",
    "THREADS_X_1000 = 1000;\n",
    "THREADS_Y = 1;\n",
    "THREADS_Z = 1;\n",
    "\n",
    "PIXELS = 1024\n",
    "NEW_ROWS = 8\n",
    "NEW_COLS = 9\n",
    "\n",
    "INPUT_IMAGE_1000 = CIFAR_IMAGES[:THREADS_X_1000].astype(numpy.float32).reshape(THREADS_X_1000 * PIXELS * 3)\n",
    "OUT_HASH_1000    = numpy.zeros([THREADS_X_1000 * HASH_SIZE]).astype(numpy.float32)"
   ]
  },
  {
   "cell_type": "code",
   "execution_count": 38,
   "id": "df384e12-25d9-43da-8c52-946505df1ec4",
   "metadata": {},
   "outputs": [],
   "source": [
    "ResizeAndGray1000Images(drv.In(INPUT_IMAGE_1000), drv.Out(OUT_HASH_1000), np.int32(PIXELS), \n",
    "                        np.int32(NEW_ROWS), np.int32(NEW_COLS), np.int32(THREADS_X_1000), np.int32(HASH_SIZE),\n",
    "                        block=(THREADS_X_1000,THREADS_Y,THREADS_Z))"
   ]
  },
  {
   "cell_type": "code",
   "execution_count": 39,
   "id": "fa881948-f35d-46d2-b52b-2ffd45710dd7",
   "metadata": {},
   "outputs": [
    {
     "name": "stdout",
     "output_type": "stream",
     "text": [
      "dd599776ab5126b2\n",
      "af52ad462a297695\n",
      "9aadaa5ca956ac5a\n"
     ]
    }
   ],
   "source": [
    "print(floatArrayToHexString(OUT_HASH_1000[0:64]))\n",
    "print(floatArrayToHexString(OUT_HASH_1000[640:704]))\n",
    "print(floatArrayToHexString(OUT_HASH_1000[6336:6400]))"
   ]
  },
  {
   "cell_type": "markdown",
   "id": "32f26542-a78c-4c69-bb13-4b48b3a4d69f",
   "metadata": {},
   "source": [
    "#### Kernel Performance Tests"
   ]
  },
  {
   "cell_type": "code",
   "execution_count": 40,
   "id": "193762e0-e4b1-4b3a-8686-35db2c47a536",
   "metadata": {},
   "outputs": [],
   "source": [
    "import time"
   ]
  },
  {
   "cell_type": "code",
   "execution_count": 41,
   "id": "314b7d7c-10bd-4904-ab8d-f33bb83c31aa",
   "metadata": {},
   "outputs": [
    {
     "name": "stdout",
     "output_type": "stream",
     "text": [
      "time:  0.0038306713104248047\n"
     ]
    }
   ],
   "source": [
    "start = time.time()\n",
    "\n",
    "ResizeAndGray1000Images(drv.In(INPUT_IMAGE_1000), drv.Out(OUT_HASH_1000), np.int32(PIXELS), \n",
    "                        np.int32(NEW_ROWS), np.int32(NEW_COLS), np.int32(THREADS_X_1000), np.int32(HASH_SIZE),\n",
    "                        block=(THREADS_X_1000,THREADS_Y,THREADS_Z))\n",
    "\n",
    "end = time.time()\n",
    "print( \"time: \", end - start )"
   ]
  },
  {
   "cell_type": "code",
   "execution_count": 42,
   "id": "3c11fc3d-7d91-4764-bdac-8dae34f2f316",
   "metadata": {},
   "outputs": [
    {
     "name": "stdout",
     "output_type": "stream",
     "text": [
      "time:  0.1651620864868164\n"
     ]
    }
   ],
   "source": [
    "start = time.time()\n",
    "\n",
    "for i in range(1000):\n",
    "    ResizeAndGrayOneImage(drv.In(INPUT_IMAGE), drv.Out(OUT_HASH), np.int32(PIXELS) , np.int32(NEW_ROWS) , np.int32(NEW_COLS), \n",
    "            block=(THREADS_X, THREADS_Y, THREADS_Z))\n",
    "end = time.time()\n",
    "print( \"time: \", end - start )"
   ]
  },
  {
   "cell_type": "markdown",
   "id": "86d69f96-3833-44a2-87a4-d6b1831f87fe",
   "metadata": {},
   "source": [
    "#### Compare with other Libraries"
   ]
  },
  {
   "cell_type": "code",
   "execution_count": 31,
   "id": "9f852f44-6126-49e2-95f6-25b925260de0",
   "metadata": {},
   "outputs": [],
   "source": [
    "#!pip install cupy-cuda12x"
   ]
  },
  {
   "cell_type": "code",
   "execution_count": 32,
   "id": "f058c86e-65be-4cdb-918e-473e5645c603",
   "metadata": {},
   "outputs": [],
   "source": [
    "import numpy as np\n",
    "import cupy as cp\n",
    "import time\n",
    "import torch\n",
    "import torchvision.transforms as transforms"
   ]
  },
  {
   "cell_type": "markdown",
   "id": "325af532-3759-4956-b01c-1cf3a09041f6",
   "metadata": {},
   "source": [
    "#### Compare with Torch"
   ]
  },
  {
   "cell_type": "code",
   "execution_count": 33,
   "id": "9078a23b-9833-4e36-8475-b847601ad22d",
   "metadata": {},
   "outputs": [],
   "source": [
    "x0 = torch.randn(torch.Size([1000, 3, 32, 32]))\n",
    "resize = transforms.Resize((9, 8), interpolation=transforms.InterpolationMode.BILINEAR)"
   ]
  },
  {
   "cell_type": "code",
   "execution_count": 41,
   "id": "f95f3077-cba5-457e-aea0-bf9f97b9e9e0",
   "metadata": {},
   "outputs": [
    {
     "name": "stdout",
     "output_type": "stream",
     "text": [
      "time:  0.003156900405883789\n"
     ]
    }
   ],
   "source": [
    "torch.set_default_device(\"cpu\")\n",
    "\n",
    "start = time.time()\n",
    "torch_resize_out = resize(x0)\n",
    "end = time.time()\n",
    "print( \"time: \", end - start )"
   ]
  },
  {
   "cell_type": "code",
   "execution_count": 47,
   "id": "ed7d87ee-3cb5-4e87-a063-8dd5de4950b3",
   "metadata": {},
   "outputs": [
    {
     "name": "stdout",
     "output_type": "stream",
     "text": [
      "time:  0.002462148666381836\n"
     ]
    }
   ],
   "source": [
    "torch.set_default_device(\"cuda\")\n",
    "\n",
    "start = time.time()\n",
    "torch_resize_out = resize(x0)\n",
    "end = time.time()\n",
    "print( \"time: \", end - start )"
   ]
  },
  {
   "cell_type": "markdown",
   "id": "6fdbb9cd-5d01-42e7-88ff-5284b5b65bc8",
   "metadata": {},
   "source": [
    "#### Compare with Cupy"
   ]
  },
  {
   "cell_type": "code",
   "execution_count": 36,
   "id": "fe846376-3012-41c7-a6be-e97d71323f0d",
   "metadata": {},
   "outputs": [],
   "source": [
    "_on_gpu1 = cp.random.rand(3072000, dtype=np.float32)\n",
    "on_gpu1_32 = cp.resize(_on_gpu1, (1000,3,32,32))"
   ]
  },
  {
   "cell_type": "code",
   "execution_count": 52,
   "id": "9024e154-414c-4ee8-9f55-09864c311410",
   "metadata": {},
   "outputs": [
    {
     "name": "stdout",
     "output_type": "stream",
     "text": [
      "0.001682281494140625\n"
     ]
    }
   ],
   "source": [
    "start = time.time()\n",
    "on_gpu1_3 = cp.resize(on_gpu1_32, (1000,3,8,9))\n",
    "end = time.time()\n",
    "print(end - start)"
   ]
  },
  {
   "cell_type": "markdown",
   "id": "fd70644c-dcd4-4f13-b13b-c26020ffa610",
   "metadata": {},
   "source": [
    "### CuLSH"
   ]
  },
  {
   "cell_type": "code",
   "execution_count": 33,
   "id": "8e3866f1-44d1-4fed-8c24-617cd5167c9b",
   "metadata": {},
   "outputs": [],
   "source": [
    "from typing import List, Dict, Tuple\n",
    "\n",
    "class LSH:\n",
    "    def __init__(self, size, hash_size):\n",
    "        self.buckets = []\n",
    "        self.bandsNumber = size\n",
    "        self.rows = int(hash_size**2 / self.bandsNumber)\n",
    "        self.hash_buckets_list: List[Dict[int, List[str]]] = [dict() for _ in range(self.bandsNumber)]\n",
    "        self.signatures = dict()\n",
    "        self.hash_size = hash_size\n",
    "\n",
    "        for i in range(size):\n",
    "            self.buckets.append({})\n",
    "            \n",
    "    def fill_buckets(self, signature, idx):\n",
    "        for i in range(self.bandsNumber):\n",
    "            signature_band = signature[i*self.rows:(i+1)*self.rows]\n",
    "            signature_band_bytes = signature_band.tobytes()\n",
    "            if signature_band_bytes not in self.hash_buckets_list[i]:\n",
    "                self.hash_buckets_list[i][signature_band_bytes] = list()\n",
    "            self.hash_buckets_list[i][signature_band_bytes].append(idx)\n",
    "    \n",
    "    def compute_hash(self, images):\n",
    "        idx = 0\n",
    "        signature_1000 = numpy.zeros([1000 * 64]).astype(numpy.float32)\n",
    "        for i in range(0, 10):\n",
    "            INPUT_IMAGES = images[1000*i:1000*i+1000].astype(numpy.float32).reshape(1000 * 1024 * 3)\n",
    "            ResizeAndGray1000Images(drv.In(INPUT_IMAGES), drv.Out(signature_1000), np.int32(1024), \n",
    "                        np.int32(8), np.int32(9), np.int32(1000), np.int32(64),\n",
    "                        block=(1000,1,1))\n",
    "            \n",
    "            signature_ = signature_1000.astype(numpy.bool_)\n",
    "\n",
    "            for j in range(0, 1000):\n",
    "                one_signature = signature_[64*j:64*j+64]\n",
    "                self.signatures[idx] = np.packbits(one_signature)\n",
    "                self.fill_buckets(one_signature, idx)\n",
    "                idx += 1\n",
    "\n",
    "    def compute_candidate(self):\n",
    "        candidate_pairs = set()\n",
    "        \n",
    "        for hash_buckets in self.hash_buckets_list:\n",
    "            for hash_bucket in hash_buckets.values():\n",
    "                if len(hash_bucket) > 1:\n",
    "                    hash_bucket = sorted(hash_bucket) # Why needed ?\n",
    "                    for i in range(len(hash_bucket)):\n",
    "                        for j in range(i+1, len(hash_bucket)):\n",
    "                            candidate_pairs.add(\n",
    "                                tuple([hash_bucket[i],hash_bucket[j]])\n",
    "                            )\n",
    "        return candidate_pairs\n",
    "\n",
    "    def check_candidate(self, candidate_pairs, threshold=0.9):\n",
    "        \n",
    "        near_duplicates = list()\n",
    "        for cpa, cpb in candidate_pairs:\n",
    "            hd = sum(np.bitwise_xor(\n",
    "                    np.unpackbits(self.signatures[cpa]), \n",
    "                    np.unpackbits(self.signatures[cpb])\n",
    "            ))\n",
    "            similarity = (self.hash_size**2 - hd) / self.hash_size**2\n",
    "            if similarity > threshold:\n",
    "                near_duplicates.append((cpa, cpb, similarity))\n",
    "                \n",
    "        # Sort near-duplicates by descending similarity and return\n",
    "        near_duplicates.sort(key=lambda x:x[2], reverse=True)\n",
    "        return near_duplicates"
   ]
  },
  {
   "cell_type": "code",
   "execution_count": 41,
   "id": "47bacf80-edce-4753-808e-ca857ee6de18",
   "metadata": {},
   "outputs": [
    {
     "name": "stdout",
     "output_type": "stream",
     "text": [
      "time:  0.12008905410766602\n",
      "time:  5.203833341598511\n",
      "time:  125.68330907821655\n"
     ]
    }
   ],
   "source": [
    "lsh = LSH(8, 8)\n",
    "\n",
    "start = time.time()\n",
    "lsh.compute_hash(CIFAR_IMAGES)\n",
    "print( \"time: \", time.time() - start )\n",
    "\n",
    "start = time.time()\n",
    "pairs = lsh.compute_candidate()\n",
    "print( \"time: \", time.time() - start )\n",
    "\n",
    "start = time.time()\n",
    "duplicates = lsh.check_candidate(pairs,0.9)\n",
    "print( \"time: \", time.time() - start )\n"
   ]
  },
  {
   "cell_type": "code",
   "execution_count": 42,
   "id": "86c6c185-156d-4da7-9624-b5896b4f67ef",
   "metadata": {},
   "outputs": [
    {
     "name": "stdout",
     "output_type": "stream",
     "text": [
      "10000\n",
      "8516493\n",
      "1066\n"
     ]
    }
   ],
   "source": [
    "print( len(CIFAR_IMAGES) )\n",
    "print( len(pairs) )\n",
    "print( len(duplicates) )"
   ]
  },
  {
   "cell_type": "markdown",
   "id": "17f83db8-1111-4d69-93d0-b6156d9aea71",
   "metadata": {},
   "source": [
    "#### Kernel with interpolation"
   ]
  },
  {
   "cell_type": "code",
   "execution_count": 48,
   "id": "90ae28f8-11ab-4ba0-a74c-c04a5bf90235",
   "metadata": {},
   "outputs": [],
   "source": [
    "# https://annmay10.medium.com/resizing-images-using-various-interpolation-techniques-4b99800999f2\n",
    "# https://chao-ji.github.io/jekyll/update/2018/07/19/BilinearResize.html\n",
    "\n",
    "# https://stackoverflow.com/questions/26089893/understanding-numpys-einsum"
   ]
  },
  {
   "cell_type": "code",
   "execution_count": 49,
   "id": "97268cfa-2bab-4047-aa2d-d4d38e2da2c3",
   "metadata": {},
   "outputs": [],
   "source": [
    "mod = SourceModule(\"\"\"\n",
    "\n",
    "#include <cmath>\n",
    "\n",
    "__global__ void ResizeAndGray1000ImagesInterpoted(float* image, float* hash, const int pixels, const int new_rows, \n",
    "                                        const int new_cols, const int amountOfImages, const int hashSize)\n",
    "{\n",
    "\n",
    "    int idx           = threadIdx.x + blockIdx.x * blockDim.x;\n",
    "\n",
    "    float xRatio = pixels / new_cols;\n",
    "    float yRatio = pixels / new_rows;\n",
    "\n",
    "    if ( xRatio < yRatio ) xRatio = yRatio;\n",
    "    \n",
    "    if (idx > amountOfImages) return;\n",
    "\n",
    "    int imageStartIdx = pixels * pixels * 3 * idx;\n",
    "\n",
    "    int new_pixels = new_rows * new_cols;\n",
    "    \n",
    "    for( int i=0; i<new_rows; i++ )\n",
    "    {\n",
    "        for ( int j=0; j<new_cols; j++)\n",
    "        {\n",
    "            float xPixel = i*yRatio;\n",
    "            float yPixel = j*xRatio;\n",
    "\n",
    "            const int x_l = floor(xPixel);  // x lower\n",
    "            const int y_l = floor(yPixel);\n",
    "            const int x_h = ceil(xPixel);   // x higher\n",
    "            const int y_h = ceil(yPixel);\n",
    "\n",
    "            const float x_weight = xPixel - x_l;\n",
    "            const float y_weight = yPixel - y_l;\n",
    "\n",
    "            const int pixelToTakeA = imageStartIdx + x_l * 32 + y_l;\n",
    "            const int pixelToTakeB = imageStartIdx + x_h * 32 + y_l;\n",
    "            const int pixelToTakeC = imageStartIdx + x_l * 32 + y_h;\n",
    "            const int pixelToTakeD = imageStartIdx + x_h * 32 + y_h;\n",
    "            \n",
    "            const float a = 0.2989 * image[pixelToTakeA] + 0.5870 * image[1024+pixelToTakeA] + 0.1140 * image[2048+pixelToTakeA];\n",
    "            const float b = 0.2989 * image[pixelToTakeB] + 0.5870 * image[1024+pixelToTakeB] + 0.1140 * image[2048+pixelToTakeB];\n",
    "            const float c = 0.2989 * image[pixelToTakeC] + 0.5870 * image[1024+pixelToTakeC] + 0.1140 * image[2048+pixelToTakeC];\n",
    "            const float d = 0.2989 * image[pixelToTakeD] + 0.5870 * image[1024+pixelToTakeD] + 0.1140 * image[2048+pixelToTakeD];\n",
    "\n",
    "            const float pixel = a * (1 - x_weight) * (1 - y_weight) \n",
    "              + b * x_weight * (1 - y_weight) +\n",
    "              c * y_weight * (1 - x_weight) +\n",
    "              d * x_weight * y_weight;\n",
    "              \n",
    "            hash[new_pixels * idx + i * new_cols + j ] = pixel;\n",
    "        }\n",
    "    }\n",
    "}\n",
    "\n",
    "\"\"\")\n",
    "\n",
    "ResizeAndGray1000ImagesInterpoted = mod.get_function(\"ResizeAndGray1000ImagesInterpoted\")"
   ]
  },
  {
   "cell_type": "code",
   "execution_count": 50,
   "id": "f05626ed-3e0e-4be2-a7d2-d506fabcf62a",
   "metadata": {},
   "outputs": [],
   "source": [
    "mod = SourceModule(\"\"\"\n",
    "\n",
    "#include <cmath>\n",
    "\n",
    "__global__ void ResizeAndGray1000ImagesInterpotedHash(float* image, float* hash, const int pixels, const int new_rows, \n",
    "                                        const int new_cols, const int amountOfImages, const int hashSize)\n",
    "{\n",
    "\n",
    "    int idx           = threadIdx.x + blockIdx.x * blockDim.x;\n",
    "    float* pixelsValues = new float [new_rows * new_cols];\n",
    "\n",
    "    const float originImageSize = 32;\n",
    "    float xRatio = originImageSize / new_cols;\n",
    "    float yRatio = originImageSize / new_rows;\n",
    "\n",
    "    if ( xRatio < yRatio ) xRatio = yRatio;\n",
    "    \n",
    "    if (idx > amountOfImages) return;\n",
    "\n",
    "    int imageStartIdx = pixels * pixels * 3 * idx;\n",
    "    \n",
    "    for( int i=0; i<new_rows; i++ )\n",
    "    {\n",
    "        for ( int j=0; j<new_cols; j++)\n",
    "        {\n",
    "            float xPixel = i*yRatio;\n",
    "            float yPixel = j*xRatio;\n",
    "\n",
    "            const int x_l = floor(xPixel);  // x lower\n",
    "            const int y_l = floor(yPixel);\n",
    "            const int x_h = ceil(xPixel);   // x higher\n",
    "            const int y_h = ceil(yPixel);\n",
    "\n",
    "            const float x_weight = xPixel - x_l;\n",
    "            const float y_weight = yPixel - y_l;\n",
    "\n",
    "            const int pixelToTakeA = imageStartIdx + x_l * 32 + y_l;\n",
    "            const int pixelToTakeB = imageStartIdx + x_h * 32 + y_l;\n",
    "            const int pixelToTakeC = imageStartIdx + x_l * 32 + y_h;\n",
    "            const int pixelToTakeD = imageStartIdx + x_h * 32 + y_h;\n",
    "            \n",
    "            const float a = 0.2989 * image[pixelToTakeA] + 0.5870 * image[1024+pixelToTakeA] + 0.1140 * image[2048+pixelToTakeA];\n",
    "            const float b = 0.2989 * image[pixelToTakeB] + 0.5870 * image[1024+pixelToTakeB] + 0.1140 * image[2048+pixelToTakeB];\n",
    "            const float c = 0.2989 * image[pixelToTakeC] + 0.5870 * image[1024+pixelToTakeC] + 0.1140 * image[2048+pixelToTakeC];\n",
    "            const float d = 0.2989 * image[pixelToTakeD] + 0.5870 * image[1024+pixelToTakeD] + 0.1140 * image[2048+pixelToTakeD];\n",
    "\n",
    "            const float pixel = a * (1 - x_weight) * (1 - y_weight) \n",
    "              + b * x_weight * (1 - y_weight) +\n",
    "              c * y_weight * (1 - x_weight) +\n",
    "              d * x_weight * y_weight;\n",
    "              \n",
    "            pixelsValues[i * new_rows + j ] = pixel;\n",
    "        }\n",
    "    }\n",
    "\n",
    "    for( int i=0; i<new_rows; i++ )\n",
    "    {\n",
    "        for ( int j=1; j<new_cols; j++)\n",
    "        {\n",
    "            pixelsValues[i*new_rows+j-1] < pixelsValues[i*new_rows+j] ? \n",
    "                hash[hashSize*idx+i*new_rows+j-1] = 1 : hash[hashSize*idx+i*new_rows+j-1] = 0;\n",
    "        }\n",
    "    }\n",
    "\n",
    "    delete pixelsValues;\n",
    "\n",
    "    __syncthreads();\n",
    "}\n",
    "\n",
    "\"\"\")\n",
    "\n",
    "ResizeAndGray1000ImagesInterpotedHash = mod.get_function(\"ResizeAndGray1000ImagesInterpotedHash\")"
   ]
  },
  {
   "cell_type": "code",
   "execution_count": 51,
   "id": "60b18744-d087-4313-839e-62b2f093be72",
   "metadata": {},
   "outputs": [],
   "source": [
    "THREADS_X_1000 = 1000;\n",
    "THREADS_Y = 1;\n",
    "THREADS_Z = 1;\n",
    "\n",
    "ROWS = 32\n",
    "COLUMNS = 32\n",
    "\n",
    "NEW_ROWS = 16\n",
    "NEW_COLS = 16\n",
    "\n",
    "HASH_SIZE = NEW_ROWS * NEW_COLS\n",
    "\n",
    "INPUT_IMAGE_1000 = CIFAR_IMAGES[:THREADS_X_1000].astype(numpy.float32).reshape(THREADS_X_1000 * ROWS * COLUMNS * 3)\n",
    "OUT_HASH_1000    = numpy.zeros([THREADS_X_1000 * HASH_SIZE]).astype(numpy.float32)"
   ]
  },
  {
   "cell_type": "code",
   "execution_count": 52,
   "id": "cf1d8b02-ef5d-4219-a639-3d4f696a3f22",
   "metadata": {},
   "outputs": [
    {
     "name": "stdout",
     "output_type": "stream",
     "text": [
      "(3072000,)\n",
      "(256000,)\n"
     ]
    }
   ],
   "source": [
    "print(INPUT_IMAGE_1000.shape)\n",
    "print(OUT_HASH_1000.shape)"
   ]
  },
  {
   "cell_type": "code",
   "execution_count": 53,
   "id": "246dd1e6-0b23-4621-bb3e-b480da8f4afd",
   "metadata": {},
   "outputs": [],
   "source": [
    "ResizeAndGray1000ImagesInterpoted(drv.In(INPUT_IMAGE_1000), drv.Out(OUT_HASH_1000), np.int32(ROWS), \n",
    "                        np.int32(NEW_ROWS), np.int32(NEW_COLS), np.int32(THREADS_X_1000), np.int32(HASH_SIZE),\n",
    "                        block=(THREADS_X_1000,THREADS_Y,THREADS_Z))"
   ]
  },
  {
   "cell_type": "code",
   "execution_count": 54,
   "id": "549088b9-3150-41e3-b154-9daea181b80a",
   "metadata": {},
   "outputs": [],
   "source": [
    "imageP = OUT_HASH_1000[0:256].reshape(1,16,16)"
   ]
  },
  {
   "cell_type": "code",
   "execution_count": 55,
   "id": "7768b60e-2998-470d-938d-3c6516d9badb",
   "metadata": {},
   "outputs": [
    {
     "data": {
      "image/png": "[encoded data removed]",
      "text/plain": [
       "<Figure size 640x480 with 1 Axes>"
      ]
     },
     "metadata": {},
     "output_type": "display_data"
    }
   ],
   "source": [
    "from matplotlib import pyplot as plt\n",
    "plt.imshow(imageP.T, interpolation='nearest', cmap='gray')\n",
    "plt.show()"
   ]
  },
  {
   "cell_type": "code",
   "execution_count": 56,
   "id": "9c8f096d-881f-41b6-b8c1-80fad3eb34f9",
   "metadata": {},
   "outputs": [],
   "source": [
    "THREADS_X_1000 = 1000;\n",
    "THREADS_Y = 1;\n",
    "THREADS_Z = 1;\n",
    "\n",
    "ROWS = 32\n",
    "COLUMNS = 32\n",
    "\n",
    "NEW_ROWS = 16\n",
    "NEW_COLS = 17 # always + 1\n",
    "\n",
    "HASH_SIZE = NEW_ROWS * (NEW_COLS-1)\n",
    "\n",
    "INPUT_IMAGE_1000 = CIFAR_IMAGES[:THREADS_X_1000].astype(numpy.float32).reshape(THREADS_X_1000 * ROWS * COLUMNS * 3)\n",
    "OUT_HASH_1000    = numpy.zeros([THREADS_X_1000 * HASH_SIZE]).astype(numpy.float32)"
   ]
  },
  {
   "cell_type": "code",
   "execution_count": 57,
   "id": "d695c116-f8ca-452d-8b34-031196afbc70",
   "metadata": {},
   "outputs": [
    {
     "name": "stdout",
     "output_type": "stream",
     "text": [
      "time:  0.02434849739074707\n"
     ]
    }
   ],
   "source": [
    "import time\n",
    "start = time.time()\n",
    "\n",
    "ResizeAndGray1000ImagesInterpotedHash(drv.In(INPUT_IMAGE_1000), drv.Out(OUT_HASH_1000), np.int32(ROWS), \n",
    "                        np.int32(NEW_ROWS), np.int32(NEW_COLS), np.int32(THREADS_X_1000), np.int32(HASH_SIZE),\n",
    "                        block=(THREADS_X_1000,THREADS_Y,THREADS_Z))\n",
    "end = time.time()\n",
    "print( \"time: \", end - start )"
   ]
  },
  {
   "cell_type": "code",
   "execution_count": 58,
   "id": "9f2f04b1-d340-49c4-b30c-bf3c746dc26e",
   "metadata": {},
   "outputs": [
    {
     "name": "stdout",
     "output_type": "stream",
     "text": [
      "7558eb6ccae1d123\n",
      "85cd2d07169f12df\n",
      "d893ead9b27c9c39\n"
     ]
    }
   ],
   "source": [
    "print(floatArrayToHexString(OUT_HASH_1000[0:64]))\n",
    "print(floatArrayToHexString(OUT_HASH_1000[640:704]))\n",
    "print(floatArrayToHexString(OUT_HASH_1000[6336:6400]))"
   ]
  },
  {
   "cell_type": "markdown",
   "id": "4e0a9452-64b3-435d-8116-a485e06ec9b0",
   "metadata": {},
   "source": [
    "#### Experiments with CUDA LSH"
   ]
  },
  {
   "cell_type": "code",
   "execution_count": 59,
   "id": "26e9c797-7de6-426a-9579-126d4b38e0d3",
   "metadata": {},
   "outputs": [],
   "source": [
    "# Cache w pamieciu GPU danych zrobic\n",
    "# https://stackoverflow.com/questions/39445786/how-to-define-cuda-device-constant-like-a-c-const-constexpr\n",
    "# Whats about Torch resize kernel ???? - comparision\n",
    "# whats about numpy on gpu ????? - comparision\n",
    "# Zgrać zdjecia i porownac jak radzi sobie w sytuacji zycia codziennego !!\n",
    "# Zdjecia z poza setu jak sobie radzi - dHash i NeuralNetwork\n",
    "# https://stackoverflow.com/questions/30261859/using-dictionary-in-pycuda\n",
    "#\n",
    "# Brak wsparcia Algorithm i functional oraz dyrektyw z extern \"C\"\n",
    "\n",
    "# optymalizacja memory jest ale jeszcze jakas bardziej customowa\n",
    "# operacji na bitach nawet nie mozna normalnie zrobic\n",
    "# https://forums.developer.nvidia.com/t/pycuda-thrust-example-in-case-someone-is-curious/17795"
   ]
  },
  {
   "cell_type": "code",
   "execution_count": 60,
   "id": "1f553b04-95a7-4a7e-92bc-fe6f4713e4d2",
   "metadata": {},
   "outputs": [],
   "source": [
    "mod = SourceModule(\"\"\"\n",
    "\n",
    "__global__ void ComparePairs(float* pairs, float* signatures, float* res, float threshold, float hash_size, int pairsElements)\n",
    "{\n",
    "    unsigned int x = blockIdx.x * blockDim.x + threadIdx.x;\n",
    "\n",
    "    if(x > pairsElements) return;\n",
    "\n",
    "    const int bitsNumbers = hash_size * hash_size / 8;\n",
    "    const int imageIdx1 = pairs[x*2];\n",
    "    const int imageIdx2 = pairs[x*2+1];\n",
    "    unsigned int hammingDistance = 0;\n",
    "    \n",
    "    for(int i=0; i<bitsNumbers; i++)\n",
    "    {\n",
    "        unsigned int common = (unsigned int)signatures[imageIdx1*bitsNumbers+i] ^ (unsigned int)signatures[imageIdx2*bitsNumbers+i];\n",
    "\n",
    "         while ( common>0 )\n",
    "         {\n",
    "            unsigned int val = common&1;\n",
    "            common>>=1;\n",
    "            hammingDistance += val;\n",
    "        }\n",
    "    }\n",
    "\n",
    "    float similarity = (hash_size * hash_size - hammingDistance) / ( hash_size * hash_size );\n",
    "\n",
    "    if ( similarity >= threshold )\n",
    "    {\n",
    "        res[x] = similarity;\n",
    "    }\n",
    "}\n",
    "\n",
    "\"\"\")\n",
    "\n",
    "ComparePairs = mod.get_function(\"ComparePairs\")"
   ]
  },
  {
   "cell_type": "code",
   "execution_count": 61,
   "id": "730f7b59-4c09-4bc5-a493-9eed995faa4d",
   "metadata": {},
   "outputs": [],
   "source": [
    "#pairs = numpy.zeros([3]).astype(numpy.float32)\n",
    "#pairs[0] = 7\n",
    "#pairs[1] = 2\n",
    "\n",
    "#res = numpy.zeros([2]).astype(numpy.float32)\n",
    "\n",
    "#ComparePairs(drv.In(pairs), drv.Out(res), np.float32(0.9), np.int8(16), block=(1000,1,1), grid=(500,1,1))\n",
    "\n",
    "#ComparePairs(drv.In(pairs), drv.In(self.signatures), drv.Out(resSimilarity), \n",
    "#                         np.float32(threshold), np.int8(self.hash_size), np.int32(len(pairs)),\n",
    "#                         block=(1000,1,1), grid=(500,1,1))\n",
    "\n",
    "\n",
    "#print(pairs)\n",
    "#print(res)\n",
    "#print(int(pairs[0]) ^ int(pairs[1]))"
   ]
  },
  {
   "cell_type": "code",
   "execution_count": 203,
   "id": "c28e7d22-1c41-41d4-af5e-c740dc5859dd",
   "metadata": {},
   "outputs": [],
   "source": [
    "from typing import List, Dict, Tuple\n",
    "\n",
    "class LSH:\n",
    "    def __init__(self, size, hash_size, images):\n",
    "        self.buckets = []\n",
    "        self.bandsNumber = size\n",
    "        self.rows = int(hash_size**2 / self.bandsNumber)\n",
    "        self.hash_buckets_list: List[Dict[int, List[str]]] = [dict() for _ in range(self.bandsNumber)]\n",
    "        self.signatures = numpy.zeros([len(images), hash_size // 8 * hash_size]).astype(numpy.float32)\n",
    "        self.hash_size = hash_size\n",
    "        self.images = images;\n",
    "\n",
    "        for i in range(size):\n",
    "            self.buckets.append({})\n",
    "            \n",
    "    def fill_buckets(self, signature, idx):\n",
    "        for i in range(self.bandsNumber):\n",
    "            signature_band = signature[i*self.rows:(i+1)*self.rows]\n",
    "            signature_band_bytes = signature_band.tobytes()\n",
    "            if signature_band_bytes not in self.hash_buckets_list[i]:\n",
    "                self.hash_buckets_list[i][signature_band_bytes] = list()\n",
    "            self.hash_buckets_list[i][signature_band_bytes].append(idx)\n",
    "    \n",
    "    def compute_hash(self):\n",
    "        idx = 0\n",
    "        IMAGES_AT_ONCE = 1000;\n",
    "        for i in range(0, len(self.images)//IMAGES_AT_ONCE):\n",
    "            signature_1000 = numpy.zeros([IMAGES_AT_ONCE * self.hash_size**2 ]).astype(numpy.float32)\n",
    "            INPUT_IMAGES = self.images[IMAGES_AT_ONCE*i:IMAGES_AT_ONCE*i+IMAGES_AT_ONCE].astype(numpy.float32).reshape(IMAGES_AT_ONCE * 1024 * 3)\n",
    "            ResizeAndGray1000ImagesInterpotedHash(drv.In(INPUT_IMAGES), drv.Out(signature_1000), np.int32(32), \n",
    "                        np.int32(self.hash_size), np.int32(self.hash_size+1), np.int32(IMAGES_AT_ONCE), np.int32(self.hash_size**2),\n",
    "                        block=(IMAGES_AT_ONCE,1,1))\n",
    "\n",
    "            for j in range(0, IMAGES_AT_ONCE):\n",
    "                one_signature = signature_1000[self.hash_size**2 * j: self.hash_size**2 * j+ self.hash_size**2]\n",
    "                self.signatures[idx] = np.packbits(one_signature.astype(np.int8)).astype(np.float32)\n",
    "                #self.signatures[idx] = one_signature.astype(np.int8)\n",
    "                self.fill_buckets(one_signature, idx)\n",
    "                idx += 1\n",
    "\n",
    "    def compute_candidate(self):\n",
    "        candidate_pairs = []\n",
    "\n",
    "        for hash_buckets in self.hash_buckets_list:\n",
    "            for hash_bucket in hash_buckets.values():\n",
    "                if len(hash_bucket) > 1:\n",
    "                    hash_bucket = sorted(hash_bucket)\n",
    "                    for i in range(len(hash_bucket)):\n",
    "                        for j in range(i+1, len(hash_bucket)):\n",
    "                            candidate_pairs.append(hash_bucket[i])\n",
    "                            candidate_pairs.append(hash_bucket[j])\n",
    "        return candidate_pairs\n",
    "\n",
    "    def check_candidate(self, candidate_pairs, threshold=0.9):\n",
    "        near_duplicates = list()\n",
    "        pairsNumpy = numpy.asarray(candidate_pairs, dtype=np.float32)\n",
    "        signaturesReshaped = self.signatures.reshape(-1)\n",
    "        \n",
    "        for i in range(0, pairsNumpy.shape[0], 1000000):\n",
    "            resSimilarity = numpy.zeros([500000]).astype(numpy.float32)\n",
    "            inTable = pairsNumpy[0+i:1000000+i]\n",
    "            ComparePairs(drv.In(inTable), drv.In(signaturesReshaped), drv.Out(resSimilarity), \n",
    "                         np.float32(threshold), np.float32(self.hash_size), np.int32(inTable.shape[0]//2),\n",
    "                         block=(1000,1,1), grid=(500,1,1))\n",
    "\n",
    "            for j in range(0, len(resSimilarity)):\n",
    "                if resSimilarity[j] > 0 and j*2 < len(pairsNumpy):\n",
    "                    near_duplicates.append((pairsNumpy[j*2], pairsNumpy[j*2+1], resSimilarity[j]))\n",
    "\n",
    "        # Sort near-duplicates by descending similarity and return\n",
    "        near_duplicates.sort(key=lambda x:x[2], reverse=True)\n",
    "        return near_duplicates"
   ]
  },
  {
   "cell_type": "code",
   "execution_count": 1,
   "id": "004308ce-78b9-4c60-89b1-935348daae94",
   "metadata": {},
   "outputs": [
    {
     "ename": "NameError",
     "evalue": "name 'CIFAR_IMAGES' is not defined",
     "output_type": "error",
     "traceback": [
      "\u001b[0;31m---------------------------------------------------------------------------\u001b[0m",
      "\u001b[0;31mNameError\u001b[0m                                 Traceback (most recent call last)",
      "Cell \u001b[0;32mIn[1], line 4\u001b[0m\n\u001b[1;32m      1\u001b[0m \u001b[38;5;66;03m#IMG = IMAGENET_IMAGES[0:10000]\u001b[39;00m\n\u001b[1;32m      2\u001b[0m \u001b[38;5;66;03m#LABEL = IMAGENET_LABELS[0:10000]\u001b[39;00m\n\u001b[0;32m----> 4\u001b[0m IMG \u001b[38;5;241m=\u001b[39m \u001b[43mCIFAR_IMAGES\u001b[49m[\u001b[38;5;241m0\u001b[39m:\u001b[38;5;241m50000\u001b[39m]\n\u001b[1;32m      5\u001b[0m LABEL \u001b[38;5;241m=\u001b[39m CIFAR_LABELS[\u001b[38;5;241m0\u001b[39m:\u001b[38;5;241m50000\u001b[39m]\n",
      "\u001b[0;31mNameError\u001b[0m: name 'CIFAR_IMAGES' is not defined"
     ]
    }
   ],
   "source": [
    "#IMG = IMAGENET_IMAGES[0:10000]\n",
    "#LABEL = IMAGENET_LABELS[0:10000]\n",
    "\n",
    "IMG = CIFAR_IMAGES[0:50000]\n",
    "LABEL = CIFAR_LABELS[0:50000]"
   ]
  },
  {
   "cell_type": "code",
   "execution_count": 2,
   "id": "f981e456-e59b-4499-b3d5-586a4cf3ae3a",
   "metadata": {},
   "outputs": [
    {
     "ename": "NameError",
     "evalue": "name 'time' is not defined",
     "output_type": "error",
     "traceback": [
      "\u001b[0;31m---------------------------------------------------------------------------\u001b[0m",
      "\u001b[0;31mNameError\u001b[0m                                 Traceback (most recent call last)",
      "Cell \u001b[0;32mIn[2], line 1\u001b[0m\n\u001b[0;32m----> 1\u001b[0m start \u001b[38;5;241m=\u001b[39m \u001b[43mtime\u001b[49m\u001b[38;5;241m.\u001b[39mtime()\n\u001b[1;32m      2\u001b[0m lsh \u001b[38;5;241m=\u001b[39m LSH(\u001b[38;5;241m8\u001b[39m, \u001b[38;5;241m8\u001b[39m, IMG)\n\u001b[1;32m      3\u001b[0m \u001b[38;5;28mprint\u001b[39m( \u001b[38;5;124m\"\u001b[39m\u001b[38;5;124mtime: \u001b[39m\u001b[38;5;124m\"\u001b[39m, time\u001b[38;5;241m.\u001b[39mtime() \u001b[38;5;241m-\u001b[39m start )\n",
      "\u001b[0;31mNameError\u001b[0m: name 'time' is not defined"
     ]
    }
   ],
   "source": [
    "start = time.time()\n",
    "lsh = LSH(8, 8, IMG)\n",
    "print( \"time: \", time.time() - start )\n",
    "\n",
    "start = time.time()\n",
    "lsh.compute_hash()\n",
    "print( \"time: \", time.time() - start )\n",
    "\n",
    "start = time.time()\n",
    "pairs = lsh.compute_candidate()\n",
    "print( \"time: \", time.time() - start )\n",
    "print( len(pairs) ) \n",
    "\n",
    "start = time.time()\n",
    "duplicates = lsh.check_candidate(pairs,0.9)\n",
    "end = time.time()\n",
    "print( \"time: \", end - start )\n",
    "print( len(duplicates) )"
   ]
  },
  {
   "cell_type": "code",
   "execution_count": null,
   "id": "39f96e2b-33a3-4680-8855-67191ad3a94f",
   "metadata": {},
   "outputs": [],
   "source": [
    "from matplotlib import pyplot as plt\n",
    "\n",
    "num_row = 10\n",
    "num_col = 6\n",
    "\n",
    "idx_start = 0;\n",
    "\n",
    "fig, axes = plt.subplots(num_row, num_col, figsize=(3*num_col,3*num_row))\n",
    "for i in range(0, num_row*num_col, 2):\n",
    "    ax = axes[i//num_col, i%num_col]\n",
    "    ax.imshow(IMG[int(duplicates[i//2 + idx_start][0])].reshape(3,32,32).T)\n",
    "    ax.set_title(f\"\"\"Label: {duplicates[i//2 + idx_start][2]}, {LABEL[int(duplicates[i//2 + idx_start][0])]}, {int(duplicates[i//2 + idx_start][0])}\"\"\")\n",
    "\n",
    "    ax = axes[(i+1)//num_col, (i+1)%num_col]\n",
    "    ax.imshow(IMG[int(duplicates[i//2 + idx_start][1])].reshape(3,32,32).T)\n",
    "    ax.set_title(f\"\"\"Label: {duplicates[i//2 + idx_start][2]}, {LABEL[int(duplicates[i//2 + idx_start][1])]}, {int(duplicates[i//2 + idx_start][1])}\"\"\")\n",
    "\n",
    "\n",
    "plt.tight_layout()\n",
    "plt.xticks([])\n",
    "plt.yticks([])\n",
    "\n",
    "plt.show()"
   ]
  },
  {
   "cell_type": "code",
   "execution_count": 183,
   "id": "5097dba3-8ae8-4287-9249-c55b96b3dc4f",
   "metadata": {},
   "outputs": [
    {
     "data": {
      "image/png": "[encoded data removed]",
      "text/plain": [
       "<Figure size 640x480 with 1 Axes>"
      ]
     },
     "metadata": {},
     "output_type": "display_data"
    }
   ],
   "source": [
    "INPUT_IMAGE_1 = CIFAR_IMAGES[206].astype(numpy.float32).reshape(1 * ROWS * COLUMNS * 3)\n",
    "OUT_HASH_1    = numpy.zeros([1 * 72]).astype(numpy.float32)\n",
    "\n",
    "ResizeAndGray1000ImagesInterpoted(drv.In(INPUT_IMAGE_1), drv.Out(OUT_HASH_1), np.int32(32), \n",
    "                        np.int32(8), np.int32(9), np.int32(1), np.int32(72),\n",
    "                        block=(1,1,1))\n",
    "\n",
    "plt.imshow(OUT_HASH_1.reshape(1,8,9).T, interpolation='nearest', cmap='grey')\n",
    "plt.show()"
   ]
  },
  {
   "cell_type": "code",
   "execution_count": 184,
   "id": "ef168f75-0b9a-44c7-a04e-4a71213aa2a0",
   "metadata": {},
   "outputs": [
    {
     "data": {
      "image/png": "[encoded data removed]",
      "text/plain": [
       "<Figure size 640x480 with 1 Axes>"
      ]
     },
     "metadata": {},
     "output_type": "display_data"
    }
   ],
   "source": [
    "INPUT_IMAGE_1 = CIFAR_IMAGES[9181].astype(numpy.float32).reshape(1 * ROWS * COLUMNS * 3)\n",
    "OUT_HASH_1    = numpy.zeros([1 * 72]).astype(numpy.float32)\n",
    "\n",
    "ResizeAndGray1000ImagesInterpoted(drv.In(INPUT_IMAGE_1), drv.Out(OUT_HASH_1), np.int32(32), \n",
    "                        np.int32(8), np.int32(9), np.int32(1), np.int32(72),\n",
    "                        block=(1,1,1))\n",
    "\n",
    "plt.imshow(OUT_HASH_1.reshape(1,8,9).T, interpolation='nearest', cmap='grey')\n",
    "plt.show()"
   ]
  },
  {
   "cell_type": "code",
   "execution_count": 185,
   "id": "7cbb6bae-7e4a-4d02-b637-1dfa613a234e",
   "metadata": {},
   "outputs": [],
   "source": [
    "# Wnioski z wynikow i testow\n",
    "# no do 0.7 sa podobne, ale tez i bezsensowne duplikaty......"
   ]
  },
  {
   "cell_type": "code",
   "execution_count": 193,
   "id": "e59f95e7-e0df-4be7-a04a-b7745ec1f78d",
   "metadata": {},
   "outputs": [
    {
     "name": "stdout",
     "output_type": "stream",
     "text": [
      "10104.0\n",
      "20104.0\n",
      "True duplicates:  7798\n",
      "All duplicates:  9526\n",
      "0.8186017216040311\n"
     ]
    }
   ],
   "source": [
    "withoutLastElements = 2875000#577600\n",
    "sumTrueDuplicates = 0\n",
    "print(duplicates[0][0])\n",
    "print(duplicates[0][1])\n",
    "for i in range( len(duplicates) - withoutLastElements ):\n",
    "    if int(LABEL[int(duplicates[i][0])]) == int(LABEL[int(duplicates[i][1])]):\n",
    "        sumTrueDuplicates += 1\n",
    "        \n",
    "\n",
    "print(\"True duplicates: \", sumTrueDuplicates)\n",
    "print(\"All duplicates: \", len(duplicates) - withoutLastElements )\n",
    "acc = sumTrueDuplicates / ( len(duplicates) - withoutLastElements )\n",
    "print(acc)"
   ]
  },
  {
   "cell_type": "code",
   "execution_count": null,
   "id": "f6b3ccee-590f-4f20-b5c8-0d9e89500e60",
   "metadata": {},
   "outputs": [],
   "source": []
  },
  {
   "cell_type": "code",
   "execution_count": null,
   "id": "37bea75e-e0fd-4713-bbc1-bdefd994c9f6",
   "metadata": {},
   "outputs": [],
   "source": []
  },
  {
   "cell_type": "code",
   "execution_count": null,
   "id": "094a3764-6372-460e-8729-06ef01ec42f9",
   "metadata": {},
   "outputs": [],
   "source": []
  }
 ],
 "metadata": {
  "kernelspec": {
   "display_name": "Python 3 (ipykernel)",
   "language": "python",
   "name": "python3"
  },
  "language_info": {
   "codemirror_mode": {
    "name": "ipython",
    "version": 3
   },
   "file_extension": ".py",
   "mimetype": "text/x-python",
   "name": "python",
   "nbconvert_exporter": "python",
   "pygments_lexer": "ipython3",
   "version": "3.10.12"
  }
 },
 "nbformat": 4,
 "nbformat_minor": 5
}
