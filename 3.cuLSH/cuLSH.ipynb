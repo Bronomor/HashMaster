{
 "cells": [
  {
   "cell_type": "markdown",
   "id": "ae83c4f9-9704-43e2-86d1-cd35e6b756ee",
   "metadata": {},
   "source": [
    "## CuLSH"
   ]
  },
  {
   "cell_type": "code",
   "execution_count": 1,
   "id": "026a69be-64c7-4cf2-a849-db5b74bfc399",
   "metadata": {},
   "outputs": [],
   "source": [
    "#!pip install pycuda\n",
    "#https://pypi.org/project/pycuda/\n",
    "#https://documen.tician.de/pycuda/\n",
    "#https://stackoverflow.com/questions/68256354/cuda-c-library-in-python-transfer-gpu-memory-data-from-one-functions-to-ower\n",
    "#https://forums.developer.nvidia.com/t/fast-memcpy-micro-benchmarking-cuda-python-wrapper-multi-gpu-seg-fault/274712"
   ]
  },
  {
   "cell_type": "code",
   "execution_count": 2,
   "id": "41850c1e-9a66-4011-b50e-5fa602685897",
   "metadata": {},
   "outputs": [],
   "source": [
    "# backup\n",
    "#https://www.cv-foundation.org/openaccess/content_cvpr_2016/papers/Liu_Deep_Supervised_Hashing_CVPR_2016_paper.pdf\n",
    "#https://github.com/thuml/HashNet/tree/master\n",
    "#https://github.com/flyingpot/pytorch_deephash\n",
    "#https://github.com/weixu000/DSH-pytorch/blob/master/utils.py\n",
    "#https://github.com/swuxyj/DeepHash-pytorch?tab=readme-ov-file\n",
    "#https://github.com/dansuh17/deep-supervised-hashing\n",
    "#https://github.com/inducer/pycuda/blob/main/examples/demo_elementwise.py"
   ]
  },
  {
   "cell_type": "code",
   "execution_count": 3,
   "id": "7b976a80-b954-4bde-a4f8-12f70eca5930",
   "metadata": {},
   "outputs": [],
   "source": [
    "#Hash on gpu\n",
    "#https://docs.rapids.ai/api/libcudf/stable/group__nvtext__minhash\n",
    "\n",
    "\n",
    "#https://on-demand.gputechconf.com/gtc/2015/presentation/S5796-Peter-Andreas-Entschev.pdf\n",
    "#https://www.hackerfactor.com/blog/index.php?/archives/432-Looks-Like-It.html\n",
    "#http://www.phash.org/\n"
   ]
  },
  {
   "cell_type": "code",
   "execution_count": 4,
   "id": "2ae72577-2817-4c6c-8c23-ef2c9e3b5c75",
   "metadata": {},
   "outputs": [
    {
     "name": "stdout",
     "output_type": "stream",
     "text": [
      "[ 2.1087716   2.2914555   1.7716545  -1.3177116  -0.07604671 -0.7493813\n",
      " -0.17168829  0.47271165  0.19768478 -0.38715538  1.1830893   1.7740462\n",
      "  0.09638056  1.1157436   0.57610524  0.16591892 -0.06123103  1.0992761\n",
      "  0.5507163   0.2769248 ]\n",
      "[ 6.1166215e-01  8.9619738e-01  5.1631701e-01 -3.4198734e-01\n",
      "  1.3006571e-01  2.9976800e-01 -1.6022705e+00  3.2449493e-01\n",
      "  1.4077414e+00 -1.4777108e-01  9.9262345e-01  2.7718478e-01\n",
      " -1.2706857e+00  8.6036968e-01 -4.6936586e-01 -1.0339336e+00\n",
      "  2.0692515e+00 -3.9774367e-01 -6.5031040e-01 -1.6411948e-03]\n",
      "[0. 0. 0. 0. 0. 0. 0. 0. 0. 0. 0. 0. 0. 0. 0. 0. 0. 0. 0. 0.]\n"
     ]
    }
   ],
   "source": [
    "import pycuda.autoinit\n",
    "import pycuda.driver as drv\n",
    "import numpy\n",
    "\n",
    "from pycuda.compiler import SourceModule\n",
    "mod = SourceModule(\"\"\"\n",
    "__global__ void multiply_them(float *dest, float *a, float *b)\n",
    "{\n",
    "  const int i = threadIdx.x;\n",
    "  dest[i] = a[i] * b[i];\n",
    "}\n",
    "\"\"\")\n",
    "\n",
    "multiply_them = mod.get_function(\"multiply_them\")\n",
    "\n",
    "a = numpy.random.randn(20).astype(numpy.float32)\n",
    "b = numpy.random.randn(20).astype(numpy.float32)\n",
    "\n",
    "\n",
    "print(a)\n",
    "print(b)\n",
    "dest = numpy.zeros_like(a)\n",
    "multiply_them(\n",
    "        drv.Out(dest), drv.In(a), drv.In(b),\n",
    "        block=(400,1,1), grid=(1,1))\n",
    "\n",
    "print(dest-a*b)"
   ]
  },
  {
   "cell_type": "markdown",
   "id": "2bafaa34-f191-4ad3-afba-2e74c0ff5d5e",
   "metadata": {},
   "source": [
    "### 1. Load Cifar"
   ]
  },
  {
   "cell_type": "code",
   "execution_count": 5,
   "id": "360c5030-264f-4533-860c-fc962b486e42",
   "metadata": {},
   "outputs": [],
   "source": [
    "import os\n",
    "import _pickle as cPickle\n",
    "import numpy as np\n",
    "\n",
    "PATH = \"../data/cifar-10-batches-py/\""
   ]
  },
  {
   "cell_type": "code",
   "execution_count": 6,
   "id": "fb8eaf24-6c12-487e-ae63-e149360f40ce",
   "metadata": {},
   "outputs": [],
   "source": [
    "def load_batch():\n",
    "    file = 'data_batch_1'\n",
    "\n",
    "    f = open(PATH+file, 'rb')\n",
    "    dict_ = cPickle.load(f, encoding='latin1')\n",
    "    images = dict_['data']\n",
    "    #images = np.reshape(images, (10000, 3, 32, 32))\n",
    "    labels = dict_['labels']\n",
    "    imagearray = np.array(images)   #   (10000, 3072)\n",
    "    labelarray = np.array(labels)   #   (10000,)\n",
    "    \n",
    "    return imagearray, labelarray"
   ]
  },
  {
   "cell_type": "code",
   "execution_count": 7,
   "id": "f8abba74-90a2-41a9-b29c-de6040024957",
   "metadata": {},
   "outputs": [
    {
     "name": "stdout",
     "output_type": "stream",
     "text": [
      "0 : airplane  \n",
      "1 : automobile  \n",
      "2 : bird  \n",
      "3 : cat  \n",
      "4 : deer  \n",
      "5 : dog  \n",
      "6 : frog  \n",
      "7 : horse  \n",
      "8 : ship  \n",
      "9 : truck  \n"
     ]
    }
   ],
   "source": [
    "def load_classes():\n",
    "    file = 'batches.meta'\n",
    "    \n",
    "    f = open(PATH+file, 'rb')\n",
    "    dict = cPickle.load(f)\n",
    "    return dict['label_names']\n",
    "\n",
    "def print_classes(label_names):\n",
    "    for i in range(0, 10):\n",
    "        print(str(i) + \" : \" + label_names[i] + \"  \")\n",
    "\n",
    "label_names = load_classes()\n",
    "print_classes(label_names)"
   ]
  },
  {
   "cell_type": "code",
   "execution_count": 8,
   "id": "86e97d7e-c671-4228-b7d9-e17ad98b4dcf",
   "metadata": {},
   "outputs": [],
   "source": [
    "images, labels = load_batch()"
   ]
  },
  {
   "cell_type": "code",
   "execution_count": 9,
   "id": "89efc6cf-6774-47a5-a280-27f7da1e086b",
   "metadata": {},
   "outputs": [],
   "source": [
    "special_image = images[0]"
   ]
  },
  {
   "cell_type": "code",
   "execution_count": 10,
   "id": "5f29c30e-cef8-4dcc-9a56-d25a4e97f4aa",
   "metadata": {},
   "outputs": [],
   "source": [
    "special_image2 = special_image\n",
    "special_image = np.reshape(special_image, (3, 32, 32)).T"
   ]
  },
  {
   "cell_type": "code",
   "execution_count": 11,
   "id": "353c5577-b815-4b6d-ab43-f6b274cfcb44",
   "metadata": {},
   "outputs": [
    {
     "data": {
      "text/plain": [
       "(32, 32, 3)"
      ]
     },
     "execution_count": 11,
     "metadata": {},
     "output_type": "execute_result"
    }
   ],
   "source": [
    "special_image.shape"
   ]
  },
  {
   "cell_type": "markdown",
   "id": "933e35f7-c71d-4420-bda0-5d7af0a827b1",
   "metadata": {},
   "source": [
    "### 1.2 Load ImageNet"
   ]
  },
  {
   "cell_type": "code",
   "execution_count": 12,
   "id": "9765fbdd-4732-4126-bf0a-75b1924caff6",
   "metadata": {},
   "outputs": [],
   "source": [
    "#https://patrykchrabaszcz.github.io/Imagenet32/\n",
    "# 1 281 167 training images from 1000 classes and 50 000 validation images with 50 images per class."
   ]
  },
  {
   "cell_type": "code",
   "execution_count": 13,
   "id": "5a6c5e39-a550-4b23-9eef-276d71219a48",
   "metadata": {},
   "outputs": [
    {
     "name": "stdout",
     "output_type": "stream",
     "text": [
      "Collecting git+https://github.com/nottombrown/imagenet_stubs\n",
      "  Cloning https://github.com/nottombrown/imagenet_stubs to /tmp/pip-req-build-hddz2671\n",
      "  Running command git clone --filter=blob:none --quiet https://github.com/nottombrown/imagenet_stubs /tmp/pip-req-build-hddz2671\n",
      "  Resolved https://github.com/nottombrown/imagenet_stubs to commit 0b501276f54cbf45b8e1b67dccbdcbe51de88365\n",
      "  Preparing metadata (setup.py) ... \u001b[?25ldone\n",
      "\u001b[33mWARNING: Running pip as the 'root' user can result in broken permissions and conflicting behaviour with the system package manager. It is recommended to use a virtual environment instead: https://pip.pypa.io/warnings/venv\u001b[0m\u001b[33m\n",
      "\u001b[0m\u001b[?25h"
     ]
    }
   ],
   "source": [
    "!pip install git+https://github.com/nottombrown/imagenet_stubs"
   ]
  },
  {
   "cell_type": "code",
   "execution_count": 14,
   "id": "185ea155-baa3-40d5-9b4f-b6e0dd1b997d",
   "metadata": {},
   "outputs": [
    {
     "name": "stdout",
     "output_type": "stream",
     "text": [
      "tench, Tinca tinca\n"
     ]
    }
   ],
   "source": [
    "# https://gist.github.com/yrevar/942d3a0ac09ec9e5eb3a\n",
    "\n",
    "import imagenet_stubs\n",
    "from imagenet_stubs.imagenet_2012_labels import label_to_name\n",
    "print(label_to_name(0))"
   ]
  },
  {
   "cell_type": "code",
   "execution_count": 15,
   "id": "dbcef929-994c-4fa5-9387-1c41f696b03e",
   "metadata": {},
   "outputs": [],
   "source": [
    "IMAGENET_PATH = \"../data/Imagenet32_train/\""
   ]
  },
  {
   "cell_type": "code",
   "execution_count": 16,
   "id": "4665f60e-9a91-4de6-bc98-be8f050c29a0",
   "metadata": {},
   "outputs": [],
   "source": [
    "def unpickle(file):\n",
    "    with open(file, 'rb') as fo:\n",
    "        dict = cPickle.load(fo)\n",
    "    return dict"
   ]
  },
  {
   "cell_type": "code",
   "execution_count": 17,
   "id": "be92184c-14e6-4cd9-953a-5c90c3a273b5",
   "metadata": {},
   "outputs": [],
   "source": [
    "def load_databatch(data_folder, idx, img_size=32):\n",
    "    data_file = os.path.join(data_folder, 'train_data_batch_')\n",
    "\n",
    "    dict_ = unpickle(data_file + str(idx))\n",
    "\n",
    "    images = dict_['data']\n",
    "    labels = dict_['labels']\n",
    "\n",
    "    ## images_without_mean = dict_['mean']   ??? check is there are better results or not\n",
    "\n",
    "    return images, labels"
   ]
  },
  {
   "cell_type": "code",
   "execution_count": 18,
   "id": "ef96065c-7496-4388-86c4-8a70d4f7b6df",
   "metadata": {},
   "outputs": [],
   "source": [
    "images2, labels2 = load_databatch(IMAGENET_PATH, 1)"
   ]
  },
  {
   "cell_type": "code",
   "execution_count": 19,
   "id": "b666910f-97b5-4edd-a293-e5602880bb36",
   "metadata": {},
   "outputs": [
    {
     "data": {
      "text/plain": [
       "(128116, 3072)"
      ]
     },
     "execution_count": 19,
     "metadata": {},
     "output_type": "execute_result"
    }
   ],
   "source": [
    "images2.shape"
   ]
  },
  {
   "cell_type": "code",
   "execution_count": 20,
   "id": "2a88533b-4efc-434c-a3ac-23e496378686",
   "metadata": {},
   "outputs": [
    {
     "data": {
      "text/plain": [
       "128116"
      ]
     },
     "execution_count": 20,
     "metadata": {},
     "output_type": "execute_result"
    }
   ],
   "source": [
    "len(labels2)"
   ]
  },
  {
   "cell_type": "code",
   "execution_count": 21,
   "id": "644eeb8d-a980-4c28-9cb8-0ec0491e02e6",
   "metadata": {},
   "outputs": [],
   "source": [
    "HN_example_image = np.reshape(images2[1], (3, 32, 32)).T"
   ]
  },
  {
   "cell_type": "code",
   "execution_count": 22,
   "id": "15e305a7-28bc-485d-8924-a716a41070c3",
   "metadata": {},
   "outputs": [],
   "source": [
    "HN_exmaple_label = label_to_name(labels2[1])"
   ]
  },
  {
   "cell_type": "code",
   "execution_count": 23,
   "id": "0548aa1e-9a98-46cf-b281-2d80223f5aa9",
   "metadata": {},
   "outputs": [
    {
     "data": {
      "image/png": "[encoded data removed]",
      "text/plain": [
       "<Figure size 640x480 with 1 Axes>"
      ]
     },
     "metadata": {},
     "output_type": "display_data"
    }
   ],
   "source": [
    "from matplotlib import pyplot as plt\n",
    "plt.imshow(HN_example_image, interpolation='nearest')\n",
    "plt.show()"
   ]
  },
  {
   "cell_type": "code",
   "execution_count": 24,
   "id": "2a49660a-a190-4b71-8e03-1b099ed3013c",
   "metadata": {},
   "outputs": [
    {
     "data": {
      "text/plain": [
       "'espresso maker'"
      ]
     },
     "execution_count": 24,
     "metadata": {},
     "output_type": "execute_result"
    }
   ],
   "source": [
    "HN_exmaple_label"
   ]
  },
  {
   "cell_type": "markdown",
   "id": "05dd3ba2-f953-4408-af45-d63f2d9a4e0c",
   "metadata": {},
   "source": [
    "### 2. Preprocesing "
   ]
  },
  {
   "cell_type": "code",
   "execution_count": 25,
   "id": "1f1e5359-4cb4-4091-b0e8-185b0dba2f1f",
   "metadata": {},
   "outputs": [],
   "source": [
    "def scale_image_down_and_gray_1d(image, new_rows, new_cols):\n",
    "\n",
    "    pixels = 1024\n",
    "    newPixels = new_rows * new_cols;\n",
    "    factor = pixels / newPixels;\n",
    "\n",
    "    new_image = np.empty(newPixels, dtype=numpy.uint8)\n",
    "\n",
    "    for idx in range(newPixels):\n",
    "        pixelToTake = int(idx*factor)\n",
    "        \n",
    "        pixel = 0.2989 * image[pixelToTake] \\\n",
    "              + 0.5870 * image[1024+pixelToTake] \\\n",
    "              + 0.1140 * image[2048+pixelToTake]\n",
    "        \n",
    "        new_image[idx] = pixel\n",
    "        \n",
    "    return new_image"
   ]
  },
  {
   "cell_type": "code",
   "execution_count": 26,
   "id": "3a17f6b6-935e-4404-b6d7-78596b9afdec",
   "metadata": {},
   "outputs": [],
   "source": [
    "def scale_image_down_and_gray(np_image, new_rows, new_columns):\n",
    "    \n",
    "    columns = np_image.shape[0]\n",
    "    rows = np_image.shape[1]\n",
    "\n",
    "    factor_columns = columns / new_columns\n",
    "    factor_rows = rows / new_rows\n",
    "\n",
    "    new_image = np.empty([new_columns, new_rows, 1], dtype=numpy.uint8)\n",
    "\n",
    "    print(new_image.shape)\n",
    "    \n",
    "    for row in range(new_rows):\n",
    "        for col in range(new_columns):\n",
    "            new_row = int(row * factor_rows)\n",
    "            new_col = int(col * factor_columns)\n",
    "\n",
    "            pixel = 0.2989 * np_image[new_col][new_row][0] \\\n",
    "                  + 0.5870 * np_image[new_col][new_row][1] \\\n",
    "                  + 0.1140 * np_image[new_col][new_row][2]\n",
    "            \n",
    "            new_image[col][row][0] = pixel\n",
    "    return new_image\n",
    "\n",
    "def scale_image_up(np_image, new_width, new_height):\n",
    "    pass"
   ]
  },
  {
   "cell_type": "code",
   "execution_count": 27,
   "id": "af6dda96-6152-4ebf-84f7-0991b54c9728",
   "metadata": {},
   "outputs": [
    {
     "data": {
      "image/png": "[encoded data removed]",
      "text/plain": [
       "<Figure size 640x480 with 1 Axes>"
      ]
     },
     "metadata": {},
     "output_type": "display_data"
    }
   ],
   "source": [
    "from matplotlib import pyplot as plt\n",
    "plt.imshow(special_image, interpolation='nearest')\n",
    "plt.show()"
   ]
  },
  {
   "cell_type": "code",
   "execution_count": 28,
   "id": "76133d9e-226c-43af-b310-f4b53d0e5052",
   "metadata": {},
   "outputs": [
    {
     "name": "stdout",
     "output_type": "stream",
     "text": [
      "(8, 9, 1)\n"
     ]
    }
   ],
   "source": [
    "down_scaled_image = scale_image_down_and_gray(special_image, 9, 8)"
   ]
  },
  {
   "cell_type": "code",
   "execution_count": 29,
   "id": "e8376a18-fd69-449a-bfca-606886950fd6",
   "metadata": {},
   "outputs": [
    {
     "data": {
      "text/plain": [
       "(8, 9, 1)"
      ]
     },
     "execution_count": 29,
     "metadata": {},
     "output_type": "execute_result"
    }
   ],
   "source": [
    "down_scaled_image.shape"
   ]
  },
  {
   "cell_type": "code",
   "execution_count": 30,
   "id": "a2da6565-73ee-4e8c-9291-c73f5f4d1c3c",
   "metadata": {},
   "outputs": [
    {
     "data": {
      "image/png": "[encoded data removed]",
      "text/plain": [
       "<Figure size 640x480 with 1 Axes>"
      ]
     },
     "metadata": {},
     "output_type": "display_data"
    }
   ],
   "source": [
    "plt.imshow(down_scaled_image, cmap='gray')\n",
    "plt.show()"
   ]
  },
  {
   "cell_type": "code",
   "execution_count": 31,
   "id": "dd994f32-efd8-44b5-816d-59e9454c822e",
   "metadata": {},
   "outputs": [
    {
     "data": {
      "text/plain": [
       "(8, 9, 1)"
      ]
     },
     "execution_count": 31,
     "metadata": {},
     "output_type": "execute_result"
    }
   ],
   "source": [
    "down_scaled_image.shape"
   ]
  },
  {
   "cell_type": "code",
   "execution_count": 32,
   "id": "efcb371d-7108-4efb-9f82-aac53633929f",
   "metadata": {},
   "outputs": [],
   "source": [
    "def bilinear_interpolation(x, y, points):\n",
    "    '''Interpolate (x,y) from values associated with four points.\n",
    "\n",
    "    The four points are a list of four triplets:  (x, y, value).\n",
    "    The four points can be in any order.  They should form a rectangle.\n",
    "\n",
    "        >>> bilinear_interpolation(12, 5.5,\n",
    "        ...                        [(10, 4, 100),\n",
    "        ...                         (20, 4, 200),\n",
    "        ...                         (10, 6, 150),\n",
    "        ...                         (20, 6, 300)])\n",
    "        165.0\n",
    "\n",
    "    '''\n",
    "    # See formula at:  http://en.wikipedia.org/wiki/Bilinear_interpolation\n",
    "\n",
    "    points = sorted(points)               # order points by x, then by y\n",
    "    (x1, y1, q11), (_x1, y2, q12), (x2, _y1, q21), (_x2, _y2, q22) = points\n",
    "\n",
    "    if x1 != _x1 or x2 != _x2 or y1 != _y1 or y2 != _y2:\n",
    "        raise ValueError('points do not form a rectangle')\n",
    "    if not x1 <= x <= x2 or not y1 <= y <= y2:\n",
    "        raise ValueError('(x, y) not within the rectangle')\n",
    "\n",
    "    return (q11 * (x2 - x) * (y2 - y) +\n",
    "            q21 * (x - x1) * (y2 - y) +\n",
    "            q12 * (x2 - x) * (y - y1) +\n",
    "            q22 * (x - x1) * (y - y1)\n",
    "           ) / ((x2 - x1) * (y2 - y1) + 0.0)"
   ]
  },
  {
   "cell_type": "markdown",
   "id": "b0d9179e-90e7-428b-8cfe-039867535a7e",
   "metadata": {},
   "source": [
    "### own kernel to image"
   ]
  },
  {
   "cell_type": "code",
   "execution_count": 33,
   "id": "cfd04a9f-305b-46b4-85e1-9fe6a8ee8922",
   "metadata": {},
   "outputs": [],
   "source": [
    "# article - https://medium.com/@sim30217/bilinear-interpolation-e41fc8b63fb4\n",
    "# Nearest Neighbor - which can result in visible artifacts or jagged edges.\n",
    "# Billinar \n",
    "# Gaussian - https://medium.com/@rohit-krishna/coding-gaussian-blur-operation-from-scratch-in-python-f5a9af0a0c0f\n",
    "# SPline ??? or other common kernel \n",
    "#http://forum.doom9.org/archive/index.php/t-145210.html"
   ]
  },
  {
   "cell_type": "markdown",
   "id": "93e4c8e9-6c3f-4b7e-8f69-cc86836c494a",
   "metadata": {},
   "source": [
    "### Create Hash"
   ]
  },
  {
   "cell_type": "code",
   "execution_count": 34,
   "id": "430b9f7f-38db-4d7f-9906-cc653d614949",
   "metadata": {},
   "outputs": [
    {
     "data": {
      "text/plain": [
       "(8, 9, 1)"
      ]
     },
     "execution_count": 34,
     "metadata": {},
     "output_type": "execute_result"
    }
   ],
   "source": [
    "down_scaled_image.shape"
   ]
  },
  {
   "cell_type": "code",
   "execution_count": 35,
   "id": "be543edd-0991-424a-b5d8-4552ca892ec8",
   "metadata": {},
   "outputs": [],
   "source": [
    "def comp_difference(image_2d):\n",
    "    sequence = \"\"\n",
    "\n",
    "    rows = image_2d.shape[0]\n",
    "    cols = image_2d.shape[1]\n",
    "\n",
    "    print( rows, cols)\n",
    "    for row in range(rows):\n",
    "        for col in range(1, cols):\n",
    "            if image_2d[row][col-1] < image_2d[row][col]:\n",
    "                sequence += '1'\n",
    "            else:\n",
    "                sequence += '0'\n",
    "\n",
    "    print(sequence)"
   ]
  },
  {
   "cell_type": "code",
   "execution_count": 36,
   "id": "c706d4d2-b30e-4311-a551-e658fbbcd0b5",
   "metadata": {},
   "outputs": [
    {
     "name": "stdout",
     "output_type": "stream",
     "text": [
      "8 9\n",
      "0110001111100011011010000011101001010000001100100101100100101001\n"
     ]
    }
   ],
   "source": [
    "comp_difference(down_scaled_image) # 63E3683A50325929"
   ]
  },
  {
   "cell_type": "code",
   "execution_count": 37,
   "id": "664fb6a8-fc44-4589-a520-546522bf0b4a",
   "metadata": {},
   "outputs": [],
   "source": [
    "diff = down_scaled_image[:, 1:] > down_scaled_image[:, :-1] # 63E3683A50325929"
   ]
  },
  {
   "cell_type": "code",
   "execution_count": 38,
   "id": "8e901338-4314-484f-9d21-5b54bf21950b",
   "metadata": {},
   "outputs": [
    {
     "name": "stdout",
     "output_type": "stream",
     "text": [
      "[0 1 1 0 0 0 1 1 1 1 1 0 0 0 1 1 0 1 1 0 1 0 0 0 0 0 1 1 1 0 1 0 0 1 0 1 0\n",
      " 0 0 0 0 0 1 1 0 0 1 0 0 1 0 1 1 0 0 1 0 0 1 0 1 0 0 1]\n"
     ]
    }
   ],
   "source": [
    "print(diff.flatten().astype(int))"
   ]
  },
  {
   "cell_type": "markdown",
   "id": "25d88671-847f-4da8-b75d-e40d1727298b",
   "metadata": {},
   "source": [
    "#### GPU-kernel convertion"
   ]
  },
  {
   "cell_type": "code",
   "execution_count": 39,
   "id": "5d61cc6c-fa3f-4998-bca9-1481e75ec299",
   "metadata": {},
   "outputs": [],
   "source": [
    "#https://stackoverflow.com/questions/5029920/how-to-use-2d-arrays-in-cuda\n",
    "#https://github.com/royinx/CUDA_Resize"
   ]
  },
  {
   "cell_type": "code",
   "execution_count": 40,
   "id": "96fe7438-7a59-43ef-add6-7c833f2c60c6",
   "metadata": {},
   "outputs": [],
   "source": [
    "import pycuda.autoinit\n",
    "import pycuda.driver as drv\n",
    "import numpy\n",
    "\n",
    "from pycuda.compiler import SourceModule"
   ]
  },
  {
   "cell_type": "code",
   "execution_count": 41,
   "id": "75718f68-8f4c-4b9e-a91e-083d54b61310",
   "metadata": {},
   "outputs": [
    {
     "data": {
      "text/plain": [
       "'\\nmod = SourceModule(\"\"\"\\n__global__ void ResizeAndGrayOneImage2D(float imageR[32][32], float hash[9][9], int rows, int columns, int new_rows, int new_cols)\\n{\\n    int row = blockDim.y * blockIdx.y + threadIdx.y;\\n    int col = blockDim.x * blockIdx.x + threadIdx.x;\\n    \\n    if( row >= new_rows || col >= new_cols ) return;\\n\\n    float factor_columns = columns / new_cols;\\n    float factor_rows = rows / new_rows;\\n\\n    int new_row = row * factor_rows;\\n    int new_col = col * factor_columns;\\n\\n    auto pixel = 0.2989 * imageR[new_col][new_row] + 0.5870 * imageR[new_col][new_row] + 0.1140 * imageR[new_col][new_row];\\n               \\n    hash[col][row] = pixel;\\n}\\n\\n\"\"\")\\n\\nyour_kernel_2D = mod.get_function(\"ResizeAndGrayOneImage2D\")\\n\\n'"
      ]
     },
     "execution_count": 41,
     "metadata": {},
     "output_type": "execute_result"
    }
   ],
   "source": [
    "'''\n",
    "mod = SourceModule(\"\"\"\n",
    "__global__ void ResizeAndGrayOneImage2D(float imageR[32][32], float hash[9][9], int rows, int columns, int new_rows, int new_cols)\n",
    "{\n",
    "    int row = blockDim.y * blockIdx.y + threadIdx.y;\n",
    "    int col = blockDim.x * blockIdx.x + threadIdx.x;\n",
    "    \n",
    "    if( row >= new_rows || col >= new_cols ) return;\n",
    "\n",
    "    float factor_columns = columns / new_cols;\n",
    "    float factor_rows = rows / new_rows;\n",
    "\n",
    "    int new_row = row * factor_rows;\n",
    "    int new_col = col * factor_columns;\n",
    "\n",
    "    auto pixel = 0.2989 * imageR[new_col][new_row] + 0.5870 * imageR[new_col][new_row] + 0.1140 * imageR[new_col][new_row];\n",
    "               \n",
    "    hash[col][row] = pixel;\n",
    "}\n",
    "\n",
    "\"\"\")\n",
    "\n",
    "your_kernel_2D = mod.get_function(\"ResizeAndGrayOneImage2D\")\n",
    "\n",
    "'''"
   ]
  },
  {
   "cell_type": "code",
   "execution_count": 42,
   "id": "eef45769-5518-413d-8357-85ae6a21d227",
   "metadata": {},
   "outputs": [],
   "source": [
    "### PyCUDA error - working properly only for floats\n",
    "### LogicError - not know why, po prostu tak sobie wyskoczył\n",
    "\n",
    "mod = SourceModule(\"\"\"\n",
    "\n",
    "__global__ void ResizeAndGrayOneImage(float* image, float* hash, int pixels, int new_rows, int new_cols)\n",
    "{\n",
    "    extern __shared__ int pixelsValues[72];\n",
    "\n",
    "    int idx         = threadIdx.x + blockIdx.x * blockDim.x;\n",
    "    float newPixels = new_rows * new_cols;\n",
    "    \n",
    "    if (idx >= newPixels) return;\n",
    "\n",
    "    float factor           = pixels / newPixels;\n",
    "    const auto pixelToTake = (int)(idx*factor);\n",
    "\n",
    "\n",
    "    auto pixel = 0.2989 * image[pixelToTake] + 0.5870 * image[1024+pixelToTake] + 0.1140 * image[2048+pixelToTake];\n",
    "\n",
    "    pixelsValues[idx] = pixel;\n",
    "\n",
    "    __syncthreads();\n",
    "    \n",
    "    if(idx == 0) return;\n",
    "\n",
    "    pixelsValues[idx-1] < pixelsValues[idx] ? hash[idx-1] = 1 : hash[idx-1] = 0;    \n",
    "}\n",
    "\n",
    "\"\"\")\n",
    "\n",
    "your_kernel = mod.get_function(\"ResizeAndGrayOneImage\")"
   ]
  },
  {
   "cell_type": "code",
   "execution_count": 43,
   "id": "157262ef-f396-4c10-9d5d-3992e93356cd",
   "metadata": {},
   "outputs": [],
   "source": [
    "mod = SourceModule(\"\"\"\n",
    "\n",
    "__global__ void ResizeAndGray1000Images(float* image, float* hash, int pixels, int new_rows, int new_cols, int amountOfImages)\n",
    "{\n",
    "\n",
    "    int idx         = threadIdx.x + blockIdx.x * blockDim.x;\n",
    "    float newPixels = new_rows * new_cols;\n",
    "    int pixelsValues[72];\n",
    "    \n",
    "    if (idx > amountOfImages) return;\n",
    "\n",
    "    float factor      = pixels / newPixels;\n",
    "    int imageStartIdx = 3072*idx;\n",
    "    \n",
    "    for( int i=0; i<newPixels; i++ )\n",
    "    {\n",
    "        const auto pixelToTake = (int)(imageStartIdx+i*factor);\n",
    "        auto pixel = 0.2989 * image[pixelToTake] + 0.5870 * image[1024+pixelToTake] + 0.1140 * image[2048+pixelToTake];\n",
    "        pixelsValues[i] = pixel;\n",
    "    }\n",
    "    for( int i=1; i<newPixels; i++ )\n",
    "    {\n",
    "        pixelsValues[i-1] < pixelsValues[i] ? hash[72*idx+i-1] = 1 : hash[72*idx+i-1] = 0;\n",
    "    }\n",
    "}\n",
    "\n",
    "\"\"\")\n",
    "\n",
    "your_kernel_1000_images = mod.get_function(\"ResizeAndGray1000Images\")"
   ]
  },
  {
   "cell_type": "code",
   "execution_count": 44,
   "id": "be446df1-20b8-43be-9761-a07db5adb53c",
   "metadata": {},
   "outputs": [],
   "source": [
    "def arrayToHexString(imageHashArray):\n",
    "    hash_ = \"\"\n",
    "\n",
    "    tmp_imageHashArray = imageHashArray.astype(numpy.uint8)\n",
    "\n",
    "    \n",
    "    for i in range(0, imageHashArray.shape[0], 4):\n",
    "        tmp = str(tmp_imageHashArray[i]) + str(tmp_imageHashArray[i+1]) + str(tmp_imageHashArray[i+2]) + str(tmp_imageHashArray[i+3])\n",
    "        \n",
    "        hash_ += hex(int(tmp, 2))[2:]\n",
    "\n",
    "    return hash_"
   ]
  },
  {
   "cell_type": "code",
   "execution_count": 45,
   "id": "31de4b57-02ae-4e6d-88d3-e676a0bca853",
   "metadata": {},
   "outputs": [
    {
     "data": {
      "text/plain": [
       "(3072,)"
      ]
     },
     "execution_count": 45,
     "metadata": {},
     "output_type": "execute_result"
    }
   ],
   "source": [
    "special_image2.shape"
   ]
  },
  {
   "cell_type": "code",
   "execution_count": 46,
   "id": "bb0ac6c8-fbb8-4061-9465-585b0e06560d",
   "metadata": {},
   "outputs": [
    {
     "data": {
      "text/plain": [
       "dtype('float32')"
      ]
     },
     "execution_count": 46,
     "metadata": {},
     "output_type": "execute_result"
    }
   ],
   "source": [
    "b = numpy.zeros(72).astype(numpy.float32)\n",
    "b.dtype"
   ]
  },
  {
   "cell_type": "code",
   "execution_count": 47,
   "id": "faebd316-2f36-4414-9b1b-73647ff7c643",
   "metadata": {},
   "outputs": [],
   "source": [
    "# max threads = 1024\n",
    "# max blocks = 65535\n",
    "\n",
    "your_kernel(drv.In(special_image2.astype(numpy.float32)), drv.Out(b), np.int32(1024) , np.int32(8) , np.int32(9), \n",
    "            block=(72,1,1))"
   ]
  },
  {
   "cell_type": "code",
   "execution_count": 48,
   "id": "beba89cd-9199-4a8a-8054-9ab668ee3870",
   "metadata": {},
   "outputs": [
    {
     "data": {
      "text/plain": [
       "'dd599776ab5126b2b4'"
      ]
     },
     "execution_count": 48,
     "metadata": {},
     "output_type": "execute_result"
    }
   ],
   "source": [
    "arrayToHexString(b) # 63E3683A50325929"
   ]
  },
  {
   "cell_type": "code",
   "execution_count": null,
   "id": "4332fb48-b505-4dfd-be6b-2871bd4b6ffc",
   "metadata": {},
   "outputs": [],
   "source": []
  },
  {
   "cell_type": "code",
   "execution_count": 49,
   "id": "0585a8ce-7268-485a-a532-ad78851b1282",
   "metadata": {},
   "outputs": [],
   "source": [
    "other_image = scale_image_down_and_gray_1d(special_image2, 9, 8)"
   ]
  },
  {
   "cell_type": "code",
   "execution_count": 50,
   "id": "9b4a76b8-9f4b-4f05-9617-bbea9381eccf",
   "metadata": {},
   "outputs": [
    {
     "data": {
      "text/plain": [
       "array([[ 61, 111, 135,  76,  86,  89, 101,  71,  84],\n",
       "       [ 36,  86,  73,  88, 107,  83,  56, 104, 146],\n",
       "       [107,  32,  95,  65,  70, 107, 140, 103, 107],\n",
       "       [119, 176, 101, 117, 126,  75, 210, 108, 249],\n",
       "       [121, 193, 120, 151, 205, 159, 195,  99, 119],\n",
       "       [111,  94,  92, 141, 115, 104, 111, 106, 101],\n",
       "       [115, 169,  94, 128, 112, 113, 118, 114, 103],\n",
       "       [182,  97, 157, 102, 108, 135,  93, 151, 123]], dtype=uint8)"
      ]
     },
     "execution_count": 50,
     "metadata": {},
     "output_type": "execute_result"
    }
   ],
   "source": [
    "other_image_reshaped = np.reshape(other_image, (8, 9))\n",
    "other_image_reshaped"
   ]
  },
  {
   "cell_type": "code",
   "execution_count": 51,
   "id": "6689d2d6-cb6f-4ecc-a720-ed0ef35c8537",
   "metadata": {},
   "outputs": [
    {
     "data": {
      "image/png": "[encoded data removed]",
      "text/plain": [
       "<Figure size 640x480 with 1 Axes>"
      ]
     },
     "metadata": {},
     "output_type": "display_data"
    }
   ],
   "source": [
    "plt.imshow(other_image_reshaped, cmap='gray')\n",
    "plt.show()"
   ]
  },
  {
   "cell_type": "code",
   "execution_count": 52,
   "id": "d22e7570-1a1d-4ee8-9fe7-b8fa0dfa29bb",
   "metadata": {},
   "outputs": [],
   "source": [
    "#comp_difference() # 63E3683A50325929"
   ]
  },
  {
   "cell_type": "code",
   "execution_count": 53,
   "id": "240bc000-c9c2-4963-a483-3677dacff949",
   "metadata": {},
   "outputs": [],
   "source": [
    "special_image3 = special_image2[:1024]"
   ]
  },
  {
   "cell_type": "code",
   "execution_count": 54,
   "id": "8de455d4-d0b3-44e3-bb0b-c2d4ac26198e",
   "metadata": {},
   "outputs": [
    {
     "data": {
      "text/plain": [
       "(1024,)"
      ]
     },
     "execution_count": 54,
     "metadata": {},
     "output_type": "execute_result"
    }
   ],
   "source": [
    "special_image3.shape"
   ]
  },
  {
   "cell_type": "code",
   "execution_count": 55,
   "id": "0adcd946-8144-41d2-9dc9-252d92d0ceae",
   "metadata": {},
   "outputs": [
    {
     "data": {
      "image/png": "[encoded data removed]",
      "text/plain": [
       "<Figure size 640x480 with 1 Axes>"
      ]
     },
     "metadata": {},
     "output_type": "display_data"
    }
   ],
   "source": [
    "plt.imshow(np.reshape(special_image3, (32, 32)))\n",
    "plt.show()"
   ]
  },
  {
   "cell_type": "markdown",
   "id": "54ddd934-722e-4b86-bef9-a8f55dabc72b",
   "metadata": {},
   "source": [
    "### 2D"
   ]
  },
  {
   "cell_type": "code",
   "execution_count": 56,
   "id": "f43c0c6b-fcbd-48a8-b95b-9f9534c5aca8",
   "metadata": {},
   "outputs": [
    {
     "data": {
      "text/plain": [
       "(32, 32)"
      ]
     },
     "execution_count": 56,
     "metadata": {},
     "output_type": "execute_result"
    }
   ],
   "source": [
    "in_image = special_image2.reshape([3,32,32]).astype(numpy.float32).T\n",
    "in_image.shape\n",
    "in_image[:,:,0].shape"
   ]
  },
  {
   "cell_type": "code",
   "execution_count": 57,
   "id": "c9f2a19a-71a1-440d-bab1-166002836fcb",
   "metadata": {},
   "outputs": [
    {
     "data": {
      "text/plain": [
       "(8, 9)"
      ]
     },
     "execution_count": 57,
     "metadata": {},
     "output_type": "execute_result"
    }
   ],
   "source": [
    "out_image = numpy.zeros([8,9]).astype(numpy.float32)\n",
    "out_image.shape"
   ]
  },
  {
   "cell_type": "code",
   "execution_count": 66,
   "id": "f39457f8-d109-4337-bea1-33c6e2d6b817",
   "metadata": {},
   "outputs": [
    {
     "ename": "NameError",
     "evalue": "name 'your_kernel_2D' is not defined",
     "output_type": "error",
     "traceback": [
      "\u001b[0;31m---------------------------------------------------------------------------\u001b[0m",
      "\u001b[0;31mNameError\u001b[0m                                 Traceback (most recent call last)",
      "Cell \u001b[0;32mIn[66], line 4\u001b[0m\n\u001b[1;32m      1\u001b[0m \u001b[38;5;66;03m# max threads = 1024\u001b[39;00m\n\u001b[1;32m      2\u001b[0m \u001b[38;5;66;03m# max blocks = 65535\u001b[39;00m\n\u001b[0;32m----> 4\u001b[0m \u001b[43myour_kernel_2D\u001b[49m(drv\u001b[38;5;241m.\u001b[39mIn(in_image[:,:,\u001b[38;5;241m0\u001b[39m]), drv\u001b[38;5;241m.\u001b[39mOut(out_image), np\u001b[38;5;241m.\u001b[39mint32(\u001b[38;5;241m32\u001b[39m), np\u001b[38;5;241m.\u001b[39mint32(\u001b[38;5;241m32\u001b[39m) , np\u001b[38;5;241m.\u001b[39mint32(\u001b[38;5;241m8\u001b[39m) , np\u001b[38;5;241m.\u001b[39mint32(\u001b[38;5;241m9\u001b[39m), \n\u001b[1;32m      5\u001b[0m             block\u001b[38;5;241m=\u001b[39m(\u001b[38;5;241m8\u001b[39m,\u001b[38;5;241m9\u001b[39m,\u001b[38;5;241m1\u001b[39m), grid\u001b[38;5;241m=\u001b[39m(\u001b[38;5;241m1\u001b[39m,\u001b[38;5;241m1\u001b[39m))\n\u001b[1;32m      7\u001b[0m \u001b[38;5;66;03m#np.set_printoptions(suppress = False)\u001b[39;00m\n\u001b[1;32m      8\u001b[0m \u001b[38;5;66;03m#out_image_res = np.reshape(out_image, (8, 9))\u001b[39;00m\n\u001b[1;32m      9\u001b[0m \u001b[38;5;66;03m#out_image_res.shape\u001b[39;00m\n",
      "\u001b[0;31mNameError\u001b[0m: name 'your_kernel_2D' is not defined"
     ]
    }
   ],
   "source": [
    "# max threads = 1024\n",
    "# max blocks = 65535\n",
    "\n",
    "your_kernel_2D(drv.In(in_image[:,:,0]), drv.Out(out_image), np.int32(32), np.int32(32) , np.int32(8) , np.int32(9), \n",
    "            block=(8,9,1), grid=(1,1))\n",
    "\n",
    "#np.set_printoptions(suppress = False)\n",
    "#out_image_res = np.reshape(out_image, (8, 9))\n",
    "#out_image_res.shape"
   ]
  },
  {
   "cell_type": "code",
   "execution_count": 67,
   "id": "e452ecec-cdfd-4b06-bc50-25c7583fd0c1",
   "metadata": {},
   "outputs": [
    {
     "ename": "NameError",
     "evalue": "name 'out_image_res' is not defined",
     "output_type": "error",
     "traceback": [
      "\u001b[0;31m---------------------------------------------------------------------------\u001b[0m",
      "\u001b[0;31mNameError\u001b[0m                                 Traceback (most recent call last)",
      "Cell \u001b[0;32mIn[67], line 1\u001b[0m\n\u001b[0;32m----> 1\u001b[0m plt\u001b[38;5;241m.\u001b[39mimshow(\u001b[43mout_image_res\u001b[49m, cmap\u001b[38;5;241m=\u001b[39m\u001b[38;5;124m'\u001b[39m\u001b[38;5;124mgray\u001b[39m\u001b[38;5;124m'\u001b[39m)\n\u001b[1;32m      2\u001b[0m plt\u001b[38;5;241m.\u001b[39mshow()\n",
      "\u001b[0;31mNameError\u001b[0m: name 'out_image_res' is not defined"
     ]
    }
   ],
   "source": [
    "plt.imshow(out_image_res, cmap='gray')\n",
    "plt.show()"
   ]
  },
  {
   "cell_type": "code",
   "execution_count": null,
   "id": "7ea5f08c-28c3-4140-b8bf-a779db7738f0",
   "metadata": {},
   "outputs": [],
   "source": []
  },
  {
   "cell_type": "code",
   "execution_count": null,
   "id": "7ffe9f50-773c-4235-b79f-2881d31f565d",
   "metadata": {},
   "outputs": [],
   "source": []
  },
  {
   "cell_type": "markdown",
   "id": "10e80820-c05d-48b8-be6d-b76768b964cb",
   "metadata": {},
   "source": [
    "### CuLSH"
   ]
  },
  {
   "cell_type": "code",
   "execution_count": 60,
   "id": "d53c79b2-55ca-4036-a3ea-e12a0791b083",
   "metadata": {},
   "outputs": [],
   "source": [
    "#your_kernel(drv.In(special_image2.astype(numpy.float32)), drv.Out(b), np.int32(1024) , np.int32(8) , np.int32(9), \n",
    "#           block=(72,1,1))"
   ]
  },
  {
   "cell_type": "code",
   "execution_count": 61,
   "id": "def83e44-d127-4174-bbf3-0ac0ac823156",
   "metadata": {},
   "outputs": [],
   "source": [
    "from typing import List, Dict, Tuple\n",
    "\n",
    "class LSH:\n",
    "    def __init__(self, size, hash_size):\n",
    "        self.buckets = []\n",
    "        self.bandsNumber = size\n",
    "        self.rows = int(hash_size**2 / self.bandsNumber)\n",
    "        self.hash_buckets_list: List[Dict[int, List[str]]] = [dict() for _ in range(self.bandsNumber)]\n",
    "        self.signatures = dict()\n",
    "        self.hash_size = hash_size\n",
    "\n",
    "        for i in range(size):\n",
    "            self.buckets.append({})\n",
    "            \n",
    "    def fill_buckets(self, signature, idx):\n",
    "        for i in range(self.bandsNumber):\n",
    "            signature_band = signature[i*self.rows:(i+1)*self.rows]\n",
    "            signature_band_bytes = signature_band.tobytes()\n",
    "            if signature_band_bytes not in self.hash_buckets_list[i]:\n",
    "                self.hash_buckets_list[i][signature_band_bytes] = list()\n",
    "            self.hash_buckets_list[i][signature_band_bytes].append(idx)\n",
    "    \n",
    "    def compute_hash(self, images):\n",
    "        idx = 0;\n",
    "        signature = numpy.zeros(72).astype(numpy.float32)\n",
    "        for image in images:\n",
    "            your_kernel(drv.In(image), drv.Out(signature), np.int32(1024) , np.int32(8) , np.int32(9), \n",
    "            block=(72,1,1))\n",
    "            signature_ = signature.astype(numpy.bool_)\n",
    "            # Keep track of each image's signature\n",
    "            self.signatures[idx] = np.packbits(signature_)\n",
    "            self.fill_buckets(signature_, idx)\n",
    "            idx+=1\n",
    "\n",
    "    def compute_candidate(self):\n",
    "        candidate_pairs = set()\n",
    "        \n",
    "        for hash_buckets in self.hash_buckets_list:\n",
    "            for hash_bucket in hash_buckets.values():\n",
    "                if len(hash_bucket) > 1:\n",
    "                    hash_bucket = sorted(hash_bucket) # Why needed ?\n",
    "                    for i in range(len(hash_bucket)):\n",
    "                        for j in range(i+1, len(hash_bucket)):\n",
    "                            candidate_pairs.add(\n",
    "                                tuple([hash_bucket[i],hash_bucket[j]])\n",
    "                            )\n",
    "        return candidate_pairs\n",
    "\n",
    "    def check_candidate(self, candidate_pairs, threshold=0.9):\n",
    "        \n",
    "        near_duplicates = list()\n",
    "        for cpa, cpb in candidate_pairs:\n",
    "            hd = sum(np.bitwise_xor(\n",
    "                    np.unpackbits(self.signatures[cpa]), \n",
    "                    np.unpackbits(self.signatures[cpb])\n",
    "            ))\n",
    "            similarity = (self.hash_size**2 - hd) / self.hash_size**2\n",
    "            if similarity > threshold:\n",
    "                near_duplicates.append((cpa, cpb, similarity))\n",
    "                \n",
    "        # Sort near-duplicates by descending similarity and return\n",
    "        near_duplicates.sort(key=lambda x:x[2], reverse=True)\n",
    "        return near_duplicates\n",
    "            \n",
    "    "
   ]
  },
  {
   "cell_type": "code",
   "execution_count": 62,
   "id": "4876f01a-01cc-427d-bcf0-133e01843d60",
   "metadata": {},
   "outputs": [
    {
     "data": {
      "text/plain": [
       "(10000, 3072)"
      ]
     },
     "execution_count": 62,
     "metadata": {},
     "output_type": "execute_result"
    }
   ],
   "source": [
    "images = images.astype(numpy.float32)\n",
    "images.shape"
   ]
  },
  {
   "cell_type": "code",
   "execution_count": 64,
   "id": "70df36a3-1e35-4314-af88-3556e06ae02c",
   "metadata": {},
   "outputs": [],
   "source": [
    "import time\n",
    "\n",
    "start = time.time()\n",
    "\n",
    "lsh = LSH(8, 8)\n",
    "lsh.compute_hash(images)\n",
    "#pairs = lsh.compute_candidate()\n",
    "#duplicates = lsh.check_candidate(pairs,0.9)\n",
    "\n",
    "end = time.time()"
   ]
  },
  {
   "cell_type": "code",
   "execution_count": 65,
   "id": "796f73ad-db85-4c93-be40-84a581e04e99",
   "metadata": {},
   "outputs": [
    {
     "name": "stdout",
     "output_type": "stream",
     "text": [
      "time:  1.7985785007476807\n"
     ]
    }
   ],
   "source": [
    "print( \"time: \", end - start )"
   ]
  },
  {
   "cell_type": "code",
   "execution_count": 86,
   "id": "35593696-67d7-486d-85da-6b1d6cfad914",
   "metadata": {},
   "outputs": [
    {
     "data": {
      "text/plain": [
       "1147"
      ]
     },
     "execution_count": 86,
     "metadata": {},
     "output_type": "execute_result"
    }
   ],
   "source": [
    "len(duplicates)"
   ]
  },
  {
   "cell_type": "code",
   "execution_count": 88,
   "id": "3f50b47d-0675-4c8a-8623-f3bdc4759944",
   "metadata": {},
   "outputs": [
    {
     "data": {
      "text/plain": [
       "[(661, 2210, 1.0),\n",
       " (1199, 5500, 1.0),\n",
       " (1335, 9786, 1.0),\n",
       " (8443, 9786, 1.0),\n",
       " (4875, 9275, 1.0),\n",
       " (1335, 8443, 1.0),\n",
       " (1815, 5500, 0.984375),\n",
       " (2307, 5333, 0.984375),\n",
       " (3812, 9786, 0.984375),\n",
       " (9206, 9786, 0.984375),\n",
       " (1335, 9206, 0.984375),\n",
       " (8443, 9206, 0.984375),\n",
       " (1335, 3812, 0.984375),\n",
       " (1199, 1815, 0.984375),\n",
       " (3812, 8443, 0.984375),\n",
       " (8975, 9432, 0.96875),\n",
       " (8601, 9786, 0.96875),\n",
       " (1335, 1461, 0.96875),\n",
       " (1815, 4628, 0.96875),\n",
       " (1711, 9786, 0.96875),\n",
       " (1335, 5756, 0.96875),\n",
       " (1199, 1557, 0.96875),\n",
       " (5915, 8443, 0.96875),\n",
       " (1461, 8443, 0.96875),\n",
       " (2307, 5500, 0.96875),\n",
       " (5756, 8443, 0.96875),\n",
       " (1335, 5915, 0.96875),\n",
       " (1711, 8601, 0.96875),\n",
       " (1557, 5500, 0.96875),\n",
       " (2254, 9786, 0.96875),\n",
       " (1335, 2254, 0.96875),\n",
       " (1335, 8601, 0.96875),\n",
       " (8443, 8601, 0.96875),\n",
       " (2145, 9064, 0.96875),\n",
       " (3595, 6787, 0.96875),\n",
       " (1711, 8443, 0.96875),\n",
       " (1815, 6368, 0.96875),\n",
       " (1199, 2307, 0.96875),\n",
       " (5915, 9786, 0.96875),\n",
       " (2254, 8443, 0.96875),\n",
       " (1461, 9786, 0.96875),\n",
       " (1335, 1711, 0.96875),\n",
       " (3812, 9206, 0.96875),\n",
       " (5756, 9786, 0.96875),\n",
       " (5993, 6580, 0.953125),\n",
       " (5500, 6368, 0.953125),\n",
       " (3826, 5500, 0.953125),\n",
       " (338, 9786, 0.953125),\n",
       " (2254, 3812, 0.953125),\n",
       " (1557, 3110, 0.953125),\n",
       " (557, 5756, 0.953125),\n",
       " (1199, 5333, 0.953125),\n",
       " (6632, 8443, 0.953125),\n",
       " (755, 8734, 0.953125),\n",
       " (1199, 6358, 0.953125),\n",
       " (1199, 4628, 0.953125),\n",
       " (338, 1335, 0.953125),\n",
       " (1665, 2540, 0.953125),\n",
       " (6580, 8443, 0.953125),\n",
       " (1461, 6632, 0.953125),\n",
       " (557, 9786, 0.953125),\n",
       " (6781, 9786, 0.953125),\n",
       " (338, 5915, 0.953125),\n",
       " (4555, 5500, 0.953125),\n",
       " (1335, 6781, 0.953125),\n",
       " (5756, 6632, 0.953125),\n",
       " (1557, 1815, 0.953125),\n",
       " (557, 1335, 0.953125),\n",
       " (3777, 5500, 0.953125),\n",
       " (4369, 5756, 0.953125),\n",
       " (5670, 7712, 0.953125),\n",
       " (2696, 3777, 0.953125),\n",
       " (1335, 4369, 0.953125),\n",
       " (5333, 5500, 0.953125),\n",
       " (2750, 7755, 0.953125),\n",
       " (4369, 9786, 0.953125),\n",
       " (3110, 5500, 0.953125),\n",
       " (2948, 4812, 0.953125),\n",
       " (1199, 8224, 0.953125),\n",
       " (1194, 9206, 0.953125),\n",
       " (1461, 9206, 0.953125),\n",
       " (5670, 9120, 0.953125),\n",
       " (5823, 9786, 0.953125),\n",
       " (1921, 8443, 0.953125),\n",
       " (5915, 9206, 0.953125),\n",
       " (2387, 5333, 0.953125),\n",
       " (996, 9052, 0.953125),\n",
       " (3812, 5756, 0.953125),\n",
       " (1335, 5823, 0.953125),\n",
       " (1461, 3812, 0.953125),\n",
       " (1335, 6580, 0.953125),\n",
       " (5756, 9206, 0.953125),\n",
       " (5500, 6358, 0.953125),\n",
       " (1199, 3826, 0.953125),\n",
       " (338, 8443, 0.953125),\n",
       " (4880, 9804, 0.953125),\n",
       " (1199, 3777, 0.953125),\n",
       " (8601, 9206, 0.953125),\n",
       " (1335, 6632, 0.953125),\n",
       " (2254, 6781, 0.953125),\n",
       " (4369, 5915, 0.953125),\n",
       " (5915, 8484, 0.953125),\n",
       " (1194, 1780, 0.953125),\n",
       " (732, 4780, 0.953125),\n",
       " (557, 8443, 0.953125),\n",
       " (1199, 8734, 0.953125),\n",
       " (6781, 8443, 0.953125),\n",
       " (1711, 9206, 0.953125),\n",
       " (1199, 6368, 0.953125),\n",
       " (6632, 9786, 0.953125),\n",
       " (3812, 5915, 0.953125),\n",
       " (1711, 3812, 0.953125),\n",
       " (6580, 9786, 0.953125),\n",
       " (1815, 2307, 0.953125),\n",
       " (5500, 8224, 0.953125),\n",
       " (1199, 4555, 0.953125),\n",
       " (1199, 3110, 0.953125),\n",
       " (4369, 8443, 0.953125),\n",
       " (3812, 8601, 0.953125),\n",
       " (1147, 5191, 0.953125),\n",
       " (5823, 8443, 0.953125),\n",
       " (1152, 9120, 0.953125),\n",
       " (5993, 9723, 0.953125),\n",
       " (1335, 1921, 0.953125),\n",
       " (2254, 9206, 0.953125),\n",
       " (4628, 5500, 0.953125),\n",
       " (5915, 6781, 0.953125),\n",
       " (1921, 9786, 0.953125),\n",
       " (5500, 8734, 0.953125),\n",
       " (1335, 3634, 0.9375),\n",
       " (1335, 2359, 0.9375),\n",
       " (2696, 4300, 0.9375),\n",
       " (1815, 5333, 0.9375),\n",
       " (1363, 5088, 0.9375),\n",
       " (84, 8357, 0.9375),\n",
       " (1461, 5915, 0.9375),\n",
       " (1711, 5756, 0.9375),\n",
       " (103, 5661, 0.9375),\n",
       " (4628, 6358, 0.9375),\n",
       " (1187, 8443, 0.9375),\n",
       " (3756, 3789, 0.9375),\n",
       " (338, 6781, 0.9375),\n",
       " (3772, 5500, 0.9375),\n",
       " (6899, 8443, 0.9375),\n",
       " (1557, 2307, 0.9375),\n",
       " (3634, 6606, 0.9375),\n",
       " (2861, 7823, 0.9375),\n",
       " (6606, 8443, 0.9375),\n",
       " (1815, 6358, 0.9375),\n",
       " (626, 8443, 0.9375),\n",
       " (1199, 3491, 0.9375),\n",
       " (250, 4505, 0.9375),\n",
       " (6632, 9206, 0.9375),\n",
       " (2325, 9786, 0.9375),\n",
       " (338, 4369, 0.9375),\n",
       " (1780, 9206, 0.9375),\n",
       " (1199, 9418, 0.9375),\n",
       " (1461, 8601, 0.9375),\n",
       " (1335, 3246, 0.9375),\n",
       " (1711, 6899, 0.9375),\n",
       " (1335, 2109, 0.9375),\n",
       " (5915, 8601, 0.9375),\n",
       " (3789, 6483, 0.9375),\n",
       " (6368, 8224, 0.9375),\n",
       " (5756, 6606, 0.9375),\n",
       " (5756, 5915, 0.9375),\n",
       " (1335, 2325, 0.9375),\n",
       " (6580, 9206, 0.9375),\n",
       " (2540, 6459, 0.9375),\n",
       " (1199, 4300, 0.9375),\n",
       " (1921, 5823, 0.9375),\n",
       " (1335, 6899, 0.9375),\n",
       " (3634, 8443, 0.9375),\n",
       " (1461, 2254, 0.9375),\n",
       " (5993, 8443, 0.9375),\n",
       " (1199, 7527, 0.9375),\n",
       " (4628, 8224, 0.9375),\n",
       " (2359, 5756, 0.9375),\n",
       " (2109, 5993, 0.9375),\n",
       " (3777, 4812, 0.9375),\n",
       " (3777, 5333, 0.9375),\n",
       " (650, 3582, 0.9375),\n",
       " (1711, 5915, 0.9375),\n",
       " (3153, 3492, 0.9375),\n",
       " (5756, 8601, 0.9375),\n",
       " (3246, 9786, 0.9375),\n",
       " (1194, 8443, 0.9375),\n",
       " (2383, 7688, 0.9375),\n",
       " (2359, 9786, 0.9375),\n",
       " (1711, 6606, 0.9375),\n",
       " (2325, 3385, 0.9375),\n",
       " (4369, 6781, 0.9375),\n",
       " (2109, 8443, 0.9375),\n",
       " (3749, 6580, 0.9375),\n",
       " (2325, 5993, 0.9375),\n",
       " (4628, 5553, 0.9375),\n",
       " (2387, 5500, 0.9375),\n",
       " (1815, 8224, 0.9375),\n",
       " (3110, 6358, 0.9375),\n",
       " (755, 1199, 0.9375),\n",
       " (2254, 3246, 0.9375),\n",
       " (3110, 4628, 0.9375),\n",
       " (2254, 5756, 0.9375),\n",
       " (494, 4117, 0.9375),\n",
       " (1815, 3777, 0.9375),\n",
       " (3756, 7987, 0.9375),\n",
       " (7635, 9465, 0.9375),\n",
       " (1815, 5553, 0.9375),\n",
       " (3812, 6781, 0.9375),\n",
       " (1921, 9206, 0.9375),\n",
       " (2788, 9418, 0.9375),\n",
       " (1711, 2254, 0.9375),\n",
       " (1335, 6606, 0.9375),\n",
       " (1815, 3826, 0.9375),\n",
       " (1665, 8275, 0.9375),\n",
       " (7712, 9120, 0.9375),\n",
       " (6459, 6632, 0.9375),\n",
       " (1335, 5993, 0.9375),\n",
       " (2307, 9418, 0.9375),\n",
       " (4628, 6368, 0.9375),\n",
       " (3812, 6099, 0.9375),\n",
       " (4555, 8224, 0.9375),\n",
       " (5500, 9418, 0.9375),\n",
       " (1461, 1711, 0.9375),\n",
       " (3571, 7987, 0.9375),\n",
       " (338, 9206, 0.9375),\n",
       " (3812, 4369, 0.9375),\n",
       " (1815, 8734, 0.9375),\n",
       " (3491, 5500, 0.9375),\n",
       " (2325, 8443, 0.9375),\n",
       " (1921, 3812, 0.9375),\n",
       " (338, 3812, 0.9375),\n",
       " (4369, 6632, 0.9375),\n",
       " (2387, 9418, 0.9375),\n",
       " (1199, 2387, 0.9375),\n",
       " (755, 3491, 0.9375),\n",
       " (1938, 4530, 0.9375),\n",
       " (755, 5500, 0.9375),\n",
       " (4042, 7073, 0.9375),\n",
       " (5500, 7527, 0.9375),\n",
       " (3812, 6580, 0.9375),\n",
       " (1629, 2053, 0.9375),\n",
       " (1187, 9786, 0.9375),\n",
       " (4300, 5500, 0.9375),\n",
       " (309, 1199, 0.9375),\n",
       " (7858, 8077, 0.9375),\n",
       " (6899, 9786, 0.9375),\n",
       " (557, 9206, 0.9375),\n",
       " (2254, 5915, 0.9375),\n",
       " (198, 1199, 0.9375),\n",
       " (6781, 9206, 0.9375),\n",
       " (3153, 8847, 0.9375),\n",
       " (626, 2109, 0.9375),\n",
       " (8793, 8993, 0.9375),\n",
       " (4555, 8734, 0.9375),\n",
       " (6606, 9786, 0.9375),\n",
       " (3812, 5823, 0.9375),\n",
       " (4389, 8179, 0.9375),\n",
       " (1815, 4555, 0.9375),\n",
       " (3812, 6632, 0.9375),\n",
       " (626, 9786, 0.9375),\n",
       " (557, 3812, 0.9375),\n",
       " (1815, 3110, 0.9375),\n",
       " (839, 3966, 0.9375),\n",
       " (338, 8484, 0.9375),\n",
       " (1187, 1335, 0.9375),\n",
       " (4555, 6368, 0.9375),\n",
       " (1665, 3385, 0.9375),\n",
       " (9206, 9723, 0.9375),\n",
       " (3246, 8443, 0.9375),\n",
       " (626, 1335, 0.9375),\n",
       " (1199, 3772, 0.9375),\n",
       " (2359, 8443, 0.9375),\n",
       " (2254, 8601, 0.9375),\n",
       " (3634, 5756, 0.9375),\n",
       " (3634, 9786, 0.9375),\n",
       " (5993, 9786, 0.9375),\n",
       " (1194, 5756, 0.9375),\n",
       " (1461, 5756, 0.9375),\n",
       " (4814, 9052, 0.9375),\n",
       " (4369, 9206, 0.9375),\n",
       " (309, 5500, 0.9375),\n",
       " (5834, 7774, 0.9375),\n",
       " (3110, 6368, 0.9375),\n",
       " (198, 5500, 0.9375),\n",
       " (5823, 9206, 0.9375),\n",
       " (1194, 9786, 0.9375),\n",
       " (6899, 8601, 0.9375),\n",
       " (1780, 8736, 0.9375),\n",
       " (2109, 9786, 0.9375),\n",
       " (2307, 2387, 0.9375),\n",
       " (6606, 8601, 0.9375),\n",
       " (6099, 6580, 0.9375),\n",
       " (1194, 1335, 0.9375),\n",
       " (6580, 8601, 0.921875),\n",
       " (2028, 5333, 0.921875),\n",
       " (2307, 6368, 0.921875),\n",
       " (1199, 2558, 0.921875),\n",
       " (557, 1461, 0.921875),\n",
       " (5756, 6781, 0.921875),\n",
       " (3153, 6574, 0.921875),\n",
       " (3110, 3772, 0.921875),\n",
       " (1921, 6899, 0.921875),\n",
       " (5998, 7823, 0.921875),\n",
       " (1194, 4369, 0.921875),\n",
       " (1461, 4369, 0.921875),\n",
       " (8484, 8601, 0.921875),\n",
       " (1918, 8963, 0.921875),\n",
       " (3246, 4195, 0.921875),\n",
       " (2109, 9723, 0.921875),\n",
       " (2868, 3320, 0.921875),\n",
       " (128, 2627, 0.921875),\n",
       " (2596, 7480, 0.921875),\n",
       " (4780, 9206, 0.921875),\n",
       " (2788, 3110, 0.921875),\n",
       " (998, 9465, 0.921875),\n",
       " (8275, 9723, 0.921875),\n",
       " (2540, 9786, 0.921875),\n",
       " (3654, 5147, 0.921875),\n",
       " (5993, 6632, 0.921875),\n",
       " (3143, 7502, 0.921875),\n",
       " (1815, 3491, 0.921875),\n",
       " (1461, 5823, 0.921875),\n",
       " (1199, 1879, 0.921875),\n",
       " (6294, 8275, 0.921875),\n",
       " (1558, 8006, 0.921875),\n",
       " (1461, 6580, 0.921875),\n",
       " (2540, 6899, 0.921875),\n",
       " (5915, 6580, 0.921875),\n",
       " (6753, 9167, 0.921875),\n",
       " (2307, 4555, 0.921875),\n",
       " (1815, 6004, 0.921875),\n",
       " (2109, 6459, 0.921875),\n",
       " (2387, 3110, 0.921875),\n",
       " (6598, 8484, 0.921875),\n",
       " (104, 9751, 0.921875),\n",
       " (2109, 3143, 0.921875),\n",
       " (2307, 3110, 0.921875),\n",
       " (3491, 8734, 0.921875),\n",
       " (1780, 8443, 0.921875),\n",
       " (2696, 8100, 0.921875),\n",
       " (6830, 9052, 0.921875),\n",
       " (3826, 4300, 0.921875),\n",
       " (2540, 8275, 0.921875),\n",
       " (5756, 6459, 0.921875),\n",
       " (1152, 9751, 0.921875),\n",
       " (1187, 9206, 0.921875),\n",
       " (1557, 4555, 0.921875),\n",
       " (4628, 9418, 0.921875),\n",
       " (1665, 2868, 0.921875),\n",
       " (3772, 6358, 0.921875),\n",
       " (6899, 9206, 0.921875),\n",
       " (1194, 6632, 0.921875),\n",
       " (5756, 6580, 0.921875),\n",
       " (1815, 4300, 0.921875),\n",
       " (3772, 4628, 0.921875),\n",
       " (5915, 6632, 0.921875),\n",
       " (309, 8224, 0.921875),\n",
       " (1711, 6781, 0.921875),\n",
       " (6459, 9786, 0.921875),\n",
       " (4195, 8443, 0.921875),\n",
       " (1879, 2307, 0.921875),\n",
       " (6606, 9206, 0.921875),\n",
       " (421, 3917, 0.921875),\n",
       " (8793, 9052, 0.921875),\n",
       " (626, 9206, 0.921875),\n",
       " (1921, 5915, 0.921875),\n",
       " (557, 6899, 0.921875),\n",
       " (1815, 9418, 0.921875),\n",
       " (3654, 3763, 0.921875),\n",
       " (1815, 7527, 0.921875),\n",
       " (2109, 6632, 0.921875),\n",
       " (3171, 3950, 0.921875),\n",
       " (396, 9340, 0.921875),\n",
       " (3749, 9786, 0.921875),\n",
       " (6459, 6899, 0.921875),\n",
       " (6099, 8443, 0.921875),\n",
       " (1887, 3777, 0.921875),\n",
       " (1557, 7808, 0.921875),\n",
       " (7765, 8892, 0.921875),\n",
       " (5756, 5823, 0.921875),\n",
       " (3918, 6242, 0.921875),\n",
       " (3812, 5249, 0.921875),\n",
       " (9206, 9376, 0.921875),\n",
       " (2325, 9723, 0.921875),\n",
       " (4288, 6781, 0.921875),\n",
       " (3654, 3812, 0.921875),\n",
       " (1187, 3812, 0.921875),\n",
       " (5915, 8132, 0.921875),\n",
       " (1711, 4369, 0.921875),\n",
       " (2540, 3385, 0.921875),\n",
       " (1335, 6099, 0.921875),\n",
       " (7720, 8707, 0.921875),\n",
       " (8443, 9723, 0.921875),\n",
       " (2540, 9850, 0.921875),\n",
       " (198, 3826, 0.921875),\n",
       " (557, 5915, 0.921875),\n",
       " (2540, 5993, 0.921875),\n",
       " (5993, 9206, 0.921875),\n",
       " (5645, 6385, 0.921875),\n",
       " (626, 3812, 0.921875),\n",
       " (1711, 5823, 0.921875),\n",
       " (1921, 2254, 0.921875),\n",
       " (755, 4555, 0.921875),\n",
       " (1665, 6294, 0.921875),\n",
       " (1921, 8601, 0.921875),\n",
       " (338, 8601, 0.921875),\n",
       " (1711, 6580, 0.921875),\n",
       " (2627, 5333, 0.921875),\n",
       " (2325, 6580, 0.921875),\n",
       " (1335, 6459, 0.921875),\n",
       " (198, 8734, 0.921875),\n",
       " (3246, 6781, 0.921875),\n",
       " (1335, 9723, 0.921875),\n",
       " (1901, 7774, 0.921875),\n",
       " (100, 4096, 0.921875),\n",
       " (3634, 9206, 0.921875),\n",
       " (8077, 9970, 0.921875),\n",
       " (1557, 5333, 0.921875),\n",
       " (557, 6606, 0.921875),\n",
       " (2627, 4628, 0.921875),\n",
       " (4292, 5169, 0.921875),\n",
       " (338, 2254, 0.921875),\n",
       " (1901, 5834, 0.921875),\n",
       " (1711, 6632, 0.921875),\n",
       " (309, 8734, 0.921875),\n",
       " (494, 3475, 0.921875),\n",
       " (755, 1815, 0.921875),\n",
       " (3634, 3812, 0.921875),\n",
       " (3777, 4300, 0.921875),\n",
       " (2028, 3777, 0.921875),\n",
       " (5553, 9150, 0.921875),\n",
       " (2325, 2798, 0.921875),\n",
       " (839, 3450, 0.921875),\n",
       " (1557, 4628, 0.921875),\n",
       " (557, 8601, 0.921875),\n",
       " (1490, 9206, 0.921875),\n",
       " (5823, 6899, 0.921875),\n",
       " (1879, 5500, 0.921875),\n",
       " (1194, 3812, 0.921875),\n",
       " (5333, 9418, 0.921875),\n",
       " (2109, 9206, 0.921875),\n",
       " (5333, 7527, 0.921875),\n",
       " (2361, 3036, 0.921875),\n",
       " (2307, 6358, 0.921875),\n",
       " (3777, 7527, 0.921875),\n",
       " (3110, 9418, 0.921875),\n",
       " (3812, 6899, 0.921875),\n",
       " (2387, 4628, 0.921875),\n",
       " (2307, 4628, 0.921875),\n",
       " (7712, 8714, 0.921875),\n",
       " (1557, 6358, 0.921875),\n",
       " (385, 1046, 0.921875),\n",
       " (4122, 9183, 0.921875),\n",
       " (3826, 7073, 0.921875),\n",
       " (2540, 8443, 0.921875),\n",
       " (144, 2540, 0.921875),\n",
       " (2093, 5048, 0.921875),\n",
       " (557, 2254, 0.921875),\n",
       " (3772, 3826, 0.921875),\n",
       " (3502, 9491, 0.921875),\n",
       " (9424, 9460, 0.921875),\n",
       " (1199, 5553, 0.921875),\n",
       " (1461, 1921, 0.921875),\n",
       " (6781, 8601, 0.921875),\n",
       " (3812, 8278, 0.921875),\n",
       " (609, 6264, 0.921875),\n",
       " (3654, 5701, 0.921875),\n",
       " (2387, 6358, 0.921875),\n",
       " (326, 2866, 0.921875),\n",
       " (1815, 2387, 0.921875),\n",
       " (2254, 4369, 0.921875),\n",
       " (6483, 6742, 0.921875),\n",
       " (2260, 5255, 0.921875),\n",
       " (1490, 1921, 0.921875),\n",
       " (2109, 3812, 0.921875),\n",
       " (6358, 9418, 0.921875),\n",
       " (1918, 7465, 0.921875),\n",
       " (6358, 7527, 0.921875),\n",
       " (198, 4555, 0.921875),\n",
       " (3826, 4310, 0.921875),\n",
       " (3246, 5823, 0.921875),\n",
       " (2254, 6384, 0.921875),\n",
       " (1665, 9723, 0.921875),\n",
       " (3246, 6580, 0.921875),\n",
       " (6459, 8443, 0.921875),\n",
       " (1815, 4310, 0.921875),\n",
       " (5823, 5915, 0.921875),\n",
       " (3491, 4628, 0.921875),\n",
       " (7420, 7787, 0.921875),\n",
       " (309, 1815, 0.921875),\n",
       " (6086, 6975, 0.921875),\n",
       " (4445, 9206, 0.921875),\n",
       " (3749, 8443, 0.921875),\n",
       " (4310, 6368, 0.921875),\n",
       " (2325, 9206, 0.921875),\n",
       " (3772, 8734, 0.921875),\n",
       " (609, 732, 0.921875),\n",
       " (5064, 6028, 0.921875),\n",
       " (4651, 8994, 0.921875),\n",
       " (4300, 5333, 0.921875),\n",
       " (3812, 6606, 0.921875),\n",
       " (1665, 6459, 0.921875),\n",
       " (198, 1815, 0.921875),\n",
       " (8484, 9786, 0.921875),\n",
       " (3492, 6574, 0.921875),\n",
       " (1780, 9786, 0.921875),\n",
       " (2254, 5823, 0.921875),\n",
       " (2325, 3812, 0.921875),\n",
       " (1711, 4376, 0.921875),\n",
       " (5693, 7250, 0.921875),\n",
       " (338, 1711, 0.921875),\n",
       " (4369, 8601, 0.921875),\n",
       " (1009, 3654, 0.921875),\n",
       " (6606, 7184, 0.921875),\n",
       " (2254, 6580, 0.921875),\n",
       " (6459, 8541, 0.921875),\n",
       " (1815, 3772, 0.921875),\n",
       " (2307, 8224, 0.921875),\n",
       " (3493, 6830, 0.921875),\n",
       " (3265, 7609, 0.921875),\n",
       " (4195, 9786, 0.921875),\n",
       " (3792, 9357, 0.921875),\n",
       " (5823, 8601, 0.921875),\n",
       " (101, 4376, 0.921875),\n",
       " (5327, 7143, 0.921875),\n",
       " (1145, 4486, 0.921875),\n",
       " (1557, 8224, 0.921875),\n",
       " (3812, 5993, 0.921875),\n",
       " (1711, 1921, 0.921875),\n",
       " (2254, 6632, 0.921875),\n",
       " (6099, 9786, 0.921875),\n",
       " (2558, 5500, 0.921875),\n",
       " (539, 6580, 0.921875),\n",
       " (5272, 7805, 0.921875),\n",
       " (3772, 4555, 0.921875),\n",
       " (732, 1194, 0.921875),\n",
       " (239, 6742, 0.921875),\n",
       " (3654, 6099, 0.921875),\n",
       " (2948, 3777, 0.921875),\n",
       " (1208, 5999, 0.921875),\n",
       " (557, 1711, 0.921875),\n",
       " (1557, 3777, 0.921875),\n",
       " (1557, 5553, 0.921875),\n",
       " (1187, 6580, 0.921875),\n",
       " (3003, 6598, 0.921875),\n",
       " (2307, 3826, 0.921875),\n",
       " (3246, 9206, 0.921875),\n",
       " (4376, 6606, 0.921875),\n",
       " (4479, 6028, 0.921875),\n",
       " (2359, 9206, 0.921875),\n",
       " (4369, 4445, 0.921875),\n",
       " (1335, 8484, 0.921875),\n",
       " (3255, 6459, 0.921875),\n",
       " (7340, 8519, 0.921875),\n",
       " (2387, 3777, 0.921875),\n",
       " (2307, 3777, 0.921875),\n",
       " (1557, 3826, 0.921875),\n",
       " (8443, 8484, 0.921875),\n",
       " (1152, 8737, 0.921875),\n",
       " (557, 3634, 0.921875),\n",
       " (557, 626, 0.921875),\n",
       " (1335, 1780, 0.921875),\n",
       " (3777, 6702, 0.921875),\n",
       " (5500, 5553, 0.921875),\n",
       " (3491, 8224, 0.921875),\n",
       " (338, 1461, 0.921875),\n",
       " (8714, 9120, 0.921875),\n",
       " (1335, 4195, 0.921875),\n",
       " (1335, 3749, 0.921875),\n",
       " (1815, 2627, 0.921875),\n",
       " (1780, 5915, 0.921875),\n",
       " (9723, 9786, 0.921875),\n",
       " (8484, 9116, 0.921875),\n",
       " (3634, 6781, 0.921875),\n",
       " (1335, 2540, 0.921875),\n",
       " (1557, 8734, 0.921875),\n",
       " (309, 4628, 0.921875),\n",
       " (6632, 8601, 0.921875),\n",
       " (1461, 6781, 0.921875),\n",
       " (2540, 3263, 0.921875),\n",
       " (6580, 6606, 0.921875),\n",
       " (1557, 6368, 0.921875),\n",
       " (3246, 3812, 0.921875),\n",
       " (557, 2359, 0.921875),\n",
       " (1921, 3246, 0.921875),\n",
       " (338, 3246, 0.921875),\n",
       " (2263, 2271, 0.921875),\n",
       " (3826, 5330, 0.921875),\n",
       " (3675, 7712, 0.921875),\n",
       " (2307, 8734, 0.921875),\n",
       " (2540, 3246, 0.921875),\n",
       " (1921, 5756, 0.921875),\n",
       " (338, 5756, 0.921875),\n",
       " (2359, 3812, 0.921875),\n",
       " (2540, 5468, 0.921875),\n",
       " (2540, 5756, 0.921875),\n",
       " (4788, 7049, 0.90625),\n",
       " (3826, 5333, 0.90625),\n",
       " (9376, 9786, 0.90625),\n",
       " (1187, 8601, 0.90625),\n",
       " (7099, 9786, 0.90625),\n",
       " (4780, 8443, 0.90625),\n",
       " (4195, 5823, 0.90625),\n",
       " (1487, 7049, 0.90625),\n",
       " (3826, 8790, 0.90625),\n",
       " (309, 1557, 0.90625),\n",
       " (4369, 8484, 0.90625),\n",
       " (717, 5088, 0.90625),\n",
       " (5756, 6899, 0.90625),\n",
       " (2517, 9742, 0.90625),\n",
       " (7987, 8519, 0.90625),\n",
       " (755, 3492, 0.90625),\n",
       " (1335, 7900, 0.90625),\n",
       " (1199, 3177, 0.90625),\n",
       " (2254, 9376, 0.90625),\n",
       " (3003, 8484, 0.90625),\n",
       " (7253, 8120, 0.90625),\n",
       " (3634, 5915, 0.90625),\n",
       " (496, 6459, 0.90625),\n",
       " (496, 5322, 0.90625),\n",
       " (646, 2053, 0.90625),\n",
       " (5322, 6459, 0.90625),\n",
       " (5993, 6606, 0.90625),\n",
       " (198, 1557, 0.90625),\n",
       " (3206, 5454, 0.90625),\n",
       " (3826, 4628, 0.90625),\n",
       " (1068, 7808, 0.90625),\n",
       " (1780, 2798, 0.90625),\n",
       " (626, 2254, 0.90625),\n",
       " (5500, 6702, 0.90625),\n",
       " (1194, 5915, 0.90625),\n",
       " (8278, 9786, 0.90625),\n",
       " (5010, 5566, 0.90625),\n",
       " (2696, 7527, 0.90625),\n",
       " (1711, 3246, 0.90625),\n",
       " (3110, 4555, 0.90625),\n",
       " (1711, 2109, 0.90625),\n",
       " (607, 4628, 0.90625),\n",
       " (266, 7117, 0.90625),\n",
       " (1335, 5249, 0.90625),\n",
       " (3812, 4195, 0.90625),\n",
       " (2359, 3634, 0.90625),\n",
       " (5249, 9786, 0.90625),\n",
       " (2325, 5756, 0.90625),\n",
       " (4083, 6028, 0.90625),\n",
       " (2307, 4316, 0.90625),\n",
       " (3654, 8443, 0.90625),\n",
       " (8509, 9491, 0.90625),\n",
       " (3889, 9287, 0.90625),\n",
       " (3246, 9293, 0.90625),\n",
       " (1921, 6781, 0.90625),\n",
       " (3749, 6058, 0.90625),\n",
       " (1921, 4369, 0.90625),\n",
       " (1879, 7917, 0.90625),\n",
       " (5993, 8601, 0.90625),\n",
       " (1557, 3772, 0.90625),\n",
       " (5330, 5500, 0.90625),\n",
       " (3826, 6358, 0.90625),\n",
       " (732, 6264, 0.90625),\n",
       " (3812, 8484, 0.90625),\n",
       " (1629, 2627, 0.90625),\n",
       " (1815, 1879, 0.90625),\n",
       " (6256, 6483, 0.90625),\n",
       " (2596, 5373, 0.90625),\n",
       " (5630, 6458, 0.90625),\n",
       " (5321, 9804, 0.90625),\n",
       " (2798, 9206, 0.90625),\n",
       " (8737, 8836, 0.90625),\n",
       " (4311, 9786, 0.90625),\n",
       " (1429, 9278, 0.90625),\n",
       " (3714, 8077, 0.90625),\n",
       " (1461, 6606, 0.90625),\n",
       " (1335, 4780, 0.90625),\n",
       " (2387, 3772, 0.90625),\n",
       " (3605, 5924, 0.90625),\n",
       " (4089, 8601, 0.90625),\n",
       " (2307, 3772, 0.90625),\n",
       " (6455, 9605, 0.90625),\n",
       " (4310, 5500, 0.90625),\n",
       " (5915, 6606, 0.90625),\n",
       " (396, 880, 0.90625),\n",
       " (3993, 9751, 0.90625),\n",
       " (4445, 5756, 0.90625),\n",
       " (1879, 3110, 0.90625),\n",
       " (2540, 9723, 0.90625),\n",
       " (4445, 9786, 0.90625),\n",
       " (4979, 8468, 0.90625),\n",
       " (3246, 7900, 0.90625),\n",
       " (1461, 5993, 0.90625),\n",
       " (3634, 8601, 0.90625),\n",
       " (4122, 5840, 0.90625),\n",
       " (5249, 8278, 0.90625),\n",
       " (3015, 6923, 0.90625),\n",
       " (2697, 2740, 0.90625),\n",
       " (4555, 5333, 0.90625),\n",
       " (732, 9206, 0.90625),\n",
       " (309, 8434, 0.90625),\n",
       " (1711, 2325, 0.90625),\n",
       " (1145, 2383, 0.90625),\n",
       " (5915, 5993, 0.90625),\n",
       " (1335, 1490, 0.90625),\n",
       " (1199, 6004, 0.90625),\n",
       " (421, 8793, 0.90625),\n",
       " (3450, 6574, 0.90625),\n",
       " (3015, 8509, 0.90625),\n",
       " (2109, 5915, 0.90625),\n",
       " (2540, 4369, 0.90625),\n",
       " (607, 9608, 0.90625),\n",
       " (8484, 9206, 0.90625),\n",
       " (3931, 7858, 0.90625),\n",
       " (6294, 6459, 0.90625),\n",
       " (1194, 8601, 0.90625),\n",
       " (557, 7184, 0.90625),\n",
       " (1335, 4288, 0.90625),\n",
       " (7900, 8601, 0.90625),\n",
       " (557, 6781, 0.90625),\n",
       " (9120, 9751, 0.90625),\n",
       " (1335, 8531, 0.90625),\n",
       " (1335, 4311, 0.90625),\n",
       " (4555, 5169, 0.90625),\n",
       " (2558, 3826, 0.90625),\n",
       " (8443, 8531, 0.90625),\n",
       " (1168, 6347, 0.90625),\n",
       " (1336, 3488, 0.90625),\n",
       " (1921, 6459, 0.90625),\n",
       " (4916, 9062, 0.90625),\n",
       " (198, 4292, 0.90625),\n",
       " (3772, 9418, 0.90625),\n",
       " (539, 1187, 0.90625),\n",
       " (1719, 4532, 0.90625),\n",
       " (5756, 5993, 0.90625),\n",
       " (2540, 5322, 0.90625),\n",
       " (338, 5823, 0.90625),\n",
       " (4288, 9786, 0.90625),\n",
       " (2540, 5823, 0.90625),\n",
       " (2254, 3634, 0.90625),\n",
       " (2745, 6742, 0.90625),\n",
       " (4064, 4479, 0.90625),\n",
       " (1921, 6580, 0.90625),\n",
       " (2387, 2788, 0.90625),\n",
       " (338, 6580, 0.90625),\n",
       " (4195, 9206, 0.90625),\n",
       " (3246, 5468, 0.90625),\n",
       " (8132, 8484, 0.90625),\n",
       " (1194, 2254, 0.90625),\n",
       " (2540, 6580, 0.90625),\n",
       " (2540, 4401, 0.90625),\n",
       " (755, 3153, 0.90625),\n",
       " (557, 6099, 0.90625),\n",
       " (8601, 9850, 0.90625),\n",
       " (6483, 7901, 0.90625),\n",
       " (2669, 9482, 0.90625),\n",
       " (4555, 6358, 0.90625),\n",
       " (755, 3772, 0.90625),\n",
       " (557, 4369, 0.90625),\n",
       " (6099, 9206, 0.90625),\n",
       " (7900, 8443, 0.90625),\n",
       " (5823, 6058, 0.90625),\n",
       " (3763, 3812, 0.90625),\n",
       " (755, 2307, 0.90625),\n",
       " (2254, 9083, 0.90625),\n",
       " (4555, 8465, 0.90625),\n",
       " (4555, 4628, 0.90625),\n",
       " (1335, 8278, 0.90625),\n",
       " (5760, 7665, 0.90625),\n",
       " (3274, 6294, 0.90625),\n",
       " (2109, 2254, 0.90625),\n",
       " (2325, 5915, 0.90625),\n",
       " (1780, 3812, 0.90625),\n",
       " (3749, 6099, 0.90625),\n",
       " (3110, 5333, 0.90625),\n",
       " (2109, 8601, 0.90625),\n",
       " (3443, 8734, 0.90625),\n",
       " (2387, 2627, 0.90625),\n",
       " (5915, 6598, 0.90625),\n",
       " (1921, 6632, 0.90625),\n",
       " (3756, 8519, 0.90625),\n",
       " (2307, 2627, 0.90625),\n",
       " (1363, 6030, 0.90625),\n",
       " (338, 6632, 0.90625),\n",
       " (1665, 3263, 0.90625),\n",
       " (2627, 5500, 0.90625),\n",
       " (3777, 6358, 0.90625),\n",
       " (2254, 2359, 0.90625),\n",
       " (626, 1187, 0.90625),\n",
       " (2540, 6632, 0.90625),\n",
       " (8737, 9608, 0.90625),\n",
       " (5120, 7250, 0.90625),\n",
       " (2028, 6782, 0.90625),\n",
       " (3246, 5756, 0.90625),\n",
       " (557, 5823, 0.90625),\n",
       " (3777, 4628, 0.90625),\n",
       " (626, 1711, 0.90625),\n",
       " (2359, 4288, 0.90625),\n",
       " (732, 1780, 0.90625),\n",
       " (2062, 8531, 0.90625),\n",
       " (557, 6580, 0.90625),\n",
       " (6342, 8443, 0.90625),\n",
       " (206, 2844, 0.90625),\n",
       " (2788, 5500, 0.90625),\n",
       " (913, 6021, 0.90625),\n",
       " (3985, 8443, 0.90625),\n",
       " (655, 3792, 0.90625),\n",
       " (3003, 8010, 0.90625),\n",
       " (1187, 1711, 0.90625),\n",
       " (5807, 6028, 0.90625),\n",
       " (7049, 9729, 0.90625),\n",
       " (3082, 3756, 0.90625),\n",
       " (1557, 5330, 0.90625),\n",
       " (3492, 8847, 0.90625),\n",
       " (4288, 5915, 0.90625),\n",
       " (3826, 8224, 0.90625),\n",
       " (3246, 6899, 0.90625),\n",
       " (4780, 7900, 0.90625),\n",
       " (1152, 5670, 0.90625),\n",
       " (2181, 7485, 0.90625),\n",
       " (2325, 6606, 0.90625),\n",
       " (3255, 3320, 0.90625),\n",
       " (5333, 6358, 0.90625),\n",
       " (4529, 6220, 0.90625),\n",
       " (1490, 8443, 0.90625),\n",
       " (198, 755, 0.90625),\n",
       " (4195, 8386, 0.90625),\n",
       " (1879, 5333, 0.90625),\n",
       " (1199, 4292, 0.90625),\n",
       " (5670, 8714, 0.90625),\n",
       " (1711, 5993, 0.90625),\n",
       " (6899, 7900, 0.90625),\n",
       " (1557, 3177, 0.90625),\n",
       " (1848, 2026, 0.90625),\n",
       " (1041, 7340, 0.90625),\n",
       " (4292, 5500, 0.90625),\n",
       " (1194, 4445, 0.90625),\n",
       " (5249, 8601, 0.90625),\n",
       " (557, 6632, 0.90625),\n",
       " (755, 2028, 0.90625),\n",
       " (6368, 8734, 0.90625),\n",
       " (3826, 5553, 0.90625),\n",
       " (2325, 8601, 0.90625),\n",
       " (7099, 8443, 0.90625),\n",
       " (2254, 4288, 0.90625),\n",
       " (1335, 9850, 0.90625),\n",
       " (5823, 6781, 0.90625),\n",
       " (6264, 9206, 0.90625),\n",
       " (3917, 9052, 0.90625),\n",
       " (1557, 3491, 0.90625),\n",
       " (9089, 9804, 0.90625),\n",
       " (3423, 6742, 0.90625),\n",
       " (8531, 9786, 0.90625),\n",
       " (8443, 9850, 0.90625),\n",
       " (1665, 2325, 0.90625),\n",
       " (2254, 2325, 0.90625),\n",
       " (3889, 7161, 0.90625),\n",
       " (4456, 5120, 0.90625),\n",
       " (9120, 9608, 0.90625),\n",
       " (309, 4310, 0.90625),\n",
       " (1557, 9150, 0.90625),\n",
       " (1187, 1461, 0.90625),\n",
       " (3015, 4788, 0.90625),\n",
       " (2254, 6899, 0.90625),\n",
       " (144, 1665, 0.90625),\n",
       " (8224, 8734, 0.90625),\n",
       " (5126, 7987, 0.90625),\n",
       " (2307, 3491, 0.90625),\n",
       " (8278, 8443, 0.90625),\n",
       " (496, 4195, 0.90625),\n",
       " (4334, 5248, 0.90625),\n",
       " (2109, 6342, 0.90625),\n",
       " (786, 2307, 0.90625),\n",
       " (2565, 6742, 0.90625),\n",
       " (6058, 6580, 0.90625),\n",
       " (3654, 5249, 0.90625),\n",
       " (2359, 5915, 0.90625),\n",
       " (4628, 8734, 0.90625),\n",
       " (5249, 8443, 0.90625),\n",
       " (4369, 6459, 0.90625),\n",
       " (996, 6830, 0.90625),\n",
       " (539, 5756, 0.90625),\n",
       " (3274, 4369, 0.90625),\n",
       " (2307, 6004, 0.90625),\n",
       " (1199, 7073, 0.90625),\n",
       " (1770, 4303, 0.90625),\n",
       " (539, 9786, 0.90625),\n",
       " (3826, 8734, 0.90625),\n",
       " (2868, 3143, 0.90625),\n",
       " (1557, 4300, 0.90625),\n",
       " (116, 5082, 0.90625),\n",
       " (198, 3772, 0.90625),\n",
       " (1546, 7712, 0.90625),\n",
       " (5690, 9150, 0.90625),\n",
       " (3812, 9723, 0.90625),\n",
       " (626, 1461, 0.90625),\n",
       " (5500, 6004, 0.90625),\n",
       " (4369, 6580, 0.90625),\n",
       " (9786, 9850, 0.90625),\n",
       " (5824, 9052, 0.90625),\n",
       " (3777, 8100, 0.90625),\n",
       " (2540, 8023, 0.90625),\n",
       " (18, 6523, 0.90625),\n",
       " (3153, 5830, 0.90625),\n",
       " (1194, 1711, 0.90625),\n",
       " (2674, 5363, 0.90625),\n",
       " (4827, 5725, 0.90625),\n",
       " (3826, 6368, 0.90625),\n",
       " (1187, 5756, 0.90625),\n",
       " (1461, 2062, 0.90625),\n",
       " (4780, 9786, 0.90625),\n",
       " (3246, 5915, 0.90625),\n",
       " (3274, 6459, 0.90625),\n",
       " (4311, 8443, 0.90625),\n",
       " (1025, 4780, 0.90625),\n",
       " (2540, 9206, 0.90625),\n",
       " (1557, 9418, 0.90625),\n",
       " (5823, 6459, 0.90625),\n",
       " (3917, 6476, 0.90625),\n",
       " (5216, 5954, 0.90625),\n",
       " (2387, 4300, 0.90625),\n",
       " (1557, 7527, 0.90625),\n",
       " (3246, 9850, 0.90625),\n",
       " (996, 7498, 0.90625),\n",
       " (2307, 4300, 0.90625),\n",
       " (2359, 6606, 0.90625),\n",
       " (755, 3177, 0.90625),\n",
       " (1490, 1711, 0.90625),\n",
       " (4445, 8443, 0.90625),\n",
       " (309, 2307, 0.90625),\n",
       " (3777, 8224, 0.90625),\n",
       " (194, 9357, 0.90625),\n",
       " (539, 1335, 0.90625),\n",
       " (4369, 5823, 0.90625),\n",
       " (918, 3171, 0.90625),\n",
       " (3812, 6459, 0.90625),\n",
       " (2540, 3812, 0.90625),\n",
       " (2948, 5610, 0.90625),\n",
       " (2387, 7527, 0.90625),\n",
       " (626, 5756, 0.90625),\n",
       " (655, 9089, 0.90625),\n",
       " (6606, 9616, 0.90625),\n",
       " (2307, 7527, 0.90625),\n",
       " (198, 2307, 0.90625),\n",
       " (1461, 3634, 0.90625),\n",
       " (1009, 1921, 0.90625),\n",
       " (1187, 3246, 0.90625),\n",
       " (1618, 9970, 0.90625),\n",
       " (2359, 8601, 0.90625),\n",
       " (791, 7278, 0.90625),\n",
       " (3654, 9786, 0.90625),\n",
       " (8148, 9206, 0.90625),\n",
       " (732, 9262, 0.90625),\n",
       " (3889, 4827, 0.90625),\n",
       " (3187, 7729, 0.90625),\n",
       " (5333, 8224, 0.90625),\n",
       " (3328, 5915, 0.90625),\n",
       " (3246, 5993, 0.90625),\n",
       " (4288, 8443, 0.90625),\n",
       " (1512, 2912, 0.90625),\n",
       " (1665, 9850, 0.90625),\n",
       " (5823, 6580, 0.90625),\n",
       " (1921, 4195, 0.90625),\n",
       " (338, 4195, 0.90625),\n",
       " (2824, 4812, 0.90625),\n",
       " (6459, 9206, 0.90625),\n",
       " (3826, 4408, 0.90625),\n",
       " (1199, 4310, 0.90625),\n",
       " (169, 2066, 0.90625),\n",
       " (6632, 6781, 0.90625),\n",
       " (1199, 6702, 0.90625),\n",
       " (338, 1921, 0.90625),\n",
       " (3350, 6929, 0.90625),\n",
       " (5064, 7073, 0.90625),\n",
       " (5322, 6294, 0.90625),\n",
       " (1068, 3826, 0.90625),\n",
       " (3777, 3826, 0.90625),\n",
       " (3110, 8224, 0.90625),\n",
       " (3756, 4755, 0.90625),\n",
       " (3246, 8601, 0.90625),\n",
       " (3789, 7987, 0.90625),\n",
       " (1557, 4292, 0.90625),\n",
       " (1921, 2540, 0.90625),\n",
       " (5372, 8105, 0.90625),\n",
       " (1461, 2359, 0.90625),\n",
       " (3571, 3756, 0.90625),\n",
       " (1335, 4445, 0.90625),\n",
       " (2540, 8386, 0.90625),\n",
       " (3749, 9206, 0.90625),\n",
       " (626, 2325, 0.90625),\n",
       " (5321, 9089, 0.90625),\n",
       " (2540, 3274, 0.90625),\n",
       " (6028, 8737, 0.90625),\n",
       " (2028, 2307, 0.90625),\n",
       " (3265, 7583, 0.90625),\n",
       " (2109, 9083, 0.90625),\n",
       " (494, 1199, 0.90625),\n",
       " (198, 2788, 0.90625),\n",
       " (1546, 9120, 0.90625),\n",
       " (6606, 6899, 0.90625),\n",
       " (1187, 8278, 0.90625),\n",
       " (5553, 8224, 0.90625),\n",
       " (626, 6899, 0.90625),\n",
       " ...]"
      ]
     },
     "execution_count": 88,
     "metadata": {},
     "output_type": "execute_result"
    }
   ],
   "source": [
    "duplicates"
   ]
  },
  {
   "cell_type": "code",
   "execution_count": 93,
   "id": "700f9b81-b8ca-417e-859d-9f8fcdd033f7",
   "metadata": {},
   "outputs": [
    {
     "data": {
      "image/png": "[encoded data removed]",
      "text/plain": [
       "<Figure size 640x480 with 1 Axes>"
      ]
     },
     "metadata": {},
     "output_type": "display_data"
    }
   ],
   "source": [
    "plt.imshow(images[626].reshape(3,32,32).T.astype(numpy.uint8), interpolation='nearest')\n",
    "plt.show()"
   ]
  },
  {
   "cell_type": "code",
   "execution_count": 94,
   "id": "c6bdb437-77c5-4fde-8d45-eece067359bf",
   "metadata": {},
   "outputs": [
    {
     "data": {
      "image/png": "[encoded data removed]",
      "text/plain": [
       "<Figure size 640x480 with 1 Axes>"
      ]
     },
     "metadata": {},
     "output_type": "display_data"
    }
   ],
   "source": [
    "plt.imshow(images[6899].reshape(3,32,32).T.astype(numpy.uint8), interpolation='nearest')\n",
    "plt.show()"
   ]
  },
  {
   "cell_type": "code",
   "execution_count": 131,
   "id": "a77f47ef-ecc2-4396-8e32-a6e0bf84e0ff",
   "metadata": {},
   "outputs": [
    {
     "data": {
      "text/plain": [
       "(3072000,)"
      ]
     },
     "execution_count": 131,
     "metadata": {},
     "output_type": "execute_result"
    }
   ],
   "source": [
    "images1000 = images[:1000].astype(numpy.float32).reshape(3072000)\n",
    "images1000.shape"
   ]
  },
  {
   "cell_type": "code",
   "execution_count": 132,
   "id": "33eceb17-e903-4cfd-97e5-ee2f558493c6",
   "metadata": {},
   "outputs": [
    {
     "data": {
      "text/plain": [
       "(72000,)"
      ]
     },
     "execution_count": 132,
     "metadata": {},
     "output_type": "execute_result"
    }
   ],
   "source": [
    "hash1000 = numpy.zeros([72000]).astype(numpy.float32)\n",
    "hash1000.shape"
   ]
  },
  {
   "cell_type": "code",
   "execution_count": 183,
   "id": "4c9331af-f9e1-45b5-90c0-9fe59ca31c8c",
   "metadata": {},
   "outputs": [
    {
     "data": {
      "text/plain": [
       "(3072,)"
      ]
     },
     "execution_count": 183,
     "metadata": {},
     "output_type": "execute_result"
    }
   ],
   "source": [
    "special_image2 = images[0]\n",
    "special_image2.shape"
   ]
  },
  {
   "cell_type": "code",
   "execution_count": 184,
   "id": "a00de7cf-df2f-433e-9795-1fec9cbcfea6",
   "metadata": {},
   "outputs": [
    {
     "name": "stdout",
     "output_type": "stream",
     "text": [
      "time:  0.25856804847717285\n"
     ]
    }
   ],
   "source": [
    "start = time.time()\n",
    "\n",
    "for i in range(1000):\n",
    "    your_kernel(drv.In(special_image2.astype(numpy.float32)), drv.Out(b), np.int32(1024) , np.int32(8) , np.int32(9), \n",
    "            block=(72,1,1))\n",
    "\n",
    "end = time.time()\n",
    "print( \"time: \", end - start )"
   ]
  },
  {
   "cell_type": "code",
   "execution_count": 185,
   "id": "4ac0541b-e15a-44d6-9398-b9026e44a0b2",
   "metadata": {},
   "outputs": [
    {
     "data": {
      "text/plain": [
       "'dd599776ab5126b2b4'"
      ]
     },
     "execution_count": 185,
     "metadata": {},
     "output_type": "execute_result"
    }
   ],
   "source": [
    "arrayToHexString(b) "
   ]
  },
  {
   "cell_type": "code",
   "execution_count": null,
   "id": "b1bf74a8-fa98-4ba8-a0c4-37aa0572a477",
   "metadata": {},
   "outputs": [],
   "source": []
  },
  {
   "cell_type": "code",
   "execution_count": 180,
   "id": "81db97c1-7fa0-428c-8c94-60ded2b24c77",
   "metadata": {},
   "outputs": [
    {
     "name": "stdout",
     "output_type": "stream",
     "text": [
      "time:  0.004638195037841797\n"
     ]
    }
   ],
   "source": [
    "start = time.time()\n",
    "\n",
    "your_kernel_1000_images(drv.In(images1000), drv.Out(hash1000), np.int32(1024) , np.int32(8) , np.int32(9), np.int32(1000),\n",
    "            block=(1001,1,1))\n",
    "\n",
    "end = time.time()\n",
    "print( \"time: \", end - start )"
   ]
  },
  {
   "cell_type": "code",
   "execution_count": 181,
   "id": "60f61f49-de0e-4d08-a4eb-fb2603205c13",
   "metadata": {},
   "outputs": [
    {
     "data": {
      "text/plain": [
       "array([0., 1., 0., 1., 0., 0., 1., 0., 1., 0., 1., 0., 1., 0., 0., 1., 0.,\n",
       "       1., 0., 1., 0., 1., 0., 0., 1., 0., 1., 0., 1., 0., 0., 0., 1., 1.,\n",
       "       0., 1., 0., 1., 0., 0., 0., 1., 1., 0., 1., 0., 0., 1., 0., 1., 0.,\n",
       "       1., 0., 1., 0., 1., 1., 0., 1., 0., 1., 0., 1., 0., 1., 1., 0., 1.,\n",
       "       0., 1., 0., 0.], dtype=float32)"
      ]
     },
     "execution_count": 181,
     "metadata": {},
     "output_type": "execute_result"
    }
   ],
   "source": [
    "hash1000[71928:72000]"
   ]
  },
  {
   "cell_type": "code",
   "execution_count": 187,
   "id": "e59ffc56-0f07-4634-8c28-683039820243",
   "metadata": {},
   "outputs": [
    {
     "data": {
      "text/plain": [
       "'dd599776ab5126b2'"
      ]
     },
     "execution_count": 187,
     "metadata": {},
     "output_type": "execute_result"
    }
   ],
   "source": [
    "arrayToHexString(hash1000[0:64]) "
   ]
  },
  {
   "cell_type": "code",
   "execution_count": null,
   "id": "0f3d67c2-673e-47ea-8604-208f36b9710d",
   "metadata": {},
   "outputs": [],
   "source": []
  },
  {
   "cell_type": "code",
   "execution_count": null,
   "id": "e0ce7653-8841-48ba-9c89-177c434578fa",
   "metadata": {},
   "outputs": [],
   "source": []
  },
  {
   "cell_type": "code",
   "execution_count": null,
   "id": "fe08abad-8317-43c0-aa98-a101f525fc6e",
   "metadata": {},
   "outputs": [],
   "source": []
  },
  {
   "cell_type": "code",
   "execution_count": null,
   "id": "0ed1e4cd-e467-42f8-b5e6-7900aba180e0",
   "metadata": {},
   "outputs": [],
   "source": [
    "##"
   ]
  }
 ],
 "metadata": {
  "kernelspec": {
   "display_name": "Python 3 (ipykernel)",
   "language": "python",
   "name": "python3"
  },
  "language_info": {
   "codemirror_mode": {
    "name": "ipython",
    "version": 3
   },
   "file_extension": ".py",
   "mimetype": "text/x-python",
   "name": "python",
   "nbconvert_exporter": "python",
   "pygments_lexer": "ipython3",
   "version": "3.10.12"
  }
 },
 "nbformat": 4,
 "nbformat_minor": 5
}
