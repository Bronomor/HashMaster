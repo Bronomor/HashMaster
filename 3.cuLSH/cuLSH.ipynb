{
 "cells": [
  {
   "cell_type": "markdown",
   "id": "ae83c4f9-9704-43e2-86d1-cd35e6b756ee",
   "metadata": {},
   "source": [
    "## CuLSH"
   ]
  },
  {
   "cell_type": "code",
   "execution_count": 1,
   "id": "026a69be-64c7-4cf2-a849-db5b74bfc399",
   "metadata": {},
   "outputs": [],
   "source": [
    "#!pip install pycuda\n",
    "#https://pypi.org/project/pycuda/\n",
    "#https://documen.tician.de/pycuda/\n",
    "#https://stackoverflow.com/questions/68256354/cuda-c-library-in-python-transfer-gpu-memory-data-from-one-functions-to-ower\n",
    "#https://forums.developer.nvidia.com/t/fast-memcpy-micro-benchmarking-cuda-python-wrapper-multi-gpu-seg-fault/274712"
   ]
  },
  {
   "cell_type": "code",
   "execution_count": null,
   "id": "41850c1e-9a66-4011-b50e-5fa602685897",
   "metadata": {},
   "outputs": [],
   "source": []
  }
 ],
 "metadata": {
  "kernelspec": {
   "display_name": "Python 3 (ipykernel)",
   "language": "python",
   "name": "python3"
  },
  "language_info": {
   "codemirror_mode": {
    "name": "ipython",
    "version": 3
   },
   "file_extension": ".py",
   "mimetype": "text/x-python",
   "name": "python",
   "nbconvert_exporter": "python",
   "pygments_lexer": "ipython3",
   "version": "3.10.12"
  }
 },
 "nbformat": 4,
 "nbformat_minor": 5
}
