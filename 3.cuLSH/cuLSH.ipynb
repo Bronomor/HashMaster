{
 "cells": [
  {
   "cell_type": "markdown",
   "id": "ae83c4f9-9704-43e2-86d1-cd35e6b756ee",
   "metadata": {},
   "source": [
    "## CuLSH"
   ]
  },
  {
   "cell_type": "code",
   "execution_count": 4,
   "id": "026a69be-64c7-4cf2-a849-db5b74bfc399",
   "metadata": {},
   "outputs": [],
   "source": [
    "#!pip install pycuda\n",
    "#https://pypi.org/project/pycuda/\n",
    "#https://documen.tician.de/pycuda/\n",
    "#https://stackoverflow.com/questions/68256354/cuda-c-library-in-python-transfer-gpu-memory-data-from-one-functions-to-ower\n",
    "#https://forums.developer.nvidia.com/t/fast-memcpy-micro-benchmarking-cuda-python-wrapper-multi-gpu-seg-fault/274712"
   ]
  },
  {
   "cell_type": "code",
   "execution_count": 5,
   "id": "41850c1e-9a66-4011-b50e-5fa602685897",
   "metadata": {},
   "outputs": [],
   "source": [
    "# backup\n",
    "#https://www.cv-foundation.org/openaccess/content_cvpr_2016/papers/Liu_Deep_Supervised_Hashing_CVPR_2016_paper.pdf\n",
    "#https://github.com/thuml/HashNet/tree/master\n",
    "#https://github.com/flyingpot/pytorch_deephash\n",
    "#https://github.com/weixu000/DSH-pytorch/blob/master/utils.py\n",
    "#https://github.com/swuxyj/DeepHash-pytorch?tab=readme-ov-file\n",
    "#https://github.com/dansuh17/deep-supervised-hashing\n",
    "#https://github.com/inducer/pycuda/blob/main/examples/demo_elementwise.py"
   ]
  },
  {
   "cell_type": "code",
   "execution_count": 6,
   "id": "7b976a80-b954-4bde-a4f8-12f70eca5930",
   "metadata": {},
   "outputs": [],
   "source": [
    "#Hash on gpu\n",
    "#https://docs.rapids.ai/api/libcudf/stable/group__nvtext__minhash\n",
    "\n",
    "\n",
    "#https://on-demand.gputechconf.com/gtc/2015/presentation/S5796-Peter-Andreas-Entschev.pdf\n",
    "#https://www.hackerfactor.com/blog/index.php?/archives/432-Looks-Like-It.html\n",
    "#http://www.phash.org/\n"
   ]
  },
  {
   "cell_type": "code",
   "execution_count": 7,
   "id": "2ae72577-2817-4c6c-8c23-ef2c9e3b5c75",
   "metadata": {},
   "outputs": [
    {
     "name": "stdout",
     "output_type": "stream",
     "text": [
      "[ 0.06422433 -0.4624154  -0.51955783  0.05261678 -0.8578046   1.7897247\n",
      " -0.23895487  0.22889704 -0.24606426 -0.7221408  -0.5455345   1.2819496\n",
      "  0.5091082   0.570859    1.8676077   0.3823664   1.0060452  -0.375391\n",
      " -0.43617663 -0.07884419]\n",
      "[-0.04441341 -0.33937138  0.44411165  1.0660666  -1.1826115  -1.9595382\n",
      " -0.13691556 -0.4772159   0.46913752 -1.2656679  -0.13791351  1.408592\n",
      " -0.46110204  0.9645728  -1.242451    1.0980163   0.3914974  -1.2721286\n",
      "  0.47762454 -0.05274221]\n",
      "[0. 0. 0. 0. 0. 0. 0. 0. 0. 0. 0. 0. 0. 0. 0. 0. 0. 0. 0. 0.]\n"
     ]
    }
   ],
   "source": [
    "import pycuda.autoinit\n",
    "import pycuda.driver as drv\n",
    "import numpy\n",
    "\n",
    "from pycuda.compiler import SourceModule\n",
    "mod = SourceModule(\"\"\"\n",
    "__global__ void multiply_them(float *dest, float *a, float *b)\n",
    "{\n",
    "  const int i = threadIdx.x;\n",
    "  dest[i] = a[i] * b[i];\n",
    "}\n",
    "\"\"\")\n",
    "\n",
    "multiply_them = mod.get_function(\"multiply_them\")\n",
    "\n",
    "a = numpy.random.randn(20).astype(numpy.float32)\n",
    "b = numpy.random.randn(20).astype(numpy.float32)\n",
    "\n",
    "\n",
    "print(a)\n",
    "print(b)\n",
    "dest = numpy.zeros_like(a)\n",
    "multiply_them(\n",
    "        drv.Out(dest), drv.In(a), drv.In(b),\n",
    "        block=(400,1,1), grid=(1,1))\n",
    "\n",
    "print(dest-a*b)"
   ]
  },
  {
   "cell_type": "markdown",
   "id": "2bafaa34-f191-4ad3-afba-2e74c0ff5d5e",
   "metadata": {},
   "source": [
    "### 1. Load Cifar"
   ]
  },
  {
   "cell_type": "code",
   "execution_count": 8,
   "id": "360c5030-264f-4533-860c-fc962b486e42",
   "metadata": {},
   "outputs": [],
   "source": [
    "import os\n",
    "import _pickle as cPickle\n",
    "import numpy as np\n",
    "\n",
    "PATH = \"../data/cifar-10-batches-py/\""
   ]
  },
  {
   "cell_type": "code",
   "execution_count": 9,
   "id": "fb8eaf24-6c12-487e-ae63-e149360f40ce",
   "metadata": {},
   "outputs": [],
   "source": [
    "def load_batch():\n",
    "    file = 'data_batch_1'\n",
    "\n",
    "    f = open(PATH+file, 'rb')\n",
    "    dict_ = cPickle.load(f, encoding='latin1')\n",
    "    images = dict_['data']\n",
    "    #images = np.reshape(images, (10000, 3, 32, 32))\n",
    "    labels = dict_['labels']\n",
    "    imagearray = np.array(images)   #   (10000, 3072)\n",
    "    labelarray = np.array(labels)   #   (10000,)\n",
    "    \n",
    "    return imagearray, labelarray"
   ]
  },
  {
   "cell_type": "code",
   "execution_count": 10,
   "id": "f8abba74-90a2-41a9-b29c-de6040024957",
   "metadata": {},
   "outputs": [
    {
     "name": "stdout",
     "output_type": "stream",
     "text": [
      "0 : airplane  \n",
      "1 : automobile  \n",
      "2 : bird  \n",
      "3 : cat  \n",
      "4 : deer  \n",
      "5 : dog  \n",
      "6 : frog  \n",
      "7 : horse  \n",
      "8 : ship  \n",
      "9 : truck  \n"
     ]
    }
   ],
   "source": [
    "def load_classes():\n",
    "    file = 'batches.meta'\n",
    "    \n",
    "    f = open(PATH+file, 'rb')\n",
    "    dict = cPickle.load(f)\n",
    "    return dict['label_names']\n",
    "\n",
    "def print_classes(label_names):\n",
    "    for i in range(0, 10):\n",
    "        print(str(i) + \" : \" + label_names[i] + \"  \")\n",
    "\n",
    "label_names = load_classes()\n",
    "print_classes(label_names)"
   ]
  },
  {
   "cell_type": "code",
   "execution_count": 11,
   "id": "86e97d7e-c671-4228-b7d9-e17ad98b4dcf",
   "metadata": {},
   "outputs": [],
   "source": [
    "images, labels = load_batch()"
   ]
  },
  {
   "cell_type": "code",
   "execution_count": 12,
   "id": "89efc6cf-6774-47a5-a280-27f7da1e086b",
   "metadata": {},
   "outputs": [],
   "source": [
    "special_image = images[0]"
   ]
  },
  {
   "cell_type": "code",
   "execution_count": 13,
   "id": "5f29c30e-cef8-4dcc-9a56-d25a4e97f4aa",
   "metadata": {},
   "outputs": [],
   "source": [
    "special_image2 = special_image\n",
    "special_image = np.reshape(special_image, (3, 32, 32)).T"
   ]
  },
  {
   "cell_type": "code",
   "execution_count": 14,
   "id": "353c5577-b815-4b6d-ab43-f6b274cfcb44",
   "metadata": {},
   "outputs": [
    {
     "data": {
      "text/plain": [
       "(32, 32, 3)"
      ]
     },
     "execution_count": 14,
     "metadata": {},
     "output_type": "execute_result"
    }
   ],
   "source": [
    "special_image.shape"
   ]
  },
  {
   "cell_type": "markdown",
   "id": "933e35f7-c71d-4420-bda0-5d7af0a827b1",
   "metadata": {},
   "source": [
    "### 1.2 Load ImageNet"
   ]
  },
  {
   "cell_type": "code",
   "execution_count": 15,
   "id": "9765fbdd-4732-4126-bf0a-75b1924caff6",
   "metadata": {},
   "outputs": [],
   "source": [
    "#https://patrykchrabaszcz.github.io/Imagenet32/\n",
    "# 1 281 167 training images from 1000 classes and 50 000 validation images with 50 images per class."
   ]
  },
  {
   "cell_type": "code",
   "execution_count": 16,
   "id": "5a6c5e39-a550-4b23-9eef-276d71219a48",
   "metadata": {},
   "outputs": [
    {
     "name": "stdout",
     "output_type": "stream",
     "text": [
      "Collecting git+https://github.com/nottombrown/imagenet_stubs\n",
      "  Cloning https://github.com/nottombrown/imagenet_stubs to /tmp/pip-req-build-bjfvrgmx\n",
      "  Running command git clone --filter=blob:none --quiet https://github.com/nottombrown/imagenet_stubs /tmp/pip-req-build-bjfvrgmx\n",
      "  Resolved https://github.com/nottombrown/imagenet_stubs to commit 0b501276f54cbf45b8e1b67dccbdcbe51de88365\n",
      "  Preparing metadata (setup.py) ... \u001b[?25ldone\n",
      "\u001b[33mWARNING: Running pip as the 'root' user can result in broken permissions and conflicting behaviour with the system package manager. It is recommended to use a virtual environment instead: https://pip.pypa.io/warnings/venv\u001b[0m\u001b[33m\n",
      "\u001b[0m\u001b[?25h"
     ]
    }
   ],
   "source": [
    "!pip install git+https://github.com/nottombrown/imagenet_stubs"
   ]
  },
  {
   "cell_type": "code",
   "execution_count": 17,
   "id": "185ea155-baa3-40d5-9b4f-b6e0dd1b997d",
   "metadata": {},
   "outputs": [
    {
     "name": "stdout",
     "output_type": "stream",
     "text": [
      "tench, Tinca tinca\n"
     ]
    }
   ],
   "source": [
    "# https://gist.github.com/yrevar/942d3a0ac09ec9e5eb3a\n",
    "\n",
    "import imagenet_stubs\n",
    "from imagenet_stubs.imagenet_2012_labels import label_to_name\n",
    "print(label_to_name(0))"
   ]
  },
  {
   "cell_type": "code",
   "execution_count": 18,
   "id": "dbcef929-994c-4fa5-9387-1c41f696b03e",
   "metadata": {},
   "outputs": [],
   "source": [
    "IMAGENET_PATH = \"../data/Imagenet32_train/\""
   ]
  },
  {
   "cell_type": "code",
   "execution_count": 19,
   "id": "4665f60e-9a91-4de6-bc98-be8f050c29a0",
   "metadata": {},
   "outputs": [],
   "source": [
    "def unpickle(file):\n",
    "    with open(file, 'rb') as fo:\n",
    "        dict = cPickle.load(fo)\n",
    "    return dict"
   ]
  },
  {
   "cell_type": "code",
   "execution_count": 20,
   "id": "be92184c-14e6-4cd9-953a-5c90c3a273b5",
   "metadata": {},
   "outputs": [],
   "source": [
    "def load_databatch(data_folder, idx, img_size=32):\n",
    "    data_file = os.path.join(data_folder, 'train_data_batch_')\n",
    "\n",
    "    dict_ = unpickle(data_file + str(idx))\n",
    "\n",
    "    images = dict_['data']\n",
    "    labels = dict_['labels']\n",
    "\n",
    "    ## images_without_mean = dict_['mean']   ??? check is there are better results or not\n",
    "\n",
    "    return images, labels"
   ]
  },
  {
   "cell_type": "code",
   "execution_count": 21,
   "id": "ef96065c-7496-4388-86c4-8a70d4f7b6df",
   "metadata": {},
   "outputs": [],
   "source": [
    "images2, labels2 = load_databatch(IMAGENET_PATH, 1)"
   ]
  },
  {
   "cell_type": "code",
   "execution_count": 22,
   "id": "b666910f-97b5-4edd-a293-e5602880bb36",
   "metadata": {},
   "outputs": [
    {
     "data": {
      "text/plain": [
       "(128116, 3072)"
      ]
     },
     "execution_count": 22,
     "metadata": {},
     "output_type": "execute_result"
    }
   ],
   "source": [
    "images2.shape"
   ]
  },
  {
   "cell_type": "code",
   "execution_count": 23,
   "id": "2a88533b-4efc-434c-a3ac-23e496378686",
   "metadata": {},
   "outputs": [
    {
     "data": {
      "text/plain": [
       "128116"
      ]
     },
     "execution_count": 23,
     "metadata": {},
     "output_type": "execute_result"
    }
   ],
   "source": [
    "len(labels2)"
   ]
  },
  {
   "cell_type": "code",
   "execution_count": 24,
   "id": "644eeb8d-a980-4c28-9cb8-0ec0491e02e6",
   "metadata": {},
   "outputs": [],
   "source": [
    "HN_example_image = np.reshape(images2[1], (3, 32, 32)).T"
   ]
  },
  {
   "cell_type": "code",
   "execution_count": 25,
   "id": "15e305a7-28bc-485d-8924-a716a41070c3",
   "metadata": {},
   "outputs": [],
   "source": [
    "HN_exmaple_label = label_to_name(labels2[1])"
   ]
  },
  {
   "cell_type": "code",
   "execution_count": 26,
   "id": "0548aa1e-9a98-46cf-b281-2d80223f5aa9",
   "metadata": {},
   "outputs": [
    {
     "data": {
      "image/png": "[encoded data removed]",
      "text/plain": [
       "<Figure size 640x480 with 1 Axes>"
      ]
     },
     "metadata": {},
     "output_type": "display_data"
    }
   ],
   "source": [
    "from matplotlib import pyplot as plt\n",
    "plt.imshow(HN_example_image, interpolation='nearest')\n",
    "plt.show()"
   ]
  },
  {
   "cell_type": "code",
   "execution_count": 27,
   "id": "2a49660a-a190-4b71-8e03-1b099ed3013c",
   "metadata": {},
   "outputs": [
    {
     "data": {
      "text/plain": [
       "'espresso maker'"
      ]
     },
     "execution_count": 27,
     "metadata": {},
     "output_type": "execute_result"
    }
   ],
   "source": [
    "HN_exmaple_label"
   ]
  },
  {
   "cell_type": "markdown",
   "id": "05dd3ba2-f953-4408-af45-d63f2d9a4e0c",
   "metadata": {},
   "source": [
    "### 2. Preprocesing "
   ]
  },
  {
   "cell_type": "code",
   "execution_count": 28,
   "id": "1f1e5359-4cb4-4091-b0e8-185b0dba2f1f",
   "metadata": {},
   "outputs": [],
   "source": [
    "def scale_image_down_and_gray_1d(image, new_rows, new_cols):\n",
    "\n",
    "    pixels = 1024\n",
    "    newPixels = new_rows * new_cols;\n",
    "    factor = pixels / newPixels;\n",
    "\n",
    "    new_image = np.empty(newPixels, dtype=numpy.uint8)\n",
    "\n",
    "    for idx in range(newPixels):\n",
    "        pixelToTake = int(idx*factor)\n",
    "        \n",
    "        pixel = 0.2989 * image[pixelToTake] \\\n",
    "              + 0.5870 * image[1024+pixelToTake] \\\n",
    "              + 0.1140 * image[2048+pixelToTake]\n",
    "        \n",
    "        new_image[idx] = pixel\n",
    "        \n",
    "    return new_image"
   ]
  },
  {
   "cell_type": "code",
   "execution_count": 29,
   "id": "3a17f6b6-935e-4404-b6d7-78596b9afdec",
   "metadata": {},
   "outputs": [],
   "source": [
    "def scale_image_down_and_gray(np_image, new_rows, new_columns):\n",
    "    \n",
    "    columns = np_image.shape[0]\n",
    "    rows = np_image.shape[1]\n",
    "\n",
    "    factor_columns = columns / new_columns\n",
    "    factor_rows = rows / new_rows\n",
    "\n",
    "    new_image = np.empty([new_columns, new_rows, 1], dtype=numpy.uint8)\n",
    "\n",
    "    print(new_image.shape)\n",
    "    \n",
    "    for row in range(new_rows):\n",
    "        for col in range(new_columns):\n",
    "            new_row = int(row * factor_rows)\n",
    "            new_col = int(col * factor_columns)\n",
    "\n",
    "            pixel = 0.2989 * np_image[new_col][new_row][0] \\\n",
    "                  + 0.5870 * np_image[new_col][new_row][1] \\\n",
    "                  + 0.1140 * np_image[new_col][new_row][2]\n",
    "            \n",
    "            new_image[col][row][0] = pixel\n",
    "    return new_image\n",
    "\n",
    "def scale_image_up(np_image, new_width, new_height):\n",
    "    pass"
   ]
  },
  {
   "cell_type": "code",
   "execution_count": 30,
   "id": "af6dda96-6152-4ebf-84f7-0991b54c9728",
   "metadata": {},
   "outputs": [
    {
     "data": {
      "image/png": "[encoded data removed]",
      "text/plain": [
       "<Figure size 640x480 with 1 Axes>"
      ]
     },
     "metadata": {},
     "output_type": "display_data"
    }
   ],
   "source": [
    "from matplotlib import pyplot as plt\n",
    "plt.imshow(special_image, interpolation='nearest')\n",
    "plt.show()"
   ]
  },
  {
   "cell_type": "code",
   "execution_count": 31,
   "id": "76133d9e-226c-43af-b310-f4b53d0e5052",
   "metadata": {},
   "outputs": [
    {
     "name": "stdout",
     "output_type": "stream",
     "text": [
      "(8, 9, 1)\n"
     ]
    }
   ],
   "source": [
    "down_scaled_image = scale_image_down_and_gray(special_image, 9, 8)"
   ]
  },
  {
   "cell_type": "code",
   "execution_count": 32,
   "id": "e8376a18-fd69-449a-bfca-606886950fd6",
   "metadata": {},
   "outputs": [
    {
     "data": {
      "text/plain": [
       "(8, 9, 1)"
      ]
     },
     "execution_count": 32,
     "metadata": {},
     "output_type": "execute_result"
    }
   ],
   "source": [
    "down_scaled_image.shape"
   ]
  },
  {
   "cell_type": "code",
   "execution_count": 33,
   "id": "a2da6565-73ee-4e8c-9291-c73f5f4d1c3c",
   "metadata": {},
   "outputs": [
    {
     "data": {
      "image/png": "[encoded data removed]",
      "text/plain": [
       "<Figure size 640x480 with 1 Axes>"
      ]
     },
     "metadata": {},
     "output_type": "display_data"
    }
   ],
   "source": [
    "plt.imshow(down_scaled_image, cmap='gray')\n",
    "plt.show()"
   ]
  },
  {
   "cell_type": "code",
   "execution_count": 34,
   "id": "dd994f32-efd8-44b5-816d-59e9454c822e",
   "metadata": {},
   "outputs": [
    {
     "data": {
      "text/plain": [
       "(8, 9, 1)"
      ]
     },
     "execution_count": 34,
     "metadata": {},
     "output_type": "execute_result"
    }
   ],
   "source": [
    "down_scaled_image.shape"
   ]
  },
  {
   "cell_type": "code",
   "execution_count": 35,
   "id": "efcb371d-7108-4efb-9f82-aac53633929f",
   "metadata": {},
   "outputs": [],
   "source": [
    "def bilinear_interpolation(x, y, points):\n",
    "    '''Interpolate (x,y) from values associated with four points.\n",
    "\n",
    "    The four points are a list of four triplets:  (x, y, value).\n",
    "    The four points can be in any order.  They should form a rectangle.\n",
    "\n",
    "        >>> bilinear_interpolation(12, 5.5,\n",
    "        ...                        [(10, 4, 100),\n",
    "        ...                         (20, 4, 200),\n",
    "        ...                         (10, 6, 150),\n",
    "        ...                         (20, 6, 300)])\n",
    "        165.0\n",
    "\n",
    "    '''\n",
    "    # See formula at:  http://en.wikipedia.org/wiki/Bilinear_interpolation\n",
    "\n",
    "    points = sorted(points)               # order points by x, then by y\n",
    "    (x1, y1, q11), (_x1, y2, q12), (x2, _y1, q21), (_x2, _y2, q22) = points\n",
    "\n",
    "    if x1 != _x1 or x2 != _x2 or y1 != _y1 or y2 != _y2:\n",
    "        raise ValueError('points do not form a rectangle')\n",
    "    if not x1 <= x <= x2 or not y1 <= y <= y2:\n",
    "        raise ValueError('(x, y) not within the rectangle')\n",
    "\n",
    "    return (q11 * (x2 - x) * (y2 - y) +\n",
    "            q21 * (x - x1) * (y2 - y) +\n",
    "            q12 * (x2 - x) * (y - y1) +\n",
    "            q22 * (x - x1) * (y - y1)\n",
    "           ) / ((x2 - x1) * (y2 - y1) + 0.0)"
   ]
  },
  {
   "cell_type": "markdown",
   "id": "b0d9179e-90e7-428b-8cfe-039867535a7e",
   "metadata": {},
   "source": [
    "### own kernel to image"
   ]
  },
  {
   "cell_type": "code",
   "execution_count": 36,
   "id": "cfd04a9f-305b-46b4-85e1-9fe6a8ee8922",
   "metadata": {},
   "outputs": [],
   "source": [
    "# article - https://medium.com/@sim30217/bilinear-interpolation-e41fc8b63fb4\n",
    "# Nearest Neighbor - which can result in visible artifacts or jagged edges.\n",
    "# Billinar \n",
    "# Gaussian - https://medium.com/@rohit-krishna/coding-gaussian-blur-operation-from-scratch-in-python-f5a9af0a0c0f\n",
    "# SPline ??? or other common kernel \n",
    "#http://forum.doom9.org/archive/index.php/t-145210.html"
   ]
  },
  {
   "cell_type": "markdown",
   "id": "93e4c8e9-6c3f-4b7e-8f69-cc86836c494a",
   "metadata": {},
   "source": [
    "### Create Hash"
   ]
  },
  {
   "cell_type": "code",
   "execution_count": 37,
   "id": "430b9f7f-38db-4d7f-9906-cc653d614949",
   "metadata": {},
   "outputs": [
    {
     "data": {
      "text/plain": [
       "(8, 9, 1)"
      ]
     },
     "execution_count": 37,
     "metadata": {},
     "output_type": "execute_result"
    }
   ],
   "source": [
    "down_scaled_image.shape"
   ]
  },
  {
   "cell_type": "code",
   "execution_count": 38,
   "id": "be543edd-0991-424a-b5d8-4552ca892ec8",
   "metadata": {},
   "outputs": [],
   "source": [
    "def comp_difference(image_2d):\n",
    "    sequence = \"\"\n",
    "\n",
    "    rows = image_2d.shape[0]\n",
    "    cols = image_2d.shape[1]\n",
    "\n",
    "    print( rows, cols)\n",
    "    for row in range(rows):\n",
    "        for col in range(1, cols):\n",
    "            if image_2d[row][col-1] < image_2d[row][col]:\n",
    "                sequence += '1'\n",
    "            else:\n",
    "                sequence += '0'\n",
    "\n",
    "    print(sequence)"
   ]
  },
  {
   "cell_type": "code",
   "execution_count": 39,
   "id": "c706d4d2-b30e-4311-a551-e658fbbcd0b5",
   "metadata": {},
   "outputs": [
    {
     "name": "stdout",
     "output_type": "stream",
     "text": [
      "8 9\n",
      "0110001111100011011010000011101001010000001100100101100100101001\n"
     ]
    }
   ],
   "source": [
    "comp_difference(down_scaled_image) # 63E3683A50325929"
   ]
  },
  {
   "cell_type": "code",
   "execution_count": 40,
   "id": "664fb6a8-fc44-4589-a520-546522bf0b4a",
   "metadata": {},
   "outputs": [],
   "source": [
    "diff = down_scaled_image[:, 1:] > down_scaled_image[:, :-1] # 63E3683A50325929"
   ]
  },
  {
   "cell_type": "code",
   "execution_count": 41,
   "id": "8e901338-4314-484f-9d21-5b54bf21950b",
   "metadata": {},
   "outputs": [
    {
     "name": "stdout",
     "output_type": "stream",
     "text": [
      "[0 1 1 0 0 0 1 1 1 1 1 0 0 0 1 1 0 1 1 0 1 0 0 0 0 0 1 1 1 0 1 0 0 1 0 1 0\n",
      " 0 0 0 0 0 1 1 0 0 1 0 0 1 0 1 1 0 0 1 0 0 1 0 1 0 0 1]\n"
     ]
    }
   ],
   "source": [
    "print(diff.flatten().astype(int))"
   ]
  },
  {
   "cell_type": "markdown",
   "id": "25d88671-847f-4da8-b75d-e40d1727298b",
   "metadata": {},
   "source": [
    "#### GPU-kernel convertion"
   ]
  },
  {
   "cell_type": "code",
   "execution_count": 42,
   "id": "5d61cc6c-fa3f-4998-bca9-1481e75ec299",
   "metadata": {},
   "outputs": [],
   "source": [
    "#https://stackoverflow.com/questions/5029920/how-to-use-2d-arrays-in-cuda\n",
    "#https://github.com/royinx/CUDA_Resize"
   ]
  },
  {
   "cell_type": "code",
   "execution_count": 43,
   "id": "96fe7438-7a59-43ef-add6-7c833f2c60c6",
   "metadata": {},
   "outputs": [],
   "source": [
    "import pycuda.autoinit\n",
    "import pycuda.driver as drv\n",
    "import numpy\n",
    "\n",
    "from pycuda.compiler import SourceModule"
   ]
  },
  {
   "cell_type": "code",
   "execution_count": 44,
   "id": "75718f68-8f4c-4b9e-a91e-083d54b61310",
   "metadata": {},
   "outputs": [
    {
     "data": {
      "text/plain": [
       "'\\nmod = SourceModule(\"\"\"\\n__global__ void ResizeAndGrayOneImage2D(float imageR[32][32], float hash[9][9], int rows, int columns, int new_rows, int new_cols)\\n{\\n    int row = blockDim.y * blockIdx.y + threadIdx.y;\\n    int col = blockDim.x * blockIdx.x + threadIdx.x;\\n    \\n    if( row >= new_rows || col >= new_cols ) return;\\n\\n    float factor_columns = columns / new_cols;\\n    float factor_rows = rows / new_rows;\\n\\n    int new_row = row * factor_rows;\\n    int new_col = col * factor_columns;\\n\\n    auto pixel = 0.2989 * imageR[new_col][new_row] + 0.5870 * imageR[new_col][new_row] + 0.1140 * imageR[new_col][new_row];\\n               \\n    hash[col][row] = pixel;\\n}\\n\\n\"\"\")\\n\\nyour_kernel_2D = mod.get_function(\"ResizeAndGrayOneImage2D\")\\n\\n'"
      ]
     },
     "execution_count": 44,
     "metadata": {},
     "output_type": "execute_result"
    }
   ],
   "source": [
    "'''\n",
    "mod = SourceModule(\"\"\"\n",
    "__global__ void ResizeAndGrayOneImage2D(float imageR[32][32], float hash[9][9], int rows, int columns, int new_rows, int new_cols)\n",
    "{\n",
    "    int row = blockDim.y * blockIdx.y + threadIdx.y;\n",
    "    int col = blockDim.x * blockIdx.x + threadIdx.x;\n",
    "    \n",
    "    if( row >= new_rows || col >= new_cols ) return;\n",
    "\n",
    "    float factor_columns = columns / new_cols;\n",
    "    float factor_rows = rows / new_rows;\n",
    "\n",
    "    int new_row = row * factor_rows;\n",
    "    int new_col = col * factor_columns;\n",
    "\n",
    "    auto pixel = 0.2989 * imageR[new_col][new_row] + 0.5870 * imageR[new_col][new_row] + 0.1140 * imageR[new_col][new_row];\n",
    "               \n",
    "    hash[col][row] = pixel;\n",
    "}\n",
    "\n",
    "\"\"\")\n",
    "\n",
    "your_kernel_2D = mod.get_function(\"ResizeAndGrayOneImage2D\")\n",
    "\n",
    "'''"
   ]
  },
  {
   "cell_type": "code",
   "execution_count": 45,
   "id": "eef45769-5518-413d-8357-85ae6a21d227",
   "metadata": {},
   "outputs": [],
   "source": [
    "### PyCUDA error - working properly only for floats\n",
    "### LogicError - not know why, po prostu tak sobie wyskoczył\n",
    "\n",
    "mod = SourceModule(\"\"\"\n",
    "\n",
    "__global__ void ResizeAndGrayOneImage(float* image, float* hash, int pixels, int new_rows, int new_cols)\n",
    "{\n",
    "    extern __shared__ int pixelsValues[72];\n",
    "\n",
    "    int idx         = threadIdx.x + blockIdx.x * blockDim.x;\n",
    "    float newPixels = new_rows * new_cols;\n",
    "    \n",
    "    if (idx >= newPixels) return;\n",
    "\n",
    "    float factor           = pixels / newPixels;\n",
    "    const auto pixelToTake = (int)(idx*factor);\n",
    "\n",
    "\n",
    "    auto pixel = 0.2989 * image[pixelToTake] + 0.5870 * image[1024+pixelToTake] + 0.1140 * image[2048+pixelToTake];\n",
    "\n",
    "    pixelsValues[idx] = pixel;\n",
    "\n",
    "    __syncthreads();\n",
    "    \n",
    "    if(idx == 0) return;\n",
    "\n",
    "    pixelsValues[idx-1] < pixelsValues[idx] ? hash[idx-1] = 1 : hash[idx-1] = 0;    \n",
    "}\n",
    "\n",
    "\"\"\")\n",
    "\n",
    "your_kernel = mod.get_function(\"ResizeAndGrayOneImage\")"
   ]
  },
  {
   "cell_type": "code",
   "execution_count": 107,
   "id": "be446df1-20b8-43be-9761-a07db5adb53c",
   "metadata": {},
   "outputs": [],
   "source": [
    "def arrayToHexString(imageHashArray):\n",
    "    hash_ = \"\"\n",
    "\n",
    "    tmp_imageHashArray = imageHashArray.astype(numpy.uint8)\n",
    "    \n",
    "    for i in range(0, imageHashArray.shape[0], 4):\n",
    "        tmp = str(tmp_imageHashArray[i]) + str(tmp_imageHashArray[i+1]) + str(tmp_imageHashArray[i+2]) + str(tmp_imageHashArray[i+3])\n",
    "        \n",
    "        hash_ += hex(int(tmp, 2))[2:]\n",
    "\n",
    "    return hash_"
   ]
  },
  {
   "cell_type": "code",
   "execution_count": 108,
   "id": "31de4b57-02ae-4e6d-88d3-e676a0bca853",
   "metadata": {},
   "outputs": [
    {
     "data": {
      "text/plain": [
       "(3072,)"
      ]
     },
     "execution_count": 108,
     "metadata": {},
     "output_type": "execute_result"
    }
   ],
   "source": [
    "special_image2.shape"
   ]
  },
  {
   "cell_type": "code",
   "execution_count": 109,
   "id": "bb0ac6c8-fbb8-4061-9465-585b0e06560d",
   "metadata": {},
   "outputs": [
    {
     "data": {
      "text/plain": [
       "dtype('float32')"
      ]
     },
     "execution_count": 109,
     "metadata": {},
     "output_type": "execute_result"
    }
   ],
   "source": [
    "b = numpy.zeros(72).astype(numpy.float32)\n",
    "b.dtype"
   ]
  },
  {
   "cell_type": "code",
   "execution_count": 110,
   "id": "faebd316-2f36-4414-9b1b-73647ff7c643",
   "metadata": {},
   "outputs": [],
   "source": [
    "# max threads = 1024\n",
    "# max blocks = 65535\n",
    "\n",
    "your_kernel(drv.In(special_image2.astype(numpy.float32)), drv.Out(b), np.int32(1024) , np.int32(8) , np.int32(9), \n",
    "            block=(72,1,1))"
   ]
  },
  {
   "cell_type": "code",
   "execution_count": 111,
   "id": "beba89cd-9199-4a8a-8054-9ab668ee3870",
   "metadata": {},
   "outputs": [
    {
     "data": {
      "text/plain": [
       "'dd599776ab5126b2b4'"
      ]
     },
     "execution_count": 111,
     "metadata": {},
     "output_type": "execute_result"
    }
   ],
   "source": [
    "arrayToHexString(b) # 63E3683A50325929"
   ]
  },
  {
   "cell_type": "code",
   "execution_count": 52,
   "id": "4332fb48-b505-4dfd-be6b-2871bd4b6ffc",
   "metadata": {},
   "outputs": [
    {
     "data": {
      "text/plain": [
       "array([[ 61.2111, 111.5903, 135.3922,  76.9914,  86.7579,  89.6589,\n",
       "        101.7779,  71.8564,  84.2573],\n",
       "       [ 36.123 ,  86.3989,  73.7637,  88.7577, 107.204 ,  83.1389,\n",
       "         56.7852, 104.827 , 146.2531],\n",
       "       [107.4013,  32.2266,  95.6753,  65.541 ,  70.8179, 107.4506,\n",
       "        140.1145, 103.5605, 107.6742],\n",
       "       [119.7528, 176.1789, 101.1416, 117.2405, 126.0529,  75.8605,\n",
       "        210.8225, 108.4523, 249.1095],\n",
       "       [121.0471, 193.898 , 120.317 , 151.7065, 205.9307, 159.6331,\n",
       "        195.1014,  99.7997, 119.2339],\n",
       "       [111.3147,  94.0992,  92.1271, 141.0559, 115.0539, 104.5434,\n",
       "        111.4026, 106.8161, 101.4853],\n",
       "       [115.7811, 169.4058,  94.6247, 128.9154, 112.0111, 113.441 ,\n",
       "        118.0815, 114.2809, 103.5651],\n",
       "       [182.966 ,  97.2129, 157.7524, 102.6361, 108.9298, 135.7767,\n",
       "         93.4215, 151.2942, 123.0021]], dtype=float32)"
      ]
     },
     "execution_count": 52,
     "metadata": {},
     "output_type": "execute_result"
    }
   ],
   "source": [
    "b_respace"
   ]
  },
  {
   "cell_type": "code",
   "execution_count": 53,
   "id": "0585a8ce-7268-485a-a532-ad78851b1282",
   "metadata": {},
   "outputs": [],
   "source": [
    "other_image = scale_image_down_and_gray_1d(special_image2, 9, 8)"
   ]
  },
  {
   "cell_type": "code",
   "execution_count": 54,
   "id": "9b4a76b8-9f4b-4f05-9617-bbea9381eccf",
   "metadata": {},
   "outputs": [
    {
     "data": {
      "text/plain": [
       "array([[ 61, 111, 135,  76,  86,  89, 101,  71,  84],\n",
       "       [ 36,  86,  73,  88, 107,  83,  56, 104, 146],\n",
       "       [107,  32,  95,  65,  70, 107, 140, 103, 107],\n",
       "       [119, 176, 101, 117, 126,  75, 210, 108, 249],\n",
       "       [121, 193, 120, 151, 205, 159, 195,  99, 119],\n",
       "       [111,  94,  92, 141, 115, 104, 111, 106, 101],\n",
       "       [115, 169,  94, 128, 112, 113, 118, 114, 103],\n",
       "       [182,  97, 157, 102, 108, 135,  93, 151, 123]], dtype=uint8)"
      ]
     },
     "execution_count": 54,
     "metadata": {},
     "output_type": "execute_result"
    }
   ],
   "source": [
    "other_image_reshaped = np.reshape(other_image, (8, 9))\n",
    "other_image_reshaped"
   ]
  },
  {
   "cell_type": "code",
   "execution_count": 55,
   "id": "6689d2d6-cb6f-4ecc-a720-ed0ef35c8537",
   "metadata": {},
   "outputs": [
    {
     "data": {
      "image/png": "[encoded data removed]",
      "text/plain": [
       "<Figure size 640x480 with 1 Axes>"
      ]
     },
     "metadata": {},
     "output_type": "display_data"
    }
   ],
   "source": [
    "plt.imshow(other_image_reshaped, cmap='gray')\n",
    "plt.show()"
   ]
  },
  {
   "cell_type": "code",
   "execution_count": 63,
   "id": "d22e7570-1a1d-4ee8-9fe7-b8fa0dfa29bb",
   "metadata": {},
   "outputs": [],
   "source": [
    "#comp_difference() # 63E3683A50325929"
   ]
  },
  {
   "cell_type": "code",
   "execution_count": 57,
   "id": "240bc000-c9c2-4963-a483-3677dacff949",
   "metadata": {},
   "outputs": [],
   "source": [
    "special_image3 = special_image2[:1024]"
   ]
  },
  {
   "cell_type": "code",
   "execution_count": 58,
   "id": "8de455d4-d0b3-44e3-bb0b-c2d4ac26198e",
   "metadata": {},
   "outputs": [
    {
     "data": {
      "text/plain": [
       "(1024,)"
      ]
     },
     "execution_count": 58,
     "metadata": {},
     "output_type": "execute_result"
    }
   ],
   "source": [
    "special_image3.shape"
   ]
  },
  {
   "cell_type": "code",
   "execution_count": 59,
   "id": "0adcd946-8144-41d2-9dc9-252d92d0ceae",
   "metadata": {},
   "outputs": [
    {
     "data": {
      "image/png": "[encoded data removed]",
      "text/plain": [
       "<Figure size 640x480 with 1 Axes>"
      ]
     },
     "metadata": {},
     "output_type": "display_data"
    }
   ],
   "source": [
    "plt.imshow(np.reshape(special_image3, (32, 32)))\n",
    "plt.show()"
   ]
  },
  {
   "cell_type": "markdown",
   "id": "54ddd934-722e-4b86-bef9-a8f55dabc72b",
   "metadata": {},
   "source": [
    "### 2D"
   ]
  },
  {
   "cell_type": "code",
   "execution_count": 13,
   "id": "f43c0c6b-fcbd-48a8-b95b-9f9534c5aca8",
   "metadata": {},
   "outputs": [
    {
     "data": {
      "text/plain": [
       "(32, 32)"
      ]
     },
     "execution_count": 13,
     "metadata": {},
     "output_type": "execute_result"
    }
   ],
   "source": [
    "in_image = special_image2.reshape([3,32,32]).astype(numpy.float32).T\n",
    "in_image.shape\n",
    "in_image[:,:,0].shape"
   ]
  },
  {
   "cell_type": "code",
   "execution_count": 14,
   "id": "c9f2a19a-71a1-440d-bab1-166002836fcb",
   "metadata": {},
   "outputs": [
    {
     "data": {
      "text/plain": [
       "(8, 9)"
      ]
     },
     "execution_count": 14,
     "metadata": {},
     "output_type": "execute_result"
    }
   ],
   "source": [
    "out_image = numpy.zeros([8,9]).astype(numpy.float32)\n",
    "out_image.shape"
   ]
  },
  {
   "cell_type": "code",
   "execution_count": 15,
   "id": "f39457f8-d109-4337-bea1-33c6e2d6b817",
   "metadata": {},
   "outputs": [
    {
     "ename": "LogicError",
     "evalue": "cuCtxSynchronize failed: an illegal memory access was encountered",
     "output_type": "error",
     "traceback": [
      "\u001b[0;31m---------------------------------------------------------------------------\u001b[0m",
      "\u001b[0;31mLogicError\u001b[0m                                Traceback (most recent call last)",
      "Cell \u001b[0;32mIn[15], line 4\u001b[0m\n\u001b[1;32m      1\u001b[0m \u001b[38;5;66;03m# max threads = 1024\u001b[39;00m\n\u001b[1;32m      2\u001b[0m \u001b[38;5;66;03m# max blocks = 65535\u001b[39;00m\n\u001b[0;32m----> 4\u001b[0m \u001b[43myour_kernel_2D\u001b[49m\u001b[43m(\u001b[49m\u001b[43mdrv\u001b[49m\u001b[38;5;241;43m.\u001b[39;49m\u001b[43mIn\u001b[49m\u001b[43m(\u001b[49m\u001b[43min_image\u001b[49m\u001b[43m[\u001b[49m\u001b[43m:\u001b[49m\u001b[43m,\u001b[49m\u001b[43m:\u001b[49m\u001b[43m,\u001b[49m\u001b[38;5;241;43m0\u001b[39;49m\u001b[43m]\u001b[49m\u001b[43m)\u001b[49m\u001b[43m,\u001b[49m\u001b[43m \u001b[49m\u001b[43mdrv\u001b[49m\u001b[38;5;241;43m.\u001b[39;49m\u001b[43mOut\u001b[49m\u001b[43m(\u001b[49m\u001b[43mout_image\u001b[49m\u001b[43m)\u001b[49m\u001b[43m,\u001b[49m\u001b[43m \u001b[49m\u001b[43mnp\u001b[49m\u001b[38;5;241;43m.\u001b[39;49m\u001b[43mint32\u001b[49m\u001b[43m(\u001b[49m\u001b[38;5;241;43m32\u001b[39;49m\u001b[43m)\u001b[49m\u001b[43m,\u001b[49m\u001b[43m \u001b[49m\u001b[43mnp\u001b[49m\u001b[38;5;241;43m.\u001b[39;49m\u001b[43mint32\u001b[49m\u001b[43m(\u001b[49m\u001b[38;5;241;43m32\u001b[39;49m\u001b[43m)\u001b[49m\u001b[43m \u001b[49m\u001b[43m,\u001b[49m\u001b[43m \u001b[49m\u001b[43mnp\u001b[49m\u001b[38;5;241;43m.\u001b[39;49m\u001b[43mint32\u001b[49m\u001b[43m(\u001b[49m\u001b[38;5;241;43m8\u001b[39;49m\u001b[43m)\u001b[49m\u001b[43m \u001b[49m\u001b[43m,\u001b[49m\u001b[43m \u001b[49m\u001b[43mnp\u001b[49m\u001b[38;5;241;43m.\u001b[39;49m\u001b[43mint32\u001b[49m\u001b[43m(\u001b[49m\u001b[38;5;241;43m9\u001b[39;49m\u001b[43m)\u001b[49m\u001b[43m,\u001b[49m\u001b[43m \u001b[49m\n\u001b[1;32m      5\u001b[0m \u001b[43m            \u001b[49m\u001b[43mblock\u001b[49m\u001b[38;5;241;43m=\u001b[39;49m\u001b[43m(\u001b[49m\u001b[38;5;241;43m8\u001b[39;49m\u001b[43m,\u001b[49m\u001b[38;5;241;43m9\u001b[39;49m\u001b[43m,\u001b[49m\u001b[38;5;241;43m1\u001b[39;49m\u001b[43m)\u001b[49m\u001b[43m,\u001b[49m\u001b[43m \u001b[49m\u001b[43mgrid\u001b[49m\u001b[38;5;241;43m=\u001b[39;49m\u001b[43m(\u001b[49m\u001b[38;5;241;43m1\u001b[39;49m\u001b[43m,\u001b[49m\u001b[38;5;241;43m1\u001b[39;49m\u001b[43m)\u001b[49m\u001b[43m)\u001b[49m\n\u001b[1;32m      7\u001b[0m \u001b[38;5;66;03m#np.set_printoptions(suppress = False)\u001b[39;00m\n\u001b[1;32m      8\u001b[0m out_image_res \u001b[38;5;241m=\u001b[39m np\u001b[38;5;241m.\u001b[39mreshape(out_image, (\u001b[38;5;241m8\u001b[39m, \u001b[38;5;241m9\u001b[39m))\n",
      "File \u001b[0;32m/usr/local/lib/python3.10/dist-packages/pycuda/driver.py:505\u001b[0m, in \u001b[0;36m_add_functionality.<locals>.function_call\u001b[0;34m(func, *args, **kwargs)\u001b[0m\n\u001b[1;32m    502\u001b[0m func\u001b[38;5;241m.\u001b[39m_launch_kernel(grid, block, arg_buf, shared, \u001b[38;5;28;01mNone\u001b[39;00m)\n\u001b[1;32m    504\u001b[0m \u001b[38;5;28;01mif\u001b[39;00m post_handlers \u001b[38;5;129;01mor\u001b[39;00m time_kernel:\n\u001b[0;32m--> 505\u001b[0m     \u001b[43mContext\u001b[49m\u001b[38;5;241;43m.\u001b[39;49m\u001b[43msynchronize\u001b[49m\u001b[43m(\u001b[49m\u001b[43m)\u001b[49m\n\u001b[1;32m    507\u001b[0m     \u001b[38;5;28;01mif\u001b[39;00m time_kernel:\n\u001b[1;32m    508\u001b[0m         run_time \u001b[38;5;241m=\u001b[39m time() \u001b[38;5;241m-\u001b[39m start_time\n",
      "\u001b[0;31mLogicError\u001b[0m: cuCtxSynchronize failed: an illegal memory access was encountered"
     ]
    }
   ],
   "source": [
    "# max threads = 1024\n",
    "# max blocks = 65535\n",
    "\n",
    "your_kernel_2D(drv.In(in_image[:,:,0]), drv.Out(out_image), np.int32(32), np.int32(32) , np.int32(8) , np.int32(9), \n",
    "            block=(8,9,1), grid=(1,1))\n",
    "\n",
    "#np.set_printoptions(suppress = False)\n",
    "out_image_res = np.reshape(out_image, (8, 9))\n",
    "out_image_res.shape"
   ]
  },
  {
   "cell_type": "code",
   "execution_count": 67,
   "id": "e452ecec-cdfd-4b06-bc50-25c7583fd0c1",
   "metadata": {},
   "outputs": [
    {
     "data": {
      "image/png": "[encoded data removed]",
      "text/plain": [
       "<Figure size 640x480 with 1 Axes>"
      ]
     },
     "metadata": {},
     "output_type": "display_data"
    }
   ],
   "source": [
    "plt.imshow(out_image_res, cmap='gray')\n",
    "plt.show()"
   ]
  },
  {
   "cell_type": "code",
   "execution_count": null,
   "id": "7ea5f08c-28c3-4140-b8bf-a779db7738f0",
   "metadata": {},
   "outputs": [],
   "source": []
  },
  {
   "cell_type": "code",
   "execution_count": null,
   "id": "7ffe9f50-773c-4235-b79f-2881d31f565d",
   "metadata": {},
   "outputs": [],
   "source": []
  },
  {
   "cell_type": "code",
   "execution_count": null,
   "id": "989e1ecd-a57c-42ec-95f9-49e4cca9f001",
   "metadata": {},
   "outputs": [],
   "source": []
  }
 ],
 "metadata": {
  "kernelspec": {
   "display_name": "Python 3 (ipykernel)",
   "language": "python",
   "name": "python3"
  },
  "language_info": {
   "codemirror_mode": {
    "name": "ipython",
    "version": 3
   },
   "file_extension": ".py",
   "mimetype": "text/x-python",
   "name": "python",
   "nbconvert_exporter": "python",
   "pygments_lexer": "ipython3",
   "version": "3.10.12"
  }
 },
 "nbformat": 4,
 "nbformat_minor": 5
}
