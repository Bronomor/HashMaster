{
 "cells": [
  {
   "cell_type": "markdown",
   "id": "ae83c4f9-9704-43e2-86d1-cd35e6b756ee",
   "metadata": {},
   "source": [
    "## CuLSH"
   ]
  },
  {
   "cell_type": "code",
   "execution_count": 1,
   "id": "026a69be-64c7-4cf2-a849-db5b74bfc399",
   "metadata": {},
   "outputs": [],
   "source": [
    "#!pip install pycuda\n",
    "#https://pypi.org/project/pycuda/\n",
    "#https://documen.tician.de/pycuda/\n",
    "#https://stackoverflow.com/questions/68256354/cuda-c-library-in-python-transfer-gpu-memory-data-from-one-functions-to-ower\n",
    "#https://forums.developer.nvidia.com/t/fast-memcpy-micro-benchmarking-cuda-python-wrapper-multi-gpu-seg-fault/274712"
   ]
  },
  {
   "cell_type": "code",
   "execution_count": 10,
   "id": "41850c1e-9a66-4011-b50e-5fa602685897",
   "metadata": {},
   "outputs": [],
   "source": [
    "# backup\n",
    "#https://www.cv-foundation.org/openaccess/content_cvpr_2016/papers/Liu_Deep_Supervised_Hashing_CVPR_2016_paper.pdf\n",
    "#https://github.com/thuml/HashNet/tree/master\n",
    "#https://github.com/flyingpot/pytorch_deephash\n",
    "#https://github.com/weixu000/DSH-pytorch/blob/master/utils.py\n",
    "#https://github.com/swuxyj/DeepHash-pytorch?tab=readme-ov-file\n",
    "#https://github.com/dansuh17/deep-supervised-hashing\n",
    "#https://github.com/inducer/pycuda/blob/main/examples/demo_elementwise.py"
   ]
  },
  {
   "cell_type": "code",
   "execution_count": 11,
   "id": "7b976a80-b954-4bde-a4f8-12f70eca5930",
   "metadata": {},
   "outputs": [],
   "source": [
    "#Hash on gpu\n",
    "#https://docs.rapids.ai/api/libcudf/stable/group__nvtext__minhash\n",
    "\n",
    "\n",
    "#https://on-demand.gputechconf.com/gtc/2015/presentation/S5796-Peter-Andreas-Entschev.pdf\n",
    "#https://www.hackerfactor.com/blog/index.php?/archives/432-Looks-Like-It.html\n",
    "#http://www.phash.org/\n"
   ]
  },
  {
   "cell_type": "code",
   "execution_count": 1,
   "id": "2ae72577-2817-4c6c-8c23-ef2c9e3b5c75",
   "metadata": {},
   "outputs": [
    {
     "name": "stdout",
     "output_type": "stream",
     "text": [
      "[-0.8100255  -0.01414014  0.5225501  -0.12430553 -1.2071519  -0.02677498\n",
      " -2.1725597  -0.00758595  0.43171266 -0.98019135 -1.0585554  -0.16486582\n",
      "  0.14446566 -1.8081325   0.25928038 -0.26264107 -0.1574377  -1.540724\n",
      "  0.7348782  -0.46492755]\n",
      "[ 0.894133   -1.5382648  -1.9045494   1.4757626   0.10467634 -1.2022027\n",
      "  0.9861409   0.73430675  1.5527244  -0.825056    0.07589551 -0.40221387\n",
      "  0.46693218  0.86396796  0.87781686 -0.87351185 -0.38448521  0.22333542\n",
      "  0.19107658  0.12427776]\n",
      "[0. 0. 0. 0. 0. 0. 0. 0. 0. 0. 0. 0. 0. 0. 0. 0. 0. 0. 0. 0.]\n"
     ]
    }
   ],
   "source": [
    "import pycuda.autoinit\n",
    "import pycuda.driver as drv\n",
    "import numpy\n",
    "\n",
    "from pycuda.compiler import SourceModule\n",
    "mod = SourceModule(\"\"\"\n",
    "__global__ void multiply_them(float *dest, float *a, float *b)\n",
    "{\n",
    "  const int i = threadIdx.x;\n",
    "  dest[i] = a[i] * b[i];\n",
    "}\n",
    "\"\"\")\n",
    "\n",
    "multiply_them = mod.get_function(\"multiply_them\")\n",
    "\n",
    "a = numpy.random.randn(20).astype(numpy.float32)\n",
    "b = numpy.random.randn(20).astype(numpy.float32)\n",
    "\n",
    "\n",
    "print(a)\n",
    "print(b)\n",
    "dest = numpy.zeros_like(a)\n",
    "multiply_them(\n",
    "        drv.Out(dest), drv.In(a), drv.In(b),\n",
    "        block=(400,1,1), grid=(1,1))\n",
    "\n",
    "print(dest-a*b)"
   ]
  },
  {
   "cell_type": "markdown",
   "id": "2bafaa34-f191-4ad3-afba-2e74c0ff5d5e",
   "metadata": {},
   "source": [
    "### 1. Load Cifar"
   ]
  },
  {
   "cell_type": "code",
   "execution_count": 8,
   "id": "360c5030-264f-4533-860c-fc962b486e42",
   "metadata": {},
   "outputs": [],
   "source": [
    "import os\n",
    "import _pickle as cPickle\n",
    "import numpy as np\n",
    "\n",
    "PATH = \"../data/cifar-10-batches-py/\""
   ]
  },
  {
   "cell_type": "code",
   "execution_count": 9,
   "id": "fb8eaf24-6c12-487e-ae63-e149360f40ce",
   "metadata": {},
   "outputs": [],
   "source": [
    "def load_batch():\n",
    "    file = 'data_batch_1'\n",
    "\n",
    "    f = open(PATH+file, 'rb')\n",
    "    dict = cPickle.load(f, encoding='latin1')\n",
    "    images = dict['data']\n",
    "    #images = np.reshape(images, (10000, 3, 32, 32))\n",
    "    labels = dict['labels']\n",
    "    imagearray = np.array(images)   #   (10000, 3072)\n",
    "    labelarray = np.array(labels)   #   (10000,)\n",
    "    \n",
    "    return imagearray, labelarray"
   ]
  },
  {
   "cell_type": "code",
   "execution_count": 10,
   "id": "f8abba74-90a2-41a9-b29c-de6040024957",
   "metadata": {},
   "outputs": [
    {
     "name": "stdout",
     "output_type": "stream",
     "text": [
      "0 : airplane  \n",
      "1 : automobile  \n",
      "2 : bird  \n",
      "3 : cat  \n",
      "4 : deer  \n",
      "5 : dog  \n",
      "6 : frog  \n",
      "7 : horse  \n",
      "8 : ship  \n",
      "9 : truck  \n"
     ]
    }
   ],
   "source": [
    "def load_classes():\n",
    "    file = 'batches.meta'\n",
    "    \n",
    "    f = open(PATH+file, 'rb')\n",
    "    dict = cPickle.load(f)\n",
    "    return dict['label_names']\n",
    "\n",
    "def print_classes(label_names):\n",
    "    for i in range(0, 10):\n",
    "        print(str(i) + \" : \" + label_names[i] + \"  \")\n",
    "\n",
    "label_names = load_classes()\n",
    "print_classes(label_names)"
   ]
  },
  {
   "cell_type": "code",
   "execution_count": 11,
   "id": "86e97d7e-c671-4228-b7d9-e17ad98b4dcf",
   "metadata": {},
   "outputs": [],
   "source": [
    "images, labels = load_batch()"
   ]
  },
  {
   "cell_type": "code",
   "execution_count": 32,
   "id": "89efc6cf-6774-47a5-a280-27f7da1e086b",
   "metadata": {},
   "outputs": [],
   "source": [
    "special_image = images[0]"
   ]
  },
  {
   "cell_type": "code",
   "execution_count": 35,
   "id": "5f29c30e-cef8-4dcc-9a56-d25a4e97f4aa",
   "metadata": {},
   "outputs": [],
   "source": [
    "special_image = np.reshape(special_image, (3, 32, 32)).T"
   ]
  },
  {
   "cell_type": "code",
   "execution_count": 36,
   "id": "353c5577-b815-4b6d-ab43-f6b274cfcb44",
   "metadata": {},
   "outputs": [
    {
     "data": {
      "text/plain": [
       "(32, 32, 3)"
      ]
     },
     "execution_count": 36,
     "metadata": {},
     "output_type": "execute_result"
    }
   ],
   "source": [
    "special_image.shape"
   ]
  },
  {
   "cell_type": "code",
   "execution_count": 64,
   "id": "f42a185b-ec26-472f-8abd-64f5c7571214",
   "metadata": {},
   "outputs": [
    {
     "data": {
      "text/plain": [
       "array([[[ 59,  62,  63],\n",
       "        [ 16,  20,  20],\n",
       "        [ 25,  24,  21],\n",
       "        ...,\n",
       "        [208, 170,  96],\n",
       "        [180, 139,  96],\n",
       "        [177, 144, 116]],\n",
       "\n",
       "       [[ 43,  46,  45],\n",
       "        [  0,   0,   0],\n",
       "        [ 16,   7,   0],\n",
       "        ...,\n",
       "        [201, 153,  34],\n",
       "        [173, 123,  42],\n",
       "        [168, 129,  94]],\n",
       "\n",
       "       [[ 50,  48,  43],\n",
       "        [ 18,   8,   0],\n",
       "        [ 49,  27,   8],\n",
       "        ...,\n",
       "        [198, 161,  26],\n",
       "        [186, 144,  30],\n",
       "        [179, 142,  87]],\n",
       "\n",
       "       ...,\n",
       "\n",
       "       [[158, 132, 108],\n",
       "        [123,  88,  55],\n",
       "        [118,  84,  50],\n",
       "        ...,\n",
       "        [160, 133,  70],\n",
       "        [184, 148,  94],\n",
       "        [216, 184, 140]],\n",
       "\n",
       "       [[152, 125, 102],\n",
       "        [119,  83,  50],\n",
       "        [120,  84,  50],\n",
       "        ...,\n",
       "        [ 56,  31,   7],\n",
       "        [ 97,  62,  34],\n",
       "        [151, 118,  84]],\n",
       "\n",
       "       [[148, 124, 103],\n",
       "        [122,  87,  57],\n",
       "        [109,  73,  42],\n",
       "        ...,\n",
       "        [ 53,  34,  20],\n",
       "        [ 83,  53,  34],\n",
       "        [123,  92,  72]]], dtype=uint8)"
      ]
     },
     "execution_count": 64,
     "metadata": {},
     "output_type": "execute_result"
    }
   ],
   "source": [
    "special_image"
   ]
  },
  {
   "cell_type": "markdown",
   "id": "05dd3ba2-f953-4408-af45-d63f2d9a4e0c",
   "metadata": {},
   "source": [
    "### 2. Preprocesing "
   ]
  },
  {
   "cell_type": "code",
   "execution_count": 165,
   "id": "3a17f6b6-935e-4404-b6d7-78596b9afdec",
   "metadata": {},
   "outputs": [],
   "source": [
    "def scale_image_down_and_gray(np_image, new_rows, new_columns):\n",
    "    \n",
    "    columns = np_image.shape[0]\n",
    "    rows = np_image.shape[1]\n",
    "\n",
    "    factor_columns = columns / new_columns\n",
    "    factor_rows = rows / new_rows\n",
    "\n",
    "    new_image = np.empty([new_columns, new_rows, 1], dtype=numpy.uint8)\n",
    "\n",
    "    print(new_image.shape)\n",
    "    \n",
    "    for row in range(new_rows):\n",
    "        for col in range(new_columns):\n",
    "            new_row = int(row * factor_rows)\n",
    "            new_col = int(col * factor_columns)\n",
    "\n",
    "            pixel = 0.2989 * np_image[new_col][new_row][0] \\\n",
    "                  + 0.5870 * np_image[new_col][new_row][1] \\\n",
    "                  + 0.1140 * np_image[new_col][new_row][2]\n",
    "            \n",
    "            new_image[col][row][0] = pixel\n",
    "    return new_image\n",
    "\n",
    "def scale_image_up(np_image, new_width, new_height):\n",
    "    pass"
   ]
  },
  {
   "cell_type": "code",
   "execution_count": 176,
   "id": "af6dda96-6152-4ebf-84f7-0991b54c9728",
   "metadata": {},
   "outputs": [
    {
     "data": {
      "image/png": "[encoded data removed]",
      "text/plain": [
       "<Figure size 640x480 with 1 Axes>"
      ]
     },
     "metadata": {},
     "output_type": "display_data"
    }
   ],
   "source": [
    "from matplotlib import pyplot as plt\n",
    "plt.imshow(special_image, interpolation='nearest')\n",
    "plt.show()"
   ]
  },
  {
   "cell_type": "code",
   "execution_count": 177,
   "id": "76133d9e-226c-43af-b310-f4b53d0e5052",
   "metadata": {},
   "outputs": [
    {
     "name": "stdout",
     "output_type": "stream",
     "text": [
      "(24, 20, 1)\n"
     ]
    }
   ],
   "source": [
    "down_scaled_image = scale_image_down_and_gray(special_image, 20, 24)"
   ]
  },
  {
   "cell_type": "code",
   "execution_count": 178,
   "id": "e8376a18-fd69-449a-bfca-606886950fd6",
   "metadata": {},
   "outputs": [
    {
     "data": {
      "text/plain": [
       "(24, 20, 1)"
      ]
     },
     "execution_count": 178,
     "metadata": {},
     "output_type": "execute_result"
    }
   ],
   "source": [
    "down_scaled_image.shape"
   ]
  },
  {
   "cell_type": "code",
   "execution_count": 179,
   "id": "a2da6565-73ee-4e8c-9291-c73f5f4d1c3c",
   "metadata": {},
   "outputs": [
    {
     "data": {
      "image/png": "[encoded data removed]",
      "text/plain": [
       "<Figure size 640x480 with 1 Axes>"
      ]
     },
     "metadata": {},
     "output_type": "display_data"
    }
   ],
   "source": [
    "plt.imshow(down_scaled_image, cmap='gray')\n",
    "plt.show()"
   ]
  },
  {
   "cell_type": "code",
   "execution_count": 180,
   "id": "dd994f32-efd8-44b5-816d-59e9454c822e",
   "metadata": {},
   "outputs": [
    {
     "data": {
      "text/plain": [
       "(24, 20, 1)"
      ]
     },
     "execution_count": 180,
     "metadata": {},
     "output_type": "execute_result"
    }
   ],
   "source": [
    "down_scaled_image.shape"
   ]
  },
  {
   "cell_type": "code",
   "execution_count": 181,
   "id": "efcb371d-7108-4efb-9f82-aac53633929f",
   "metadata": {},
   "outputs": [],
   "source": [
    "def bilinear_interpolation(x, y, points):\n",
    "    '''Interpolate (x,y) from values associated with four points.\n",
    "\n",
    "    The four points are a list of four triplets:  (x, y, value).\n",
    "    The four points can be in any order.  They should form a rectangle.\n",
    "\n",
    "        >>> bilinear_interpolation(12, 5.5,\n",
    "        ...                        [(10, 4, 100),\n",
    "        ...                         (20, 4, 200),\n",
    "        ...                         (10, 6, 150),\n",
    "        ...                         (20, 6, 300)])\n",
    "        165.0\n",
    "\n",
    "    '''\n",
    "    # See formula at:  http://en.wikipedia.org/wiki/Bilinear_interpolation\n",
    "\n",
    "    points = sorted(points)               # order points by x, then by y\n",
    "    (x1, y1, q11), (_x1, y2, q12), (x2, _y1, q21), (_x2, _y2, q22) = points\n",
    "\n",
    "    if x1 != _x1 or x2 != _x2 or y1 != _y1 or y2 != _y2:\n",
    "        raise ValueError('points do not form a rectangle')\n",
    "    if not x1 <= x <= x2 or not y1 <= y <= y2:\n",
    "        raise ValueError('(x, y) not within the rectangle')\n",
    "\n",
    "    return (q11 * (x2 - x) * (y2 - y) +\n",
    "            q21 * (x - x1) * (y2 - y) +\n",
    "            q12 * (x2 - x) * (y - y1) +\n",
    "            q22 * (x - x1) * (y - y1)\n",
    "           ) / ((x2 - x1) * (y2 - y1) + 0.0)"
   ]
  },
  {
   "cell_type": "markdown",
   "id": "b0d9179e-90e7-428b-8cfe-039867535a7e",
   "metadata": {},
   "source": [
    "### own kernel to image"
   ]
  },
  {
   "cell_type": "code",
   "execution_count": 182,
   "id": "cfd04a9f-305b-46b4-85e1-9fe6a8ee8922",
   "metadata": {},
   "outputs": [],
   "source": [
    "# article - https://medium.com/@sim30217/bilinear-interpolation-e41fc8b63fb4\n",
    "# Nearest Neighbor - which can result in visible artifacts or jagged edges.\n",
    "# Billinar \n",
    "# Gaussian - https://medium.com/@rohit-krishna/coding-gaussian-blur-operation-from-scratch-in-python-f5a9af0a0c0f\n",
    "# SPline ??? or other common kernel \n",
    "#http://forum.doom9.org/archive/index.php/t-145210.html"
   ]
  },
  {
   "cell_type": "code",
   "execution_count": null,
   "id": "8f72b2fa-23b8-4576-99b1-b416ba0bb822",
   "metadata": {},
   "outputs": [],
   "source": []
  }
 ],
 "metadata": {
  "kernelspec": {
   "display_name": "Python 3 (ipykernel)",
   "language": "python",
   "name": "python3"
  },
  "language_info": {
   "codemirror_mode": {
    "name": "ipython",
    "version": 3
   },
   "file_extension": ".py",
   "mimetype": "text/x-python",
   "name": "python",
   "nbconvert_exporter": "python",
   "pygments_lexer": "ipython3",
   "version": "3.10.12"
  }
 },
 "nbformat": 4,
 "nbformat_minor": 5
}
