{
 "cells": [
  {
   "cell_type": "code",
   "execution_count": 1,
   "id": "4114e192-ca0e-43e5-bdfa-5cd3c6761259",
   "metadata": {},
   "outputs": [
    {
     "name": "stdout",
     "output_type": "stream",
     "text": [
      "nvcc: NVIDIA (R) Cuda compiler driver\n",
      "Copyright (c) 2005-2023 NVIDIA Corporation\n",
      "Built on Fri_Jan__6_16:45:21_PST_2023\n",
      "Cuda compilation tools, release 12.0, V12.0.140\n",
      "Build cuda_12.0.r12.0/compiler.32267302_0\n"
     ]
    }
   ],
   "source": [
    "!nvcc --version"
   ]
  },
  {
   "cell_type": "code",
   "execution_count": 2,
   "id": "857ce67c-a045-4f71-bad7-4a31fcaff645",
   "metadata": {},
   "outputs": [
    {
     "name": "stdout",
     "output_type": "stream",
     "text": [
      "Python 3.10.12 (main, Nov 20 2023, 15:14:05) [GCC 11.4.0] on linux\n",
      "Type \"help\", \"copyright\", \"credits\" or \"license\" for more information.\n",
      ">>> \n",
      "Traceback (most recent call last):\n",
      "  File \"<stdin>\", line 1, in <module>\n",
      "KeyboardInterrupt\n",
      ">>> "
     ]
    }
   ],
   "source": [
    "!python3"
   ]
  },
  {
   "cell_type": "code",
   "execution_count": 3,
   "id": "7633d51b-9bbf-48ce-b2d2-534f1f15cf4e",
   "metadata": {},
   "outputs": [
    {
     "name": "stdout",
     "output_type": "stream",
     "text": [
      "Tue Aug 27 22:01:14 2024       \n",
      "+-----------------------------------------------------------------------------------------+\n",
      "| NVIDIA-SMI 550.90.07              Driver Version: 550.90.07      CUDA Version: 12.4     |\n",
      "|-----------------------------------------+------------------------+----------------------+\n",
      "| GPU  Name                 Persistence-M | Bus-Id          Disp.A | Volatile Uncorr. ECC |\n",
      "| Fan  Temp   Perf          Pwr:Usage/Cap |           Memory-Usage | GPU-Util  Compute M. |\n",
      "|                                         |                        |               MIG M. |\n",
      "|=========================================+========================+======================|\n",
      "|   0  NVIDIA GeForce GTX 1060        Off |   00000000:01:00.0  On |                  N/A |\n",
      "| N/A   53C    P8              5W /   78W |      56MiB /   6144MiB |     28%      Default |\n",
      "|                                         |                        |                  N/A |\n",
      "+-----------------------------------------+------------------------+----------------------+\n",
      "                                                                                         \n",
      "+-----------------------------------------------------------------------------------------+\n",
      "| Processes:                                                                              |\n",
      "|  GPU   GI   CI        PID   Type   Process name                              GPU Memory |\n",
      "|        ID   ID                                                               Usage      |\n",
      "|=========================================================================================|\n",
      "+-----------------------------------------------------------------------------------------+\n"
     ]
    }
   ],
   "source": [
    "!nvidia-smi"
   ]
  },
  {
   "cell_type": "markdown",
   "id": "55f99d84-eb20-4b72-96e4-30aa20df39c9",
   "metadata": {},
   "source": [
    "### Api"
   ]
  },
  {
   "cell_type": "code",
   "execution_count": 4,
   "id": "8dd550fc-2bd5-442f-94ff-01efb7ef5b43",
   "metadata": {},
   "outputs": [],
   "source": [
    "import time\n",
    "import numpy as np\n",
    "import os\n",
    "import _pickle as cPickle\n",
    "import numpy as np\n",
    "import imagenet_stubs\n",
    "from imagenet_stubs.imagenet_2012_labels import label_to_name as IMAGENET_CLASS_NAMES\n",
    "import pycuda.autoinit\n",
    "import pycuda.driver as drv\n",
    "import numpy\n",
    "from PIL import Image\n",
    "import imagehash\n",
    "\n",
    "from pycuda.compiler import SourceModule\n",
    "\n",
    "PATH = \"../data/cifar-10-batches-py/\"\n",
    "IMAGENET_PATH = \"../data/Imagenet32_train/\""
   ]
  },
  {
   "cell_type": "code",
   "execution_count": 16,
   "id": "4882a52b-a01d-4f3c-baef-f2836a119726",
   "metadata": {},
   "outputs": [],
   "source": [
    "def unpickleImages(pairs):\n",
    "    images = set()\n",
    "    for elem in pairs:\n",
    "        images.add(elem[0])\n",
    "        images.add(elem[1])\n",
    "\n",
    "    return list(images)"
   ]
  },
  {
   "cell_type": "code",
   "execution_count": 17,
   "id": "2ed0f481-6b4a-4db6-91c1-7dddcc400da9",
   "metadata": {},
   "outputs": [
    {
     "data": {
      "text/plain": [
       "[1, 2, 3, 4]"
      ]
     },
     "execution_count": 17,
     "metadata": {},
     "output_type": "execute_result"
    }
   ],
   "source": [
    "unpickleImages([(1,2, 0.85),(3,4,0.34)])"
   ]
  },
  {
   "cell_type": "code",
   "execution_count": 21,
   "id": "72907db4-0730-4de1-aa81-3963f23c6990",
   "metadata": {},
   "outputs": [
    {
     "ename": "NameError",
     "evalue": "name 'cuNN' is not defined",
     "output_type": "error",
     "traceback": [
      "\u001b[0;31m---------------------------------------------------------------------------\u001b[0m",
      "\u001b[0;31mNameError\u001b[0m                                 Traceback (most recent call last)",
      "Cell \u001b[0;32mIn[21], line 1\u001b[0m\n\u001b[0;32m----> 1\u001b[0m nnLSH \u001b[38;5;241m=\u001b[39m \u001b[43mcuNN\u001b[49m(\u001b[38;5;241m8\u001b[39m, \u001b[38;5;241m8\u001b[39m)\n\u001b[1;32m      2\u001b[0m nnLSH\u001b[38;5;241m.\u001b[39mcompute_hash(CIFAR_IMAGES)\n\u001b[1;32m      3\u001b[0m pairs \u001b[38;5;241m=\u001b[39m nnLSH\u001b[38;5;241m.\u001b[39mcompute_candidate()\n",
      "\u001b[0;31mNameError\u001b[0m: name 'cuNN' is not defined"
     ]
    }
   ],
   "source": [
    "nnLSH = cuNN(8, 8)\n",
    "nnLSH.compute_hash(CIFAR_IMAGES)\n",
    "pairs = nnLSH.compute_candidate()\n",
    "duplicates = nnLSH.check_candidate(pairs)\n",
    "\n",
    "# get images from duplicates\n",
    "DUPLICATED_IMAGES = unpickleImages(duplicates)\n",
    "\n",
    "perceptualLSH = cuPerceptual(8, 8)\n",
    "perceptualLSH.compute_hash(DUPLICATED_IMAGES)\n",
    "pairs2 = perceptualLSH.compute_candidate()\n",
    "duplicates2 = perceptualLSH.check_candidate(pairs2)\n",
    "\n",
    "#calculate metrics"
   ]
  },
  {
   "cell_type": "code",
   "execution_count": 22,
   "id": "b36dfa7d-f3a7-4757-b87d-d4d0dc1335d1",
   "metadata": {},
   "outputs": [
    {
     "ename": "NameError",
     "evalue": "name 'cuPerceptual' is not defined",
     "output_type": "error",
     "traceback": [
      "\u001b[0;31m---------------------------------------------------------------------------\u001b[0m",
      "\u001b[0;31mNameError\u001b[0m                                 Traceback (most recent call last)",
      "Cell \u001b[0;32mIn[22], line 1\u001b[0m\n\u001b[0;32m----> 1\u001b[0m perceptualLSH \u001b[38;5;241m=\u001b[39m \u001b[43mcuPerceptual\u001b[49m(\u001b[38;5;241m8\u001b[39m, \u001b[38;5;241m8\u001b[39m)\n\u001b[1;32m      2\u001b[0m perceptualLSH\u001b[38;5;241m.\u001b[39mcompute_hash(CIFAR_IMAGES)\n\u001b[1;32m      3\u001b[0m pairs3 \u001b[38;5;241m=\u001b[39m perceptualLSH\u001b[38;5;241m.\u001b[39mcompute_candidate()\n",
      "\u001b[0;31mNameError\u001b[0m: name 'cuPerceptual' is not defined"
     ]
    }
   ],
   "source": [
    "perceptualLSH = cuPerceptual(8, 8)\n",
    "perceptualLSH.compute_hash(CIFAR_IMAGES)\n",
    "pairs3 = perceptualLSH.compute_candidate()\n",
    "duplicates3 = perceptualLSH.check_candidate(pairs3)\n",
    "\n",
    "# get images from duplicates\n",
    "DUPLICATED_IMAGES2 = unpickleImages(duplicates3)\n",
    "\n",
    "nnLSH = cuNN(8, 8)\n",
    "nnLSH.compute_hash(DUPLICATED_IMAGES2)\n",
    "pairs4 = nnLSH.compute_candidate()\n",
    "duplicates4 = nnLSH.check_candidate(pairs4)\n",
    "\n",
    "#calculate metrics"
   ]
  },
  {
   "cell_type": "code",
   "execution_count": null,
   "id": "f14ad0fa-fe19-419a-8589-35138397a40c",
   "metadata": {},
   "outputs": [],
   "source": []
  }
 ],
 "metadata": {
  "kernelspec": {
   "display_name": "Python 3 (ipykernel)",
   "language": "python",
   "name": "python3"
  },
  "language_info": {
   "codemirror_mode": {
    "name": "ipython",
    "version": 3
   },
   "file_extension": ".py",
   "mimetype": "text/x-python",
   "name": "python",
   "nbconvert_exporter": "python",
   "pygments_lexer": "ipython3",
   "version": "3.10.12"
  }
 },
 "nbformat": 4,
 "nbformat_minor": 5
}
